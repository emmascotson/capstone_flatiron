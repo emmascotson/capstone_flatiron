{
  "cells": [
    {
      "cell_type": "markdown",
      "id": "14b7fce5-3646-4b20-a991-01a9f65176cd",
      "metadata": {
        "id": "14b7fce5-3646-4b20-a991-01a9f65176cd"
      },
      "source": [
        "# Behavioral and Genetic Factors Predictive of Diabetes\n",
        "\n",
        "# Overview\n",
        "\n",
        "# Business Problem\n",
        "\n",
        "# Data Understanding\n",
        "\n",
        "Due to the size of the dataset, I can not directly push it to my online repository. The **dataset can be accessed here**:\n",
        "\n",
        "- [2022 BRFSS Survey Data and Documentation](https://www.cdc.gov/brfss/annual_data/annual_2022.html)\n",
        "\n",
        "The **codebook** can be accessed here:\n",
        "\n",
        "- [LLCP 2022: Codebook Report](/Users/emmascotson/Documents/capstone_flatiron/data/Codebook_Report.pdf)\n",
        "\n",
        "# Data Preparation\n",
        "\n",
        "This dataset has so many columns. It will be most efficient to **harness domain knowledge** for initial feature selection, rather than going through the entirety of the codebook. Then I can hone and tweak as needed.\n",
        "\n",
        "Below are some *Risk Factors of Diabetes* that exist as features in this dataset, pulled from various credible sources such as the American Heart Association, National Institutes of Health, Maya Clinic, Centers for Disease Control and Prevention, etc.\n",
        "\n",
        "## Diabetes Risk Factors\n",
        "\n",
        "#### High Risk\n",
        "\n",
        "High risk factors directly linked to the development of Type 2 Diabetes:\n",
        "\n",
        "- **Weight**: Being overweight or obese\n",
        "- **Exercise/Activity**: Being less physically active active (less than 3 times a week)\n",
        "- **Family History**: Having a parent or sibling with diabetes\n",
        "- **Race and Ethnicity**: People of certain races and ethnicites - *including Black, Hispanic, Native American and Asian people, and Pacific Islanders* - are more likely to develop diabetes than white people.\n",
        "- **Age**: Risk increases with age, especially after ages 35-45\n",
        "- **Prediabetes**: Diagnosed with prediabetes\n",
        "- **Pregnancy**: Having gestational diabetes during pregnancy puts people at greater risk from developing type 2 diabetes\n",
        "- **NAFLD**: Diagnosed with Non-Alcoholic Fatty Liver Disease\n",
        "- **High Blood Pressure/Hypertension**\n",
        "- **Smoking**\n",
        "\n",
        "#### Other Possible Risk Factors\n",
        "\n",
        "Additional risk factors that might help indirectly induce diabetes, when paired with some of the high-risk factors above.\n",
        "\n",
        "- **Stress**: Stress hormones might cause blood sugar levels to rise, and stop insulin-producing cells in the pancreas from working properly\n",
        "- **Lack of Sleep**: Insufficient sleep can cause stress hormones which disrupt the body's ability to release insulin after you eat\n",
        "- **Food Quality**: Frequently eating highly processed, high-carbohydrate foods and saturated fats\n",
        "- **Excess Alcohol**: Excessive alcohol consumption\n",
        "- **Lower Income**\n",
        "- **Gum Disease**: Inflammation from gum disease can lead to higher blood glucose levels\n",
        "- **Pancreatic Cancer**: Diabetes might be a symptom of pancreatic cancer\n",
        "\n",
        "#### Additional Considerations\n",
        "\n",
        "Depending on the amount of time remaining prior to our deadline, and -- Asthma, other kinds of cancer, arthritis\n",
        "\n",
        "Type 1 VS. Type 2 -- **In the United States**, white people more likely to develop type 1 usually in children, teens, or young adults\n",
        "\n",
        "# Modeling\n",
        "\n",
        "# Evaluation"
      ]
    },
    {
      "cell_type": "code",
      "execution_count": 26,
      "id": "225ae37e-8187-4589-8881-a5c146656d02",
      "metadata": {
        "id": "225ae37e-8187-4589-8881-a5c146656d02"
      },
      "outputs": [],
      "source": [
        "import pandas as pd\n",
        "import numpy as np\n",
        "\n",
        "import seaborn as sns\n",
        "import matplotlib.pyplot as plt\n",
        "\n",
        "from sklearn.cluster import KMeans\n",
        "from sklearn.preprocessing import StandardScaler\n",
        "from sklearn.impute import SimpleImputer\n",
        "\n",
        "from sklearn.naive_bayes import MultinomialNB\n",
        "from sklearn.model_selection import GridSearchCV, train_test_split\n",
        "from sklearn.datasets import make_classification\n",
        "\n",
        "import tensorflow as tf\n",
        "from tensorflow.python.client import device_lib\n",
        "\n",
        "from google.colab import drive\n",
        "from google.colab import files\n",
        "\n",
        "import os\n",
        "import zipfile\n",
        "import shutil"
      ]
    },
    {
      "cell_type": "code",
      "execution_count": 2,
      "id": "220cdc3e-8fdb-416a-b211-da7bf510bc9d",
      "metadata": {
        "id": "220cdc3e-8fdb-416a-b211-da7bf510bc9d",
        "outputId": "0d168b11-f852-4b9a-f1a2-f1e03e1517c3",
        "colab": {
          "base_uri": "https://localhost:8080/"
        }
      },
      "outputs": [
        {
          "output_type": "stream",
          "name": "stdout",
          "text": [
            "/content\n",
            "['.config', 'sample_data']\n"
          ]
        }
      ],
      "source": [
        "print(os.getcwd())\n",
        "# List files in the current directory\n",
        "print(os.listdir('.'))"
      ]
    },
    {
      "cell_type": "markdown",
      "id": "725aa903-3d01-4ab2-8648-17f290593170",
      "metadata": {
        "id": "725aa903-3d01-4ab2-8648-17f290593170"
      },
      "source": [
        "# Loading the Data - Colab Pro"
      ]
    },
    {
      "cell_type": "markdown",
      "source": [
        "**(Originally worked in notebook on local repo, switched to Colab Pro -- leaving code to load files in local repo as markdown)**:\n",
        "\n",
        "##### Specify the full path to the XPT file\n",
        "file_path = '/Users/emmascotson/Documents/capstone_flatiron/data/diabetes.xpt'\n",
        "\n",
        "##### Attempt to read the XPT file\n",
        "try:\n",
        "    data = pd.read_sas(file_path, format='xport')\n",
        "    print(data.head())\n",
        "except FileNotFoundError as e:\n",
        "    print(f\"Error: {e}\")\n",
        "except Exception as e:\n",
        "    print(f\"An error occurred: {e}\")"
      ],
      "metadata": {
        "id": "49cd1afa-6dfa-4326-ae7d-9f00d5d45d08"
      },
      "id": "49cd1afa-6dfa-4326-ae7d-9f00d5d45d08"
    },
    {
      "cell_type": "code",
      "source": [
        "drive.mount('/content/drive')"
      ],
      "metadata": {
        "colab": {
          "base_uri": "https://localhost:8080/"
        },
        "id": "6OiGu7rzHSA4",
        "outputId": "720daf1a-b1c4-4c9f-8c21-61b9eff37275"
      },
      "id": "6OiGu7rzHSA4",
      "execution_count": 5,
      "outputs": [
        {
          "output_type": "stream",
          "name": "stdout",
          "text": [
            "Mounted at /content/drive\n"
          ]
        }
      ]
    },
    {
      "cell_type": "code",
      "source": [
        "uploaded = files.upload()"
      ],
      "metadata": {
        "colab": {
          "base_uri": "https://localhost:8080/",
          "height": 74
        },
        "id": "IkzGPz5-IUIk",
        "outputId": "24aefbd3-1cf0-43fa-d0a0-fa78cc08bdbb"
      },
      "id": "IkzGPz5-IUIk",
      "execution_count": 10,
      "outputs": [
        {
          "output_type": "display_data",
          "data": {
            "text/plain": [
              "<IPython.core.display.HTML object>"
            ],
            "text/html": [
              "\n",
              "     <input type=\"file\" id=\"files-13fa94ab-fdad-4b8d-a842-8db92dc24995\" name=\"files[]\" multiple disabled\n",
              "        style=\"border:none\" />\n",
              "     <output id=\"result-13fa94ab-fdad-4b8d-a842-8db92dc24995\">\n",
              "      Upload widget is only available when the cell has been executed in the\n",
              "      current browser session. Please rerun this cell to enable.\n",
              "      </output>\n",
              "      <script>// Copyright 2017 Google LLC\n",
              "//\n",
              "// Licensed under the Apache License, Version 2.0 (the \"License\");\n",
              "// you may not use this file except in compliance with the License.\n",
              "// You may obtain a copy of the License at\n",
              "//\n",
              "//      http://www.apache.org/licenses/LICENSE-2.0\n",
              "//\n",
              "// Unless required by applicable law or agreed to in writing, software\n",
              "// distributed under the License is distributed on an \"AS IS\" BASIS,\n",
              "// WITHOUT WARRANTIES OR CONDITIONS OF ANY KIND, either express or implied.\n",
              "// See the License for the specific language governing permissions and\n",
              "// limitations under the License.\n",
              "\n",
              "/**\n",
              " * @fileoverview Helpers for google.colab Python module.\n",
              " */\n",
              "(function(scope) {\n",
              "function span(text, styleAttributes = {}) {\n",
              "  const element = document.createElement('span');\n",
              "  element.textContent = text;\n",
              "  for (const key of Object.keys(styleAttributes)) {\n",
              "    element.style[key] = styleAttributes[key];\n",
              "  }\n",
              "  return element;\n",
              "}\n",
              "\n",
              "// Max number of bytes which will be uploaded at a time.\n",
              "const MAX_PAYLOAD_SIZE = 100 * 1024;\n",
              "\n",
              "function _uploadFiles(inputId, outputId) {\n",
              "  const steps = uploadFilesStep(inputId, outputId);\n",
              "  const outputElement = document.getElementById(outputId);\n",
              "  // Cache steps on the outputElement to make it available for the next call\n",
              "  // to uploadFilesContinue from Python.\n",
              "  outputElement.steps = steps;\n",
              "\n",
              "  return _uploadFilesContinue(outputId);\n",
              "}\n",
              "\n",
              "// This is roughly an async generator (not supported in the browser yet),\n",
              "// where there are multiple asynchronous steps and the Python side is going\n",
              "// to poll for completion of each step.\n",
              "// This uses a Promise to block the python side on completion of each step,\n",
              "// then passes the result of the previous step as the input to the next step.\n",
              "function _uploadFilesContinue(outputId) {\n",
              "  const outputElement = document.getElementById(outputId);\n",
              "  const steps = outputElement.steps;\n",
              "\n",
              "  const next = steps.next(outputElement.lastPromiseValue);\n",
              "  return Promise.resolve(next.value.promise).then((value) => {\n",
              "    // Cache the last promise value to make it available to the next\n",
              "    // step of the generator.\n",
              "    outputElement.lastPromiseValue = value;\n",
              "    return next.value.response;\n",
              "  });\n",
              "}\n",
              "\n",
              "/**\n",
              " * Generator function which is called between each async step of the upload\n",
              " * process.\n",
              " * @param {string} inputId Element ID of the input file picker element.\n",
              " * @param {string} outputId Element ID of the output display.\n",
              " * @return {!Iterable<!Object>} Iterable of next steps.\n",
              " */\n",
              "function* uploadFilesStep(inputId, outputId) {\n",
              "  const inputElement = document.getElementById(inputId);\n",
              "  inputElement.disabled = false;\n",
              "\n",
              "  const outputElement = document.getElementById(outputId);\n",
              "  outputElement.innerHTML = '';\n",
              "\n",
              "  const pickedPromise = new Promise((resolve) => {\n",
              "    inputElement.addEventListener('change', (e) => {\n",
              "      resolve(e.target.files);\n",
              "    });\n",
              "  });\n",
              "\n",
              "  const cancel = document.createElement('button');\n",
              "  inputElement.parentElement.appendChild(cancel);\n",
              "  cancel.textContent = 'Cancel upload';\n",
              "  const cancelPromise = new Promise((resolve) => {\n",
              "    cancel.onclick = () => {\n",
              "      resolve(null);\n",
              "    };\n",
              "  });\n",
              "\n",
              "  // Wait for the user to pick the files.\n",
              "  const files = yield {\n",
              "    promise: Promise.race([pickedPromise, cancelPromise]),\n",
              "    response: {\n",
              "      action: 'starting',\n",
              "    }\n",
              "  };\n",
              "\n",
              "  cancel.remove();\n",
              "\n",
              "  // Disable the input element since further picks are not allowed.\n",
              "  inputElement.disabled = true;\n",
              "\n",
              "  if (!files) {\n",
              "    return {\n",
              "      response: {\n",
              "        action: 'complete',\n",
              "      }\n",
              "    };\n",
              "  }\n",
              "\n",
              "  for (const file of files) {\n",
              "    const li = document.createElement('li');\n",
              "    li.append(span(file.name, {fontWeight: 'bold'}));\n",
              "    li.append(span(\n",
              "        `(${file.type || 'n/a'}) - ${file.size} bytes, ` +\n",
              "        `last modified: ${\n",
              "            file.lastModifiedDate ? file.lastModifiedDate.toLocaleDateString() :\n",
              "                                    'n/a'} - `));\n",
              "    const percent = span('0% done');\n",
              "    li.appendChild(percent);\n",
              "\n",
              "    outputElement.appendChild(li);\n",
              "\n",
              "    const fileDataPromise = new Promise((resolve) => {\n",
              "      const reader = new FileReader();\n",
              "      reader.onload = (e) => {\n",
              "        resolve(e.target.result);\n",
              "      };\n",
              "      reader.readAsArrayBuffer(file);\n",
              "    });\n",
              "    // Wait for the data to be ready.\n",
              "    let fileData = yield {\n",
              "      promise: fileDataPromise,\n",
              "      response: {\n",
              "        action: 'continue',\n",
              "      }\n",
              "    };\n",
              "\n",
              "    // Use a chunked sending to avoid message size limits. See b/62115660.\n",
              "    let position = 0;\n",
              "    do {\n",
              "      const length = Math.min(fileData.byteLength - position, MAX_PAYLOAD_SIZE);\n",
              "      const chunk = new Uint8Array(fileData, position, length);\n",
              "      position += length;\n",
              "\n",
              "      const base64 = btoa(String.fromCharCode.apply(null, chunk));\n",
              "      yield {\n",
              "        response: {\n",
              "          action: 'append',\n",
              "          file: file.name,\n",
              "          data: base64,\n",
              "        },\n",
              "      };\n",
              "\n",
              "      let percentDone = fileData.byteLength === 0 ?\n",
              "          100 :\n",
              "          Math.round((position / fileData.byteLength) * 100);\n",
              "      percent.textContent = `${percentDone}% done`;\n",
              "\n",
              "    } while (position < fileData.byteLength);\n",
              "  }\n",
              "\n",
              "  // All done.\n",
              "  yield {\n",
              "    response: {\n",
              "      action: 'complete',\n",
              "    }\n",
              "  };\n",
              "}\n",
              "\n",
              "scope.google = scope.google || {};\n",
              "scope.google.colab = scope.google.colab || {};\n",
              "scope.google.colab._files = {\n",
              "  _uploadFiles,\n",
              "  _uploadFilesContinue,\n",
              "};\n",
              "})(self);\n",
              "</script> "
            ]
          },
          "metadata": {}
        },
        {
          "output_type": "stream",
          "name": "stdout",
          "text": [
            "Saving capstone_flatiron.zip to capstone_flatiron.zip\n"
          ]
        }
      ]
    },
    {
      "cell_type": "code",
      "source": [
        "# Define the path to the ZIP file and the extraction directory\n",
        "zip_path = '/content/capstone_flatiron.zip'\n",
        "extract_path = '/content'\n",
        "\n",
        "# Unzip the file\n",
        "with zipfile.ZipFile(zip_path, 'r') as zip_ref:\n",
        "    zip_ref.extractall(extract_path)"
      ],
      "metadata": {
        "id": "_EAE8EGWKt9s"
      },
      "id": "_EAE8EGWKt9s",
      "execution_count": 12,
      "outputs": []
    },
    {
      "cell_type": "code",
      "source": [
        "# List the contents of the /content directory\n",
        "!ls /content"
      ],
      "metadata": {
        "colab": {
          "base_uri": "https://localhost:8080/"
        },
        "id": "EuXMbSJaK2fK",
        "outputId": "f7d5aaa1-27f2-4007-a98f-efb92369fe1b"
      },
      "id": "EuXMbSJaK2fK",
      "execution_count": 13,
      "outputs": [
        {
          "output_type": "stream",
          "name": "stdout",
          "text": [
            "capstone_flatiron  capstone_flatiron.zip  drive  sample_data\n"
          ]
        }
      ]
    },
    {
      "cell_type": "code",
      "source": [
        "# Define the destination directory path in Google Drive\n",
        "drive_data_directory = '/content/drive/MyDrive/Colab Notebooks/data'\n",
        "\n",
        "# Create the directory if it does not exist\n",
        "os.makedirs(drive_data_directory, exist_ok=True)"
      ],
      "metadata": {
        "id": "lpBSWi_OK-6l"
      },
      "id": "lpBSWi_OK-6l",
      "execution_count": 14,
      "outputs": []
    },
    {
      "cell_type": "code",
      "source": [
        "# Define source and destination paths\n",
        "source_data_path = '/content/capstone_flatiron/data/diabetes.xpt'  # Adjust path\n",
        "destination_data_path = '/content/drive/MyDrive/Colab Notebooks/data/diabetes.xpt'  # Adjust path\n",
        "\n",
        "# Move the file\n",
        "shutil.move(source_data_path, destination_data_path)"
      ],
      "metadata": {
        "colab": {
          "base_uri": "https://localhost:8080/",
          "height": 35
        },
        "id": "aM-_t0OmLA8L",
        "outputId": "b0a737fd-803b-4015-8aa3-11124a50dd28"
      },
      "id": "aM-_t0OmLA8L",
      "execution_count": 17,
      "outputs": [
        {
          "output_type": "execute_result",
          "data": {
            "text/plain": [
              "'/content/drive/MyDrive/Colab Notebooks/data/diabetes.xpt'"
            ],
            "application/vnd.google.colaboratory.intrinsic+json": {
              "type": "string"
            }
          },
          "metadata": {},
          "execution_count": 17
        }
      ]
    },
    {
      "cell_type": "code",
      "source": [
        "# Define the path to the XPT file\n",
        "xpt_file_path = '/content/drive/MyDrive/Colab Notebooks/data/diabetes.xpt'  # Adjust path\n",
        "\n",
        "# Load the XPT file\n",
        "data = pd.read_sas(xpt_file_path, format='xport')"
      ],
      "metadata": {
        "id": "B9N8LTJ4HX-V"
      },
      "id": "B9N8LTJ4HX-V",
      "execution_count": 22,
      "outputs": []
    },
    {
      "cell_type": "code",
      "source": [
        "# List available devices\n",
        "print(device_lib.list_local_devices())"
      ],
      "metadata": {
        "colab": {
          "base_uri": "https://localhost:8080/"
        },
        "id": "13yBSsFQTkPX",
        "outputId": "667e5d21-12f9-4bd6-8daf-2e37b073272d"
      },
      "id": "13yBSsFQTkPX",
      "execution_count": 25,
      "outputs": [
        {
          "output_type": "stream",
          "name": "stdout",
          "text": [
            "[name: \"/device:CPU:0\"\n",
            "device_type: \"CPU\"\n",
            "memory_limit: 268435456\n",
            "locality {\n",
            "}\n",
            "incarnation: 12918121680815978843\n",
            "xla_global_id: -1\n",
            "]\n"
          ]
        }
      ]
    },
    {
      "cell_type": "code",
      "execution_count": 23,
      "id": "4f6a0072-d9b3-4329-81ce-7e4debfee3dc",
      "metadata": {
        "id": "4f6a0072-d9b3-4329-81ce-7e4debfee3dc",
        "outputId": "2d7a19e4-2462-4fb3-f263-e3cae1654b87",
        "colab": {
          "base_uri": "https://localhost:8080/",
          "height": 256
        }
      },
      "outputs": [
        {
          "output_type": "execute_result",
          "data": {
            "text/plain": [
              "   _STATE  FMONTH        IDATE IMONTH   IDAY    IYEAR  DISPCODE  \\\n",
              "0     1.0     1.0  b'02032022'  b'02'  b'03'  b'2022'    1100.0   \n",
              "1     1.0     1.0  b'02042022'  b'02'  b'04'  b'2022'    1100.0   \n",
              "2     1.0     1.0  b'02022022'  b'02'  b'02'  b'2022'    1100.0   \n",
              "3     1.0     1.0  b'02032022'  b'02'  b'03'  b'2022'    1100.0   \n",
              "4     1.0     1.0  b'02022022'  b'02'  b'02'  b'2022'    1100.0   \n",
              "\n",
              "           SEQNO          _PSU  CTELENM1  ...  _SMOKGRP  _LCSREC  DRNKANY6  \\\n",
              "0  b'2022000001'  2.022000e+09       1.0  ...       4.0      NaN       2.0   \n",
              "1  b'2022000002'  2.022000e+09       1.0  ...       4.0      NaN       2.0   \n",
              "2  b'2022000003'  2.022000e+09       1.0  ...       4.0      NaN       2.0   \n",
              "3  b'2022000004'  2.022000e+09       1.0  ...       3.0      2.0       2.0   \n",
              "4  b'2022000005'  2.022000e+09       1.0  ...       4.0      NaN       1.0   \n",
              "\n",
              "       DROCDY4_  _RFBING6      _DRNKWK2  _RFDRHV8  _FLSHOT7  _PNEUMO3  \\\n",
              "0  5.397605e-79       1.0  5.397605e-79       1.0       1.0       2.0   \n",
              "1  5.397605e-79       1.0  5.397605e-79       1.0       2.0       2.0   \n",
              "2  5.397605e-79       1.0  5.397605e-79       1.0       NaN       NaN   \n",
              "3  5.397605e-79       1.0  5.397605e-79       1.0       9.0       9.0   \n",
              "4  1.000000e+01       1.0  1.400000e+02       1.0       NaN       NaN   \n",
              "\n",
              "   _AIDTST4  \n",
              "0       2.0  \n",
              "1       2.0  \n",
              "2       2.0  \n",
              "3       2.0  \n",
              "4       2.0  \n",
              "\n",
              "[5 rows x 328 columns]"
            ],
            "text/html": [
              "\n",
              "  <div id=\"df-43893750-daff-44a2-94a6-92bdfb8314b7\" class=\"colab-df-container\">\n",
              "    <div>\n",
              "<style scoped>\n",
              "    .dataframe tbody tr th:only-of-type {\n",
              "        vertical-align: middle;\n",
              "    }\n",
              "\n",
              "    .dataframe tbody tr th {\n",
              "        vertical-align: top;\n",
              "    }\n",
              "\n",
              "    .dataframe thead th {\n",
              "        text-align: right;\n",
              "    }\n",
              "</style>\n",
              "<table border=\"1\" class=\"dataframe\">\n",
              "  <thead>\n",
              "    <tr style=\"text-align: right;\">\n",
              "      <th></th>\n",
              "      <th>_STATE</th>\n",
              "      <th>FMONTH</th>\n",
              "      <th>IDATE</th>\n",
              "      <th>IMONTH</th>\n",
              "      <th>IDAY</th>\n",
              "      <th>IYEAR</th>\n",
              "      <th>DISPCODE</th>\n",
              "      <th>SEQNO</th>\n",
              "      <th>_PSU</th>\n",
              "      <th>CTELENM1</th>\n",
              "      <th>...</th>\n",
              "      <th>_SMOKGRP</th>\n",
              "      <th>_LCSREC</th>\n",
              "      <th>DRNKANY6</th>\n",
              "      <th>DROCDY4_</th>\n",
              "      <th>_RFBING6</th>\n",
              "      <th>_DRNKWK2</th>\n",
              "      <th>_RFDRHV8</th>\n",
              "      <th>_FLSHOT7</th>\n",
              "      <th>_PNEUMO3</th>\n",
              "      <th>_AIDTST4</th>\n",
              "    </tr>\n",
              "  </thead>\n",
              "  <tbody>\n",
              "    <tr>\n",
              "      <th>0</th>\n",
              "      <td>1.0</td>\n",
              "      <td>1.0</td>\n",
              "      <td>b'02032022'</td>\n",
              "      <td>b'02'</td>\n",
              "      <td>b'03'</td>\n",
              "      <td>b'2022'</td>\n",
              "      <td>1100.0</td>\n",
              "      <td>b'2022000001'</td>\n",
              "      <td>2.022000e+09</td>\n",
              "      <td>1.0</td>\n",
              "      <td>...</td>\n",
              "      <td>4.0</td>\n",
              "      <td>NaN</td>\n",
              "      <td>2.0</td>\n",
              "      <td>5.397605e-79</td>\n",
              "      <td>1.0</td>\n",
              "      <td>5.397605e-79</td>\n",
              "      <td>1.0</td>\n",
              "      <td>1.0</td>\n",
              "      <td>2.0</td>\n",
              "      <td>2.0</td>\n",
              "    </tr>\n",
              "    <tr>\n",
              "      <th>1</th>\n",
              "      <td>1.0</td>\n",
              "      <td>1.0</td>\n",
              "      <td>b'02042022'</td>\n",
              "      <td>b'02'</td>\n",
              "      <td>b'04'</td>\n",
              "      <td>b'2022'</td>\n",
              "      <td>1100.0</td>\n",
              "      <td>b'2022000002'</td>\n",
              "      <td>2.022000e+09</td>\n",
              "      <td>1.0</td>\n",
              "      <td>...</td>\n",
              "      <td>4.0</td>\n",
              "      <td>NaN</td>\n",
              "      <td>2.0</td>\n",
              "      <td>5.397605e-79</td>\n",
              "      <td>1.0</td>\n",
              "      <td>5.397605e-79</td>\n",
              "      <td>1.0</td>\n",
              "      <td>2.0</td>\n",
              "      <td>2.0</td>\n",
              "      <td>2.0</td>\n",
              "    </tr>\n",
              "    <tr>\n",
              "      <th>2</th>\n",
              "      <td>1.0</td>\n",
              "      <td>1.0</td>\n",
              "      <td>b'02022022'</td>\n",
              "      <td>b'02'</td>\n",
              "      <td>b'02'</td>\n",
              "      <td>b'2022'</td>\n",
              "      <td>1100.0</td>\n",
              "      <td>b'2022000003'</td>\n",
              "      <td>2.022000e+09</td>\n",
              "      <td>1.0</td>\n",
              "      <td>...</td>\n",
              "      <td>4.0</td>\n",
              "      <td>NaN</td>\n",
              "      <td>2.0</td>\n",
              "      <td>5.397605e-79</td>\n",
              "      <td>1.0</td>\n",
              "      <td>5.397605e-79</td>\n",
              "      <td>1.0</td>\n",
              "      <td>NaN</td>\n",
              "      <td>NaN</td>\n",
              "      <td>2.0</td>\n",
              "    </tr>\n",
              "    <tr>\n",
              "      <th>3</th>\n",
              "      <td>1.0</td>\n",
              "      <td>1.0</td>\n",
              "      <td>b'02032022'</td>\n",
              "      <td>b'02'</td>\n",
              "      <td>b'03'</td>\n",
              "      <td>b'2022'</td>\n",
              "      <td>1100.0</td>\n",
              "      <td>b'2022000004'</td>\n",
              "      <td>2.022000e+09</td>\n",
              "      <td>1.0</td>\n",
              "      <td>...</td>\n",
              "      <td>3.0</td>\n",
              "      <td>2.0</td>\n",
              "      <td>2.0</td>\n",
              "      <td>5.397605e-79</td>\n",
              "      <td>1.0</td>\n",
              "      <td>5.397605e-79</td>\n",
              "      <td>1.0</td>\n",
              "      <td>9.0</td>\n",
              "      <td>9.0</td>\n",
              "      <td>2.0</td>\n",
              "    </tr>\n",
              "    <tr>\n",
              "      <th>4</th>\n",
              "      <td>1.0</td>\n",
              "      <td>1.0</td>\n",
              "      <td>b'02022022'</td>\n",
              "      <td>b'02'</td>\n",
              "      <td>b'02'</td>\n",
              "      <td>b'2022'</td>\n",
              "      <td>1100.0</td>\n",
              "      <td>b'2022000005'</td>\n",
              "      <td>2.022000e+09</td>\n",
              "      <td>1.0</td>\n",
              "      <td>...</td>\n",
              "      <td>4.0</td>\n",
              "      <td>NaN</td>\n",
              "      <td>1.0</td>\n",
              "      <td>1.000000e+01</td>\n",
              "      <td>1.0</td>\n",
              "      <td>1.400000e+02</td>\n",
              "      <td>1.0</td>\n",
              "      <td>NaN</td>\n",
              "      <td>NaN</td>\n",
              "      <td>2.0</td>\n",
              "    </tr>\n",
              "  </tbody>\n",
              "</table>\n",
              "<p>5 rows × 328 columns</p>\n",
              "</div>\n",
              "    <div class=\"colab-df-buttons\">\n",
              "\n",
              "  <div class=\"colab-df-container\">\n",
              "    <button class=\"colab-df-convert\" onclick=\"convertToInteractive('df-43893750-daff-44a2-94a6-92bdfb8314b7')\"\n",
              "            title=\"Convert this dataframe to an interactive table.\"\n",
              "            style=\"display:none;\">\n",
              "\n",
              "  <svg xmlns=\"http://www.w3.org/2000/svg\" height=\"24px\" viewBox=\"0 -960 960 960\">\n",
              "    <path d=\"M120-120v-720h720v720H120Zm60-500h600v-160H180v160Zm220 220h160v-160H400v160Zm0 220h160v-160H400v160ZM180-400h160v-160H180v160Zm440 0h160v-160H620v160ZM180-180h160v-160H180v160Zm440 0h160v-160H620v160Z\"/>\n",
              "  </svg>\n",
              "    </button>\n",
              "\n",
              "  <style>\n",
              "    .colab-df-container {\n",
              "      display:flex;\n",
              "      gap: 12px;\n",
              "    }\n",
              "\n",
              "    .colab-df-convert {\n",
              "      background-color: #E8F0FE;\n",
              "      border: none;\n",
              "      border-radius: 50%;\n",
              "      cursor: pointer;\n",
              "      display: none;\n",
              "      fill: #1967D2;\n",
              "      height: 32px;\n",
              "      padding: 0 0 0 0;\n",
              "      width: 32px;\n",
              "    }\n",
              "\n",
              "    .colab-df-convert:hover {\n",
              "      background-color: #E2EBFA;\n",
              "      box-shadow: 0px 1px 2px rgba(60, 64, 67, 0.3), 0px 1px 3px 1px rgba(60, 64, 67, 0.15);\n",
              "      fill: #174EA6;\n",
              "    }\n",
              "\n",
              "    .colab-df-buttons div {\n",
              "      margin-bottom: 4px;\n",
              "    }\n",
              "\n",
              "    [theme=dark] .colab-df-convert {\n",
              "      background-color: #3B4455;\n",
              "      fill: #D2E3FC;\n",
              "    }\n",
              "\n",
              "    [theme=dark] .colab-df-convert:hover {\n",
              "      background-color: #434B5C;\n",
              "      box-shadow: 0px 1px 3px 1px rgba(0, 0, 0, 0.15);\n",
              "      filter: drop-shadow(0px 1px 2px rgba(0, 0, 0, 0.3));\n",
              "      fill: #FFFFFF;\n",
              "    }\n",
              "  </style>\n",
              "\n",
              "    <script>\n",
              "      const buttonEl =\n",
              "        document.querySelector('#df-43893750-daff-44a2-94a6-92bdfb8314b7 button.colab-df-convert');\n",
              "      buttonEl.style.display =\n",
              "        google.colab.kernel.accessAllowed ? 'block' : 'none';\n",
              "\n",
              "      async function convertToInteractive(key) {\n",
              "        const element = document.querySelector('#df-43893750-daff-44a2-94a6-92bdfb8314b7');\n",
              "        const dataTable =\n",
              "          await google.colab.kernel.invokeFunction('convertToInteractive',\n",
              "                                                    [key], {});\n",
              "        if (!dataTable) return;\n",
              "\n",
              "        const docLinkHtml = 'Like what you see? Visit the ' +\n",
              "          '<a target=\"_blank\" href=https://colab.research.google.com/notebooks/data_table.ipynb>data table notebook</a>'\n",
              "          + ' to learn more about interactive tables.';\n",
              "        element.innerHTML = '';\n",
              "        dataTable['output_type'] = 'display_data';\n",
              "        await google.colab.output.renderOutput(dataTable, element);\n",
              "        const docLink = document.createElement('div');\n",
              "        docLink.innerHTML = docLinkHtml;\n",
              "        element.appendChild(docLink);\n",
              "      }\n",
              "    </script>\n",
              "  </div>\n",
              "\n",
              "\n",
              "<div id=\"df-c4ced808-fd83-40f4-a754-feb55a74c4ed\">\n",
              "  <button class=\"colab-df-quickchart\" onclick=\"quickchart('df-c4ced808-fd83-40f4-a754-feb55a74c4ed')\"\n",
              "            title=\"Suggest charts\"\n",
              "            style=\"display:none;\">\n",
              "\n",
              "<svg xmlns=\"http://www.w3.org/2000/svg\" height=\"24px\"viewBox=\"0 0 24 24\"\n",
              "     width=\"24px\">\n",
              "    <g>\n",
              "        <path d=\"M19 3H5c-1.1 0-2 .9-2 2v14c0 1.1.9 2 2 2h14c1.1 0 2-.9 2-2V5c0-1.1-.9-2-2-2zM9 17H7v-7h2v7zm4 0h-2V7h2v10zm4 0h-2v-4h2v4z\"/>\n",
              "    </g>\n",
              "</svg>\n",
              "  </button>\n",
              "\n",
              "<style>\n",
              "  .colab-df-quickchart {\n",
              "      --bg-color: #E8F0FE;\n",
              "      --fill-color: #1967D2;\n",
              "      --hover-bg-color: #E2EBFA;\n",
              "      --hover-fill-color: #174EA6;\n",
              "      --disabled-fill-color: #AAA;\n",
              "      --disabled-bg-color: #DDD;\n",
              "  }\n",
              "\n",
              "  [theme=dark] .colab-df-quickchart {\n",
              "      --bg-color: #3B4455;\n",
              "      --fill-color: #D2E3FC;\n",
              "      --hover-bg-color: #434B5C;\n",
              "      --hover-fill-color: #FFFFFF;\n",
              "      --disabled-bg-color: #3B4455;\n",
              "      --disabled-fill-color: #666;\n",
              "  }\n",
              "\n",
              "  .colab-df-quickchart {\n",
              "    background-color: var(--bg-color);\n",
              "    border: none;\n",
              "    border-radius: 50%;\n",
              "    cursor: pointer;\n",
              "    display: none;\n",
              "    fill: var(--fill-color);\n",
              "    height: 32px;\n",
              "    padding: 0;\n",
              "    width: 32px;\n",
              "  }\n",
              "\n",
              "  .colab-df-quickchart:hover {\n",
              "    background-color: var(--hover-bg-color);\n",
              "    box-shadow: 0 1px 2px rgba(60, 64, 67, 0.3), 0 1px 3px 1px rgba(60, 64, 67, 0.15);\n",
              "    fill: var(--button-hover-fill-color);\n",
              "  }\n",
              "\n",
              "  .colab-df-quickchart-complete:disabled,\n",
              "  .colab-df-quickchart-complete:disabled:hover {\n",
              "    background-color: var(--disabled-bg-color);\n",
              "    fill: var(--disabled-fill-color);\n",
              "    box-shadow: none;\n",
              "  }\n",
              "\n",
              "  .colab-df-spinner {\n",
              "    border: 2px solid var(--fill-color);\n",
              "    border-color: transparent;\n",
              "    border-bottom-color: var(--fill-color);\n",
              "    animation:\n",
              "      spin 1s steps(1) infinite;\n",
              "  }\n",
              "\n",
              "  @keyframes spin {\n",
              "    0% {\n",
              "      border-color: transparent;\n",
              "      border-bottom-color: var(--fill-color);\n",
              "      border-left-color: var(--fill-color);\n",
              "    }\n",
              "    20% {\n",
              "      border-color: transparent;\n",
              "      border-left-color: var(--fill-color);\n",
              "      border-top-color: var(--fill-color);\n",
              "    }\n",
              "    30% {\n",
              "      border-color: transparent;\n",
              "      border-left-color: var(--fill-color);\n",
              "      border-top-color: var(--fill-color);\n",
              "      border-right-color: var(--fill-color);\n",
              "    }\n",
              "    40% {\n",
              "      border-color: transparent;\n",
              "      border-right-color: var(--fill-color);\n",
              "      border-top-color: var(--fill-color);\n",
              "    }\n",
              "    60% {\n",
              "      border-color: transparent;\n",
              "      border-right-color: var(--fill-color);\n",
              "    }\n",
              "    80% {\n",
              "      border-color: transparent;\n",
              "      border-right-color: var(--fill-color);\n",
              "      border-bottom-color: var(--fill-color);\n",
              "    }\n",
              "    90% {\n",
              "      border-color: transparent;\n",
              "      border-bottom-color: var(--fill-color);\n",
              "    }\n",
              "  }\n",
              "</style>\n",
              "\n",
              "  <script>\n",
              "    async function quickchart(key) {\n",
              "      const quickchartButtonEl =\n",
              "        document.querySelector('#' + key + ' button');\n",
              "      quickchartButtonEl.disabled = true;  // To prevent multiple clicks.\n",
              "      quickchartButtonEl.classList.add('colab-df-spinner');\n",
              "      try {\n",
              "        const charts = await google.colab.kernel.invokeFunction(\n",
              "            'suggestCharts', [key], {});\n",
              "      } catch (error) {\n",
              "        console.error('Error during call to suggestCharts:', error);\n",
              "      }\n",
              "      quickchartButtonEl.classList.remove('colab-df-spinner');\n",
              "      quickchartButtonEl.classList.add('colab-df-quickchart-complete');\n",
              "    }\n",
              "    (() => {\n",
              "      let quickchartButtonEl =\n",
              "        document.querySelector('#df-c4ced808-fd83-40f4-a754-feb55a74c4ed button');\n",
              "      quickchartButtonEl.style.display =\n",
              "        google.colab.kernel.accessAllowed ? 'block' : 'none';\n",
              "    })();\n",
              "  </script>\n",
              "</div>\n",
              "\n",
              "    </div>\n",
              "  </div>\n"
            ],
            "application/vnd.google.colaboratory.intrinsic+json": {
              "type": "dataframe",
              "variable_name": "data"
            }
          },
          "metadata": {},
          "execution_count": 23
        }
      ],
      "source": [
        "data.head()"
      ]
    },
    {
      "cell_type": "code",
      "execution_count": null,
      "id": "c5e0207c-9e42-4537-a3d0-dbf639b1641f",
      "metadata": {
        "id": "c5e0207c-9e42-4537-a3d0-dbf639b1641f"
      },
      "outputs": [],
      "source": [
        "data.info()"
      ]
    },
    {
      "cell_type": "markdown",
      "id": "a9afcab7-062c-46c9-9ee1-aeedeb2bbca5",
      "metadata": {
        "id": "a9afcab7-062c-46c9-9ee1-aeedeb2bbca5"
      },
      "source": [
        "# Preprocessing\n",
        "\n",
        "### Codebook Dictionary: 'codebook_key'\n",
        "\n",
        "There are so many columns in the dataset, I'll need to filter through the Codebook PDF provided by the CDC, and extract relevant features related to the Diabetes Risk Factors outlined at the start of this notebook.\n",
        "\n",
        "Breaking down the\n",
        "\n",
        "To minimize the amount of time I have to refer back to the Codebook...I'll make a **dictionary called 'codebook_key'** which contains column names and the meanings of their answer values as key-value pairs.\n",
        "\n",
        "I will do this as I go, then print 'codebook_key' whenever I need to refer back.\n",
        "\n",
        "*NOTE: The goal & focus with regards to feature selection has changed drastically as this project has progressed. Some features were added to 'codebook key' in previous iterations of this notebook, that might no longer exist at all in any of the models below. I'm going to leave them in the codebook_key dictionary, in case they happen to become relevant down the line."
      ]
    },
    {
      "cell_type": "markdown",
      "id": "44d9769f-5e5c-420f-bf1c-ce64fd92f2de",
      "metadata": {
        "id": "44d9769f-5e5c-420f-bf1c-ce64fd92f2de"
      },
      "source": [
        "## Filtering for Risk Factors\n",
        "\n",
        "### Genetic Factors\n",
        "\n",
        "In my first iteration of this notebook - a FSM ('First Simple Model') - I tried filtering for only genetic/\"involuntary\" risk factors that could be predictive of diabetes.\n",
        "\n",
        "However lifestyle/behavioral/voluntary choices a person makes are essential to gaining a comprehensive, clear picture of a person's risk of developing diabetes. Especially when paired with knowledge of their genetic predispositions to the disease.\n",
        "\n",
        "I'll keeping some of the code initially used to filter genetic factors below, to display the logic for certain feature selections. I will then combine this with new code, which uses new and additional **domain knowledge**, to add behavioral factors and remove irrelevant genetic ones."
      ]
    },
    {
      "cell_type": "code",
      "execution_count": 65,
      "id": "f0dbd762-8e7d-49f6-a975-ce298324a12f",
      "metadata": {
        "id": "f0dbd762-8e7d-49f6-a975-ce298324a12f"
      },
      "outputs": [],
      "source": [
        "columns_to_keep = ['CADULT1', 'CELLSEX1', 'CSTATE1', 'SEXVAR', 'GENHLTH', 'PHYSHLTH', 'PRIMINSR',\n",
        "                   'PERSDOC3', 'MEDCOST1', 'RMVTETH4', 'PREGNANT', 'WEIGHT2', 'HEIGHT3', 'SMOKE100', 'SMOKDAY2',\n",
        "                   '_STATE', 'PDIABTS1', 'PREDIAB2', 'DIABETE4', 'DIABTYPE', 'INSULIN1',\n",
        "                   'CHKHEMO3', 'EYEEXAM1', 'DIABEYE1', 'FEETSORE', 'CNCRTYP2',\n",
        "                   'CAREGIV1', 'CRGVREL4', 'CRGVPRB3',\n",
        "                   'CRGVALZD', 'LSATISFY', 'BIRTHSEX', 'RRCLASS3',\n",
        "                   'RRPHYSM2', '_METSTAT', '_URBSTAT', 'MSCODE', '_IMPRACE', '_CHISPNC', '_RFHLTH',\n",
        "                   '_PHYS14D', '_HLTHPLN', '_HCVU652', '_MICHD',\n",
        "                   '_MRACE2', '_HISPANC', '_RACE1', '_RACEG22', '_RACEGR4', '_SEX', '_AGEG5YR',\n",
        "                   '_AGE65YR', '_AGE80', '_AGE_G', 'HTIN4', 'WTKG3', '_BMI5', '_BMI5CAT', '_RFBMI5',\n",
        "                   '_INCOMG1', '_SMOKER3', '_YRSSMOK', '_SMOKGRP', '_RFBING6', '_RFDRHV8']"
      ]
    },
    {
      "cell_type": "code",
      "execution_count": 66,
      "id": "c0355b88-9896-4c0f-a193-fe8779ebfcea",
      "metadata": {
        "id": "c0355b88-9896-4c0f-a193-fe8779ebfcea"
      },
      "outputs": [],
      "source": [
        "# Creating new filtered dataframe for First Simple Model\n",
        "\n",
        "df = data[columns_to_keep]"
      ]
    },
    {
      "cell_type": "code",
      "execution_count": 67,
      "id": "af1d4d53-3025-4cd9-adbd-fb245f53a264",
      "metadata": {
        "id": "af1d4d53-3025-4cd9-adbd-fb245f53a264",
        "outputId": "4a961dbb-b52a-4ff5-b947-1757539cfe49",
        "colab": {
          "base_uri": "https://localhost:8080/",
          "height": 256
        }
      },
      "outputs": [
        {
          "output_type": "execute_result",
          "data": {
            "text/plain": [
              "   CADULT1  CELLSEX1  CSTATE1  SEXVAR  GENHLTH  PHYSHLTH  PRIMINSR  PERSDOC3  \\\n",
              "0      NaN       NaN      NaN     2.0      2.0      88.0      99.0       1.0   \n",
              "1      NaN       NaN      NaN     2.0      1.0      88.0       3.0       2.0   \n",
              "2      NaN       NaN      NaN     2.0      2.0       2.0       1.0       1.0   \n",
              "3      NaN       NaN      NaN     2.0      1.0      88.0      99.0       1.0   \n",
              "4      NaN       NaN      NaN     2.0      4.0       2.0       7.0       2.0   \n",
              "\n",
              "   MEDCOST1  RMVTETH4  ...   _BMI5  _BMI5CAT  _RFBMI5  _INCOMG1  _SMOKER3  \\\n",
              "0       2.0       NaN  ...     NaN       NaN      9.0       9.0       4.0   \n",
              "1       2.0       NaN  ...  2657.0       3.0      2.0       3.0       4.0   \n",
              "2       2.0       NaN  ...  2561.0       3.0      2.0       6.0       4.0   \n",
              "3       2.0       NaN  ...  2330.0       2.0      1.0       9.0       2.0   \n",
              "4       2.0       NaN  ...  2177.0       2.0      1.0       3.0       4.0   \n",
              "\n",
              "   _YRSSMOK  _SMOKGRP  _LCSREC  _RFBING6  _RFDRHV8  \n",
              "0       NaN       4.0      NaN       1.0       1.0  \n",
              "1       NaN       4.0      NaN       1.0       1.0  \n",
              "2       NaN       4.0      NaN       1.0       1.0  \n",
              "3      56.0       3.0      2.0       1.0       1.0  \n",
              "4       NaN       4.0      NaN       1.0       1.0  \n",
              "\n",
              "[5 rows x 69 columns]"
            ],
            "text/html": [
              "\n",
              "  <div id=\"df-200b4e43-72e8-42bc-8eb2-42b48c71f29f\" class=\"colab-df-container\">\n",
              "    <div>\n",
              "<style scoped>\n",
              "    .dataframe tbody tr th:only-of-type {\n",
              "        vertical-align: middle;\n",
              "    }\n",
              "\n",
              "    .dataframe tbody tr th {\n",
              "        vertical-align: top;\n",
              "    }\n",
              "\n",
              "    .dataframe thead th {\n",
              "        text-align: right;\n",
              "    }\n",
              "</style>\n",
              "<table border=\"1\" class=\"dataframe\">\n",
              "  <thead>\n",
              "    <tr style=\"text-align: right;\">\n",
              "      <th></th>\n",
              "      <th>CADULT1</th>\n",
              "      <th>CELLSEX1</th>\n",
              "      <th>CSTATE1</th>\n",
              "      <th>SEXVAR</th>\n",
              "      <th>GENHLTH</th>\n",
              "      <th>PHYSHLTH</th>\n",
              "      <th>PRIMINSR</th>\n",
              "      <th>PERSDOC3</th>\n",
              "      <th>MEDCOST1</th>\n",
              "      <th>RMVTETH4</th>\n",
              "      <th>...</th>\n",
              "      <th>_BMI5</th>\n",
              "      <th>_BMI5CAT</th>\n",
              "      <th>_RFBMI5</th>\n",
              "      <th>_INCOMG1</th>\n",
              "      <th>_SMOKER3</th>\n",
              "      <th>_YRSSMOK</th>\n",
              "      <th>_SMOKGRP</th>\n",
              "      <th>_LCSREC</th>\n",
              "      <th>_RFBING6</th>\n",
              "      <th>_RFDRHV8</th>\n",
              "    </tr>\n",
              "  </thead>\n",
              "  <tbody>\n",
              "    <tr>\n",
              "      <th>0</th>\n",
              "      <td>NaN</td>\n",
              "      <td>NaN</td>\n",
              "      <td>NaN</td>\n",
              "      <td>2.0</td>\n",
              "      <td>2.0</td>\n",
              "      <td>88.0</td>\n",
              "      <td>99.0</td>\n",
              "      <td>1.0</td>\n",
              "      <td>2.0</td>\n",
              "      <td>NaN</td>\n",
              "      <td>...</td>\n",
              "      <td>NaN</td>\n",
              "      <td>NaN</td>\n",
              "      <td>9.0</td>\n",
              "      <td>9.0</td>\n",
              "      <td>4.0</td>\n",
              "      <td>NaN</td>\n",
              "      <td>4.0</td>\n",
              "      <td>NaN</td>\n",
              "      <td>1.0</td>\n",
              "      <td>1.0</td>\n",
              "    </tr>\n",
              "    <tr>\n",
              "      <th>1</th>\n",
              "      <td>NaN</td>\n",
              "      <td>NaN</td>\n",
              "      <td>NaN</td>\n",
              "      <td>2.0</td>\n",
              "      <td>1.0</td>\n",
              "      <td>88.0</td>\n",
              "      <td>3.0</td>\n",
              "      <td>2.0</td>\n",
              "      <td>2.0</td>\n",
              "      <td>NaN</td>\n",
              "      <td>...</td>\n",
              "      <td>2657.0</td>\n",
              "      <td>3.0</td>\n",
              "      <td>2.0</td>\n",
              "      <td>3.0</td>\n",
              "      <td>4.0</td>\n",
              "      <td>NaN</td>\n",
              "      <td>4.0</td>\n",
              "      <td>NaN</td>\n",
              "      <td>1.0</td>\n",
              "      <td>1.0</td>\n",
              "    </tr>\n",
              "    <tr>\n",
              "      <th>2</th>\n",
              "      <td>NaN</td>\n",
              "      <td>NaN</td>\n",
              "      <td>NaN</td>\n",
              "      <td>2.0</td>\n",
              "      <td>2.0</td>\n",
              "      <td>2.0</td>\n",
              "      <td>1.0</td>\n",
              "      <td>1.0</td>\n",
              "      <td>2.0</td>\n",
              "      <td>NaN</td>\n",
              "      <td>...</td>\n",
              "      <td>2561.0</td>\n",
              "      <td>3.0</td>\n",
              "      <td>2.0</td>\n",
              "      <td>6.0</td>\n",
              "      <td>4.0</td>\n",
              "      <td>NaN</td>\n",
              "      <td>4.0</td>\n",
              "      <td>NaN</td>\n",
              "      <td>1.0</td>\n",
              "      <td>1.0</td>\n",
              "    </tr>\n",
              "    <tr>\n",
              "      <th>3</th>\n",
              "      <td>NaN</td>\n",
              "      <td>NaN</td>\n",
              "      <td>NaN</td>\n",
              "      <td>2.0</td>\n",
              "      <td>1.0</td>\n",
              "      <td>88.0</td>\n",
              "      <td>99.0</td>\n",
              "      <td>1.0</td>\n",
              "      <td>2.0</td>\n",
              "      <td>NaN</td>\n",
              "      <td>...</td>\n",
              "      <td>2330.0</td>\n",
              "      <td>2.0</td>\n",
              "      <td>1.0</td>\n",
              "      <td>9.0</td>\n",
              "      <td>2.0</td>\n",
              "      <td>56.0</td>\n",
              "      <td>3.0</td>\n",
              "      <td>2.0</td>\n",
              "      <td>1.0</td>\n",
              "      <td>1.0</td>\n",
              "    </tr>\n",
              "    <tr>\n",
              "      <th>4</th>\n",
              "      <td>NaN</td>\n",
              "      <td>NaN</td>\n",
              "      <td>NaN</td>\n",
              "      <td>2.0</td>\n",
              "      <td>4.0</td>\n",
              "      <td>2.0</td>\n",
              "      <td>7.0</td>\n",
              "      <td>2.0</td>\n",
              "      <td>2.0</td>\n",
              "      <td>NaN</td>\n",
              "      <td>...</td>\n",
              "      <td>2177.0</td>\n",
              "      <td>2.0</td>\n",
              "      <td>1.0</td>\n",
              "      <td>3.0</td>\n",
              "      <td>4.0</td>\n",
              "      <td>NaN</td>\n",
              "      <td>4.0</td>\n",
              "      <td>NaN</td>\n",
              "      <td>1.0</td>\n",
              "      <td>1.0</td>\n",
              "    </tr>\n",
              "  </tbody>\n",
              "</table>\n",
              "<p>5 rows × 69 columns</p>\n",
              "</div>\n",
              "    <div class=\"colab-df-buttons\">\n",
              "\n",
              "  <div class=\"colab-df-container\">\n",
              "    <button class=\"colab-df-convert\" onclick=\"convertToInteractive('df-200b4e43-72e8-42bc-8eb2-42b48c71f29f')\"\n",
              "            title=\"Convert this dataframe to an interactive table.\"\n",
              "            style=\"display:none;\">\n",
              "\n",
              "  <svg xmlns=\"http://www.w3.org/2000/svg\" height=\"24px\" viewBox=\"0 -960 960 960\">\n",
              "    <path d=\"M120-120v-720h720v720H120Zm60-500h600v-160H180v160Zm220 220h160v-160H400v160Zm0 220h160v-160H400v160ZM180-400h160v-160H180v160Zm440 0h160v-160H620v160ZM180-180h160v-160H180v160Zm440 0h160v-160H620v160Z\"/>\n",
              "  </svg>\n",
              "    </button>\n",
              "\n",
              "  <style>\n",
              "    .colab-df-container {\n",
              "      display:flex;\n",
              "      gap: 12px;\n",
              "    }\n",
              "\n",
              "    .colab-df-convert {\n",
              "      background-color: #E8F0FE;\n",
              "      border: none;\n",
              "      border-radius: 50%;\n",
              "      cursor: pointer;\n",
              "      display: none;\n",
              "      fill: #1967D2;\n",
              "      height: 32px;\n",
              "      padding: 0 0 0 0;\n",
              "      width: 32px;\n",
              "    }\n",
              "\n",
              "    .colab-df-convert:hover {\n",
              "      background-color: #E2EBFA;\n",
              "      box-shadow: 0px 1px 2px rgba(60, 64, 67, 0.3), 0px 1px 3px 1px rgba(60, 64, 67, 0.15);\n",
              "      fill: #174EA6;\n",
              "    }\n",
              "\n",
              "    .colab-df-buttons div {\n",
              "      margin-bottom: 4px;\n",
              "    }\n",
              "\n",
              "    [theme=dark] .colab-df-convert {\n",
              "      background-color: #3B4455;\n",
              "      fill: #D2E3FC;\n",
              "    }\n",
              "\n",
              "    [theme=dark] .colab-df-convert:hover {\n",
              "      background-color: #434B5C;\n",
              "      box-shadow: 0px 1px 3px 1px rgba(0, 0, 0, 0.15);\n",
              "      filter: drop-shadow(0px 1px 2px rgba(0, 0, 0, 0.3));\n",
              "      fill: #FFFFFF;\n",
              "    }\n",
              "  </style>\n",
              "\n",
              "    <script>\n",
              "      const buttonEl =\n",
              "        document.querySelector('#df-200b4e43-72e8-42bc-8eb2-42b48c71f29f button.colab-df-convert');\n",
              "      buttonEl.style.display =\n",
              "        google.colab.kernel.accessAllowed ? 'block' : 'none';\n",
              "\n",
              "      async function convertToInteractive(key) {\n",
              "        const element = document.querySelector('#df-200b4e43-72e8-42bc-8eb2-42b48c71f29f');\n",
              "        const dataTable =\n",
              "          await google.colab.kernel.invokeFunction('convertToInteractive',\n",
              "                                                    [key], {});\n",
              "        if (!dataTable) return;\n",
              "\n",
              "        const docLinkHtml = 'Like what you see? Visit the ' +\n",
              "          '<a target=\"_blank\" href=https://colab.research.google.com/notebooks/data_table.ipynb>data table notebook</a>'\n",
              "          + ' to learn more about interactive tables.';\n",
              "        element.innerHTML = '';\n",
              "        dataTable['output_type'] = 'display_data';\n",
              "        await google.colab.output.renderOutput(dataTable, element);\n",
              "        const docLink = document.createElement('div');\n",
              "        docLink.innerHTML = docLinkHtml;\n",
              "        element.appendChild(docLink);\n",
              "      }\n",
              "    </script>\n",
              "  </div>\n",
              "\n",
              "\n",
              "<div id=\"df-86b0516b-e06e-4edc-b40a-73e569caaecf\">\n",
              "  <button class=\"colab-df-quickchart\" onclick=\"quickchart('df-86b0516b-e06e-4edc-b40a-73e569caaecf')\"\n",
              "            title=\"Suggest charts\"\n",
              "            style=\"display:none;\">\n",
              "\n",
              "<svg xmlns=\"http://www.w3.org/2000/svg\" height=\"24px\"viewBox=\"0 0 24 24\"\n",
              "     width=\"24px\">\n",
              "    <g>\n",
              "        <path d=\"M19 3H5c-1.1 0-2 .9-2 2v14c0 1.1.9 2 2 2h14c1.1 0 2-.9 2-2V5c0-1.1-.9-2-2-2zM9 17H7v-7h2v7zm4 0h-2V7h2v10zm4 0h-2v-4h2v4z\"/>\n",
              "    </g>\n",
              "</svg>\n",
              "  </button>\n",
              "\n",
              "<style>\n",
              "  .colab-df-quickchart {\n",
              "      --bg-color: #E8F0FE;\n",
              "      --fill-color: #1967D2;\n",
              "      --hover-bg-color: #E2EBFA;\n",
              "      --hover-fill-color: #174EA6;\n",
              "      --disabled-fill-color: #AAA;\n",
              "      --disabled-bg-color: #DDD;\n",
              "  }\n",
              "\n",
              "  [theme=dark] .colab-df-quickchart {\n",
              "      --bg-color: #3B4455;\n",
              "      --fill-color: #D2E3FC;\n",
              "      --hover-bg-color: #434B5C;\n",
              "      --hover-fill-color: #FFFFFF;\n",
              "      --disabled-bg-color: #3B4455;\n",
              "      --disabled-fill-color: #666;\n",
              "  }\n",
              "\n",
              "  .colab-df-quickchart {\n",
              "    background-color: var(--bg-color);\n",
              "    border: none;\n",
              "    border-radius: 50%;\n",
              "    cursor: pointer;\n",
              "    display: none;\n",
              "    fill: var(--fill-color);\n",
              "    height: 32px;\n",
              "    padding: 0;\n",
              "    width: 32px;\n",
              "  }\n",
              "\n",
              "  .colab-df-quickchart:hover {\n",
              "    background-color: var(--hover-bg-color);\n",
              "    box-shadow: 0 1px 2px rgba(60, 64, 67, 0.3), 0 1px 3px 1px rgba(60, 64, 67, 0.15);\n",
              "    fill: var(--button-hover-fill-color);\n",
              "  }\n",
              "\n",
              "  .colab-df-quickchart-complete:disabled,\n",
              "  .colab-df-quickchart-complete:disabled:hover {\n",
              "    background-color: var(--disabled-bg-color);\n",
              "    fill: var(--disabled-fill-color);\n",
              "    box-shadow: none;\n",
              "  }\n",
              "\n",
              "  .colab-df-spinner {\n",
              "    border: 2px solid var(--fill-color);\n",
              "    border-color: transparent;\n",
              "    border-bottom-color: var(--fill-color);\n",
              "    animation:\n",
              "      spin 1s steps(1) infinite;\n",
              "  }\n",
              "\n",
              "  @keyframes spin {\n",
              "    0% {\n",
              "      border-color: transparent;\n",
              "      border-bottom-color: var(--fill-color);\n",
              "      border-left-color: var(--fill-color);\n",
              "    }\n",
              "    20% {\n",
              "      border-color: transparent;\n",
              "      border-left-color: var(--fill-color);\n",
              "      border-top-color: var(--fill-color);\n",
              "    }\n",
              "    30% {\n",
              "      border-color: transparent;\n",
              "      border-left-color: var(--fill-color);\n",
              "      border-top-color: var(--fill-color);\n",
              "      border-right-color: var(--fill-color);\n",
              "    }\n",
              "    40% {\n",
              "      border-color: transparent;\n",
              "      border-right-color: var(--fill-color);\n",
              "      border-top-color: var(--fill-color);\n",
              "    }\n",
              "    60% {\n",
              "      border-color: transparent;\n",
              "      border-right-color: var(--fill-color);\n",
              "    }\n",
              "    80% {\n",
              "      border-color: transparent;\n",
              "      border-right-color: var(--fill-color);\n",
              "      border-bottom-color: var(--fill-color);\n",
              "    }\n",
              "    90% {\n",
              "      border-color: transparent;\n",
              "      border-bottom-color: var(--fill-color);\n",
              "    }\n",
              "  }\n",
              "</style>\n",
              "\n",
              "  <script>\n",
              "    async function quickchart(key) {\n",
              "      const quickchartButtonEl =\n",
              "        document.querySelector('#' + key + ' button');\n",
              "      quickchartButtonEl.disabled = true;  // To prevent multiple clicks.\n",
              "      quickchartButtonEl.classList.add('colab-df-spinner');\n",
              "      try {\n",
              "        const charts = await google.colab.kernel.invokeFunction(\n",
              "            'suggestCharts', [key], {});\n",
              "      } catch (error) {\n",
              "        console.error('Error during call to suggestCharts:', error);\n",
              "      }\n",
              "      quickchartButtonEl.classList.remove('colab-df-spinner');\n",
              "      quickchartButtonEl.classList.add('colab-df-quickchart-complete');\n",
              "    }\n",
              "    (() => {\n",
              "      let quickchartButtonEl =\n",
              "        document.querySelector('#df-86b0516b-e06e-4edc-b40a-73e569caaecf button');\n",
              "      quickchartButtonEl.style.display =\n",
              "        google.colab.kernel.accessAllowed ? 'block' : 'none';\n",
              "    })();\n",
              "  </script>\n",
              "</div>\n",
              "\n",
              "    </div>\n",
              "  </div>\n"
            ],
            "application/vnd.google.colaboratory.intrinsic+json": {
              "type": "dataframe",
              "variable_name": "df"
            }
          },
          "metadata": {},
          "execution_count": 67
        }
      ],
      "source": [
        "df.head()"
      ]
    },
    {
      "cell_type": "code",
      "execution_count": 68,
      "id": "dec6d5a5-349f-48ee-85cd-86773a0da3a8",
      "metadata": {
        "id": "dec6d5a5-349f-48ee-85cd-86773a0da3a8",
        "outputId": "73635715-f327-4c3b-d8cb-ee479bcd0010",
        "colab": {
          "base_uri": "https://localhost:8080/"
        }
      },
      "outputs": [
        {
          "output_type": "stream",
          "name": "stdout",
          "text": [
            "<class 'pandas.core.frame.DataFrame'>\n",
            "RangeIndex: 445132 entries, 0 to 445131\n",
            "Data columns (total 69 columns):\n",
            " #   Column    Non-Null Count   Dtype  \n",
            "---  ------    --------------   -----  \n",
            " 0   CADULT1   349080 non-null  float64\n",
            " 1   CELLSEX1  349079 non-null  float64\n",
            " 2   CSTATE1   349072 non-null  float64\n",
            " 3   SEXVAR    445132 non-null  float64\n",
            " 4   GENHLTH   445129 non-null  float64\n",
            " 5   PHYSHLTH  445127 non-null  float64\n",
            " 6   PRIMINSR  445128 non-null  float64\n",
            " 7   PERSDOC3  445130 non-null  float64\n",
            " 8   MEDCOST1  445128 non-null  float64\n",
            " 9   RMVTETH4  443769 non-null  float64\n",
            " 10  PREGNANT  79018 non-null   float64\n",
            " 11  WEIGHT2   429231 non-null  float64\n",
            " 12  HEIGHT3   428077 non-null  float64\n",
            " 13  SMOKE100  413355 non-null  float64\n",
            " 14  SMOKDAY2  164053 non-null  float64\n",
            " 15  _STATE    445132 non-null  float64\n",
            " 16  PDIABTS1  140248 non-null  float64\n",
            " 17  PREDIAB2  140222 non-null  float64\n",
            " 18  DIABETE4  445129 non-null  float64\n",
            " 19  DIABTYPE  12600 non-null   float64\n",
            " 20  INSULIN1  12600 non-null   float64\n",
            " 21  CHKHEMO3  12600 non-null   float64\n",
            " 22  EYEEXAM1  12600 non-null   float64\n",
            " 23  DIABEYE1  12600 non-null   float64\n",
            " 24  FEETSORE  12600 non-null   float64\n",
            " 25  CNCRTYP2  22544 non-null   float64\n",
            " 26  CAREGIV1  98510 non-null   float64\n",
            " 27  CRGVREL4  19634 non-null   float64\n",
            " 28  CRGVPRB3  19472 non-null   float64\n",
            " 29  CRGVALZD  17300 non-null   float64\n",
            " 30  LSATISFY  254488 non-null  float64\n",
            " 31  ASBIRDUC  46620 non-null   float64\n",
            " 32  BIRTHSEX  79427 non-null   float64\n",
            " 33  RRCLASS3  161738 non-null  float64\n",
            " 34  RRHCARE4  160508 non-null  float64\n",
            " 35  RRPHYSM2  160190 non-null  float64\n",
            " 36  _METSTAT  435724 non-null  float64\n",
            " 37  _URBSTAT  435724 non-null  float64\n",
            " 38  MSCODE    93886 non-null   float64\n",
            " 39  _IMPRACE  445132 non-null  float64\n",
            " 40  _CHISPNC  324309 non-null  float64\n",
            " 41  _RFHLTH   445132 non-null  float64\n",
            " 42  _PHYS14D  445132 non-null  float64\n",
            " 43  _HLTHPLN  445132 non-null  float64\n",
            " 44  _HCVU652  445132 non-null  float64\n",
            " 45  _MICHD    440111 non-null  float64\n",
            " 46  _DRDXAR2  442499 non-null  float64\n",
            " 47  _MRACE2   445121 non-null  float64\n",
            " 48  _HISPANC  445132 non-null  float64\n",
            " 49  _RACE1    445130 non-null  float64\n",
            " 50  _RACEG22  445130 non-null  float64\n",
            " 51  _RACEGR4  445130 non-null  float64\n",
            " 52  _SEX      445132 non-null  float64\n",
            " 53  _AGEG5YR  445132 non-null  float64\n",
            " 54  _AGE65YR  445132 non-null  float64\n",
            " 55  _AGE80    445132 non-null  float64\n",
            " 56  _AGE_G    445132 non-null  float64\n",
            " 57  HTIN4     412656 non-null  float64\n",
            " 58  WTKG3     403054 non-null  float64\n",
            " 59  _BMI5     396326 non-null  float64\n",
            " 60  _BMI5CAT  396326 non-null  float64\n",
            " 61  _RFBMI5   445132 non-null  float64\n",
            " 62  _INCOMG1  445132 non-null  float64\n",
            " 63  _SMOKER3  445132 non-null  float64\n",
            " 64  _YRSSMOK  147604 non-null  float64\n",
            " 65  _SMOKGRP  409670 non-null  float64\n",
            " 66  _LCSREC   51453 non-null   float64\n",
            " 67  _RFBING6  445132 non-null  float64\n",
            " 68  _RFDRHV8  445132 non-null  float64\n",
            "dtypes: float64(69)\n",
            "memory usage: 234.3 MB\n"
          ]
        }
      ],
      "source": [
        "df.info()"
      ]
    },
    {
      "cell_type": "markdown",
      "source": [
        "## Lowercase Column Names\n",
        "\n",
        "Let's **lowercase all the column names**, to increase readability.\n",
        "\n",
        "## Convert Datatypes: Float to Integer\n",
        "\n",
        "Right now, all of our values are floats. However, looking at the data...it seems like they all can easily be converted to integers (all numbers appear to end with '.0', and there are no need for decimals).\n",
        "\n",
        "Making everything 'int' dtype will make things simpler and improve readbility.\n",
        "\n",
        "I'll have to deal with Null Values before I can do this.\n",
        "\n",
        "#### Other Cleaning\n",
        "\n",
        "There's such a large number of columnns, even in this smaller FSM -- I want to optomize time by moving on to explore the data and continuing to \"clean as I go\" if I run into any other issues. Rather than assessing any need to clean answer values for each column right now as well.\n",
        "\n",
        "Furthermore, from what I've seen in the Codebook, this dataset is extremely well-organized compared to some past datasets I've worked with. I therefore feel confident in assuming that most of the answer-values in the rows themselves are pretty clean, and I can optomize time by moving forward and dealing with any other issues as they arise."
      ],
      "metadata": {
        "id": "iHU1zMEkzb65"
      },
      "id": "iHU1zMEkzb65"
    },
    {
      "cell_type": "code",
      "source": [
        "# lowercasing column names\n",
        "df.columns = df.columns.str.lower()"
      ],
      "metadata": {
        "id": "825198Nfzf59"
      },
      "id": "825198Nfzf59",
      "execution_count": 69,
      "outputs": []
    },
    {
      "cell_type": "markdown",
      "id": "256e11c9-80a9-4037-9cdb-3f89c24ed8e3",
      "metadata": {
        "id": "256e11c9-80a9-4037-9cdb-3f89c24ed8e3"
      },
      "source": [
        "## Nulls\n",
        "\n",
        "It seems like there are some columns with completely missing values. Let's re-print the columns in ascending order of non-null values to reference back to the Codebook and examine whether our Null values are accurate."
      ]
    },
    {
      "cell_type": "code",
      "execution_count": 70,
      "id": "c435915f-5a6a-4913-a5dd-269604a434f7",
      "metadata": {
        "id": "c435915f-5a6a-4913-a5dd-269604a434f7",
        "outputId": "6147c19e-95ab-4ccc-d1bd-6e5de51b5d83",
        "colab": {
          "base_uri": "https://localhost:8080/"
        }
      },
      "outputs": [
        {
          "output_type": "stream",
          "name": "stdout",
          "text": [
            "<class 'pandas.core.frame.DataFrame'>\n",
            "RangeIndex: 445132 entries, 0 to 445131\n",
            "Data columns (total 69 columns):\n",
            " #   Column    Non-Null Count   Dtype  \n",
            "---  ------    --------------   -----  \n",
            " 0   feetsore  12600 non-null   float64\n",
            " 1   diabeye1  12600 non-null   float64\n",
            " 2   eyeexam1  12600 non-null   float64\n",
            " 3   chkhemo3  12600 non-null   float64\n",
            " 4   insulin1  12600 non-null   float64\n",
            " 5   diabtype  12600 non-null   float64\n",
            " 6   crgvalzd  17300 non-null   float64\n",
            " 7   crgvprb3  19472 non-null   float64\n",
            " 8   crgvrel4  19634 non-null   float64\n",
            " 9   cncrtyp2  22544 non-null   float64\n",
            " 10  asbirduc  46620 non-null   float64\n",
            " 11  _lcsrec   51453 non-null   float64\n",
            " 12  pregnant  79018 non-null   float64\n",
            " 13  birthsex  79427 non-null   float64\n",
            " 14  mscode    93886 non-null   float64\n",
            " 15  caregiv1  98510 non-null   float64\n",
            " 16  prediab2  140222 non-null  float64\n",
            " 17  pdiabts1  140248 non-null  float64\n",
            " 18  _yrssmok  147604 non-null  float64\n",
            " 19  rrphysm2  160190 non-null  float64\n",
            " 20  rrhcare4  160508 non-null  float64\n",
            " 21  rrclass3  161738 non-null  float64\n",
            " 22  smokday2  164053 non-null  float64\n",
            " 23  lsatisfy  254488 non-null  float64\n",
            " 24  _chispnc  324309 non-null  float64\n",
            " 25  cstate1   349072 non-null  float64\n",
            " 26  cellsex1  349079 non-null  float64\n",
            " 27  cadult1   349080 non-null  float64\n",
            " 28  _bmi5     396326 non-null  float64\n",
            " 29  _bmi5cat  396326 non-null  float64\n",
            " 30  wtkg3     403054 non-null  float64\n",
            " 31  _smokgrp  409670 non-null  float64\n",
            " 32  htin4     412656 non-null  float64\n",
            " 33  smoke100  413355 non-null  float64\n",
            " 34  height3   428077 non-null  float64\n",
            " 35  weight2   429231 non-null  float64\n",
            " 36  _urbstat  435724 non-null  float64\n",
            " 37  _metstat  435724 non-null  float64\n",
            " 38  _michd    440111 non-null  float64\n",
            " 39  _drdxar2  442499 non-null  float64\n",
            " 40  rmvteth4  443769 non-null  float64\n",
            " 41  _mrace2   445121 non-null  float64\n",
            " 42  physhlth  445127 non-null  float64\n",
            " 43  priminsr  445128 non-null  float64\n",
            " 44  medcost1  445128 non-null  float64\n",
            " 45  diabete4  445129 non-null  float64\n",
            " 46  genhlth   445129 non-null  float64\n",
            " 47  _race1    445130 non-null  float64\n",
            " 48  _raceg22  445130 non-null  float64\n",
            " 49  _racegr4  445130 non-null  float64\n",
            " 50  persdoc3  445130 non-null  float64\n",
            " 51  _incomg1  445132 non-null  float64\n",
            " 52  _smoker3  445132 non-null  float64\n",
            " 53  sexvar    445132 non-null  float64\n",
            " 54  _rfbmi5   445132 non-null  float64\n",
            " 55  _state    445132 non-null  float64\n",
            " 56  _hispanc  445132 non-null  float64\n",
            " 57  _age80    445132 non-null  float64\n",
            " 58  _age65yr  445132 non-null  float64\n",
            " 59  _ageg5yr  445132 non-null  float64\n",
            " 60  _sex      445132 non-null  float64\n",
            " 61  _hcvu652  445132 non-null  float64\n",
            " 62  _hlthpln  445132 non-null  float64\n",
            " 63  _phys14d  445132 non-null  float64\n",
            " 64  _rfhlth   445132 non-null  float64\n",
            " 65  _imprace  445132 non-null  float64\n",
            " 66  _rfbing6  445132 non-null  float64\n",
            " 67  _age_g    445132 non-null  float64\n",
            " 68  _rfdrhv8  445132 non-null  float64\n",
            "dtypes: float64(69)\n",
            "memory usage: 234.3 MB\n",
            "None\n"
          ]
        }
      ],
      "source": [
        "# Get non-null counts for each column\n",
        "non_null_counts = df.notnull().sum()\n",
        "\n",
        "# Sort columns by non-null counts in ascending order\n",
        "sorted_columns = non_null_counts.sort_values().index\n",
        "\n",
        "# Reorder DataFrame columns based on sorted order\n",
        "df_sorted = df[sorted_columns]\n",
        "\n",
        "# Print info of the sorted DataFrame\n",
        "print(df_sorted.info())"
      ]
    },
    {
      "cell_type": "markdown",
      "id": "7aaec788-e0b8-4715-aed7-9621f37fc2fc",
      "metadata": {
        "id": "7aaec788-e0b8-4715-aed7-9621f37fc2fc"
      },
      "source": [
        "# CHANGE EMMA!!!!! : EXAMPLE CODE BELOW\n",
        "\n",
        "##### HAVECFS and TOLDCFS\n",
        "\n",
        "The codebook confirms that the data is completely missing for all rows in these columns, which indicate a person's status with regards to having or being told they have **Chronic Fatigue Syndrome (CFS)** or **Myalgic Encephalomyelitis**.\n",
        "\n",
        "##### PSATEST1\n",
        "\n",
        "Survey Question: *Have you ever had a P.S.A. test?*\n",
        "\n",
        "*PSA test*: measures the amount of PSA in a man's blood to help screen for and monitor prostate cancer.\n",
        "\n",
        "According to Cleveland Clinic PSA tests are very common. Which leaves us to wonder why so many of these values are Nulls -- certainly a far greater number than the amount of men that were surveyed in the dataset.\n",
        "\n",
        "\n",
        "##### COPDCOGH AND COPDFLEM\n",
        "\n",
        "Survey Question: *During the past three months, did you have a cough and/or cough up phlegm or mucus on most days?\n",
        "\n",
        "These columns might be more of the **hindsight bias** symptoms I was referring to early, rather than prior warning signs. It's not a big deal if we have a lot of Nulls for these, we have other genetic and physical factors that will be far more important to our model.\n",
        "\n",
        "##### CDDISCUS\n",
        "\n",
        "Survey Question: Have you are anyone else discussed your confusion or memory loss with a health care professional?\n",
        "\n",
        "Again, not one of our most important features, so no need to stress that there are a lot of Nulls.\n",
        "\n",
        "An interesting takeaway from the Codebook Report with regards to this feature: the **non**-missing values seemed to be pretty balanced between our two main class...3,432 'Yes' and 3,862 'No'.\n",
        "\n",
        "##### CSVRTRN, CSRVSUM\n",
        "\n",
        "Survey Question CSVRTRN: Have you ever received instructions from a doctor, nurse, or other health professional about where you should return or who you should see for routine cancer check-\n",
        "ups after completing treatment for cancer?\n",
        "\n",
        "Survey Question CSRVSUM: Did any doctor, nurse, or other health professional ever give you a written summary of all the cancer treatments that you received?\n",
        "\n",
        "These are sort of behavioral questions, as they bleed into the question of whether or not people choose to incorporate doctor's visits into their lifestyle routines. I thought they might be helpful in isolating whether people had **reasons** to go to the doctor (due to underlying genetic conditions), but there are other features we have that are more suitable for this anyway.\n",
        "\n",
        "##### CSRVDOC1\n",
        "\n",
        "Survey Question: What type of doctor provides the majority of your health care? Is it a….\n",
        "\n",
        "This could still be useful, even if we have Nulls, to identify any specialized possibly genetic reasons a person requires specific medical care from a particular kind of doctor. But again, not entirely important compared to other features. So it's okay that we have mostly Nulls.\n",
        "\n",
        "### Moving On\n",
        "\n",
        "The rest of our columns have over 10,000 non-null values. To save time, I'll keep moving for now and examine these as I go if need be."
      ]
    },
    {
      "cell_type": "markdown",
      "id": "48f7f32e-ced4-4202-b565-9a9713e4d4c3",
      "metadata": {
        "id": "48f7f32e-ced4-4202-b565-9a9713e4d4c3"
      },
      "source": [
        "# Target Variable\n",
        "\n",
        "The risk factors of diabetes Type 1 and Type 2 are different. However according to the Codebook there's a discrepancy in the results of columns 'diabete4' and 'diabtype': 'diabete4' has over 60,000 records of respondents that **are** diagnosed with *any* form of diabetes...yet 'diabtype' has only about 11,000 records of respondents diagnosed with diabetes, categorizing them as Type 1 or Type 2.\n",
        "\n",
        "Ideally, I'll build a model that takes into account the differences in diabetes risk factors by varying type. However to start, I'll pick the feature with less \"missingness\", 'diabete4', then hopefully pair domain knowledge with the information provided in 'diabtype' to further categorize people diabetes into 'Type 1' and 'Type 2'.\n",
        "\n",
        "## Target: diabete4\n",
        "\n",
        "**Target Survey Question**: (Ever told) (you had) diabetes? (If ´Yes´ and respondent is female, ask ´Was this only when you were pregnant?´. If Respondent says pre-diabetes or borderline diabetes, use response code 4.)\n",
        "\n",
        "**Target Answer Values**..."
      ]
    },
    {
      "cell_type": "code",
      "execution_count": 71,
      "id": "e2fb0e58-68c8-4ee4-a0ef-de8de95ecaab",
      "metadata": {
        "id": "e2fb0e58-68c8-4ee4-a0ef-de8de95ecaab"
      },
      "outputs": [],
      "source": [
        "# ADDING TO CODEBOOK DICTIONARY\n",
        "codebook_key = {\n",
        "    'diabete4': {\n",
        "        'Question': \"(Ever told) (you had) diabetes? (If 'Yes' and respondent is female, ask 'Was this only when you were pregnant?´.\",\n",
        "        'Answers': {\n",
        "        1: 'Yes',\n",
        "        2: 'Yes, but female told only during pregnancy',\n",
        "        3: 'No',\n",
        "        4: 'No, pre-diabetes or boderline diabetes',\n",
        "        7: 'Dont know/Not sure',\n",
        "        9: 'Refused',\n",
        "        'BLANK': 'Not asked or Missing'\n",
        "        }\n",
        "    }\n",
        "}"
      ]
    },
    {
      "cell_type": "markdown",
      "id": "3689a432-f051-4576-bb8f-d4b6e95867ec",
      "metadata": {
        "id": "3689a432-f051-4576-bb8f-d4b6e95867ec"
      },
      "source": [
        "**Nulls**\n",
        "\n",
        "445129 non-null values, 3 missing values\n",
        "\n",
        "Our target class barely has any missingness. And looking at the *frequency values* in the Codebook, there are only 1084 of the 'Don't know/Not Sure' and 'Refused' values combined. Obviously the greater the volume of rows and data with regards to the target variable, the better.\n",
        "\n",
        "I'll print the frequencies of the other values shortly.\n",
        "\n",
        "### Columns to Contextualize Target: pdiabts1, prediab2, diabtype, pregnant\n",
        "\n",
        "##### pdiabts1\n",
        "\n",
        "Survey Question: When was the last time you had a blood test for high blood sugar or diabetes by a doctor, nurse, or other health professional?\n",
        "\n",
        "140,248 non-null, 304,884 missing malues\n",
        "\n",
        "##### prediab2\n",
        "\n",
        "Survey Question: Has a doctor or other health professional ever told you that you had prediabetes or borderline diabetes? (If “Yes” and respondent is female, ask: “Was this only when you were pregnan\n",
        "\n",
        "140,222 non-null, 304,910 missing values\n",
        "\n",
        "#### diabtype\n",
        "\n",
        "Survey Question: According to your doctor or other health professional, what type of diabetes do you have?\n",
        "\n",
        "Answer Values: *Type 1, Type 2, Don't know/Not Sure, Refused, Not asked or Missing*\n",
        "\n",
        "This column could be a good way to expand the target variable with more specifity, as I move onto to larger more complex models after this FSM. If I have time, I can start to develop a chained model that not only predicts whether someone develops diabetes, but further predicts which type they will progress to. Otherwise, I can use it to contextualize my findings.\n",
        "\n",
        "12,600 non-null, 432,532 missing values"
      ]
    },
    {
      "cell_type": "code",
      "execution_count": 72,
      "id": "e0c9ef07-95f9-4dab-99ae-33ca056e95a5",
      "metadata": {
        "id": "e0c9ef07-95f9-4dab-99ae-33ca056e95a5",
        "outputId": "ba35d821-2315-4850-d90d-544a69804621",
        "colab": {
          "base_uri": "https://localhost:8080/",
          "height": 304
        }
      },
      "outputs": [
        {
          "output_type": "execute_result",
          "data": {
            "text/plain": [
              "diabete4\n",
              "3.0    0.828349\n",
              "1.0    0.137394\n",
              "4.0    0.023205\n",
              "2.0    0.008618\n",
              "7.0    0.001714\n",
              "9.0    0.000721\n",
              "Name: proportion, dtype: float64"
            ],
            "text/html": [
              "<div>\n",
              "<style scoped>\n",
              "    .dataframe tbody tr th:only-of-type {\n",
              "        vertical-align: middle;\n",
              "    }\n",
              "\n",
              "    .dataframe tbody tr th {\n",
              "        vertical-align: top;\n",
              "    }\n",
              "\n",
              "    .dataframe thead th {\n",
              "        text-align: right;\n",
              "    }\n",
              "</style>\n",
              "<table border=\"1\" class=\"dataframe\">\n",
              "  <thead>\n",
              "    <tr style=\"text-align: right;\">\n",
              "      <th></th>\n",
              "      <th>proportion</th>\n",
              "    </tr>\n",
              "    <tr>\n",
              "      <th>diabete4</th>\n",
              "      <th></th>\n",
              "    </tr>\n",
              "  </thead>\n",
              "  <tbody>\n",
              "    <tr>\n",
              "      <th>3.0</th>\n",
              "      <td>0.828349</td>\n",
              "    </tr>\n",
              "    <tr>\n",
              "      <th>1.0</th>\n",
              "      <td>0.137394</td>\n",
              "    </tr>\n",
              "    <tr>\n",
              "      <th>4.0</th>\n",
              "      <td>0.023205</td>\n",
              "    </tr>\n",
              "    <tr>\n",
              "      <th>2.0</th>\n",
              "      <td>0.008618</td>\n",
              "    </tr>\n",
              "    <tr>\n",
              "      <th>7.0</th>\n",
              "      <td>0.001714</td>\n",
              "    </tr>\n",
              "    <tr>\n",
              "      <th>9.0</th>\n",
              "      <td>0.000721</td>\n",
              "    </tr>\n",
              "  </tbody>\n",
              "</table>\n",
              "</div><br><label><b>dtype:</b> float64</label>"
            ]
          },
          "metadata": {},
          "execution_count": 72
        }
      ],
      "source": [
        "df['diabete4'].value_counts(normalize=True)"
      ]
    },
    {
      "cell_type": "markdown",
      "id": "53d01e8d-6fed-416a-bee5-6172cf5ad8f9",
      "metadata": {
        "id": "53d01e8d-6fed-416a-bee5-6172cf5ad8f9"
      },
      "source": [
        "#### Imbalanced Target\n",
        "\n",
        "82.83% of the target variable is 'No', and only 13.74% of the target variable is 'Yes'.\n",
        "\n",
        "I'll have to keep this in mind when building the model!"
      ]
    },
    {
      "cell_type": "markdown",
      "id": "42278182-33ec-4cf4-adef-ea511b9d63d4",
      "metadata": {
        "id": "42278182-33ec-4cf4-adef-ea511b9d63d4"
      },
      "source": [
        "## Feature Selection & Importance\n",
        "\n",
        "### Genetic Factors: Linear Relationship?\n",
        "\n",
        "With concrete genetic factors, there might be a stronger **linear relationship** between these features and whether a person has diabetes, compared with the behavioral/lifestyle choices a person can make that can create messier/more complex non-linear relationships in the data.\n",
        "\n",
        "Let's print the **correlation coefficients** between each of our features and our target variable to look for signs of predictive importance, as well as a **correlation matrix** to look for signs of multicollinearity between features."
      ]
    },
    {
      "cell_type": "code",
      "execution_count": 73,
      "id": "7d746bd6-bf62-460a-ae58-c8995af12d46",
      "metadata": {
        "id": "7d746bd6-bf62-460a-ae58-c8995af12d46",
        "outputId": "19952955-5443-4689-cd7b-79bda900982e",
        "colab": {
          "base_uri": "https://localhost:8080/",
          "height": 365
        }
      },
      "outputs": [
        {
          "output_type": "error",
          "ename": "KeyboardInterrupt",
          "evalue": "",
          "traceback": [
            "\u001b[0;31m---------------------------------------------------------------------------\u001b[0m",
            "\u001b[0;31mKeyboardInterrupt\u001b[0m                         Traceback (most recent call last)",
            "\u001b[0;32m<ipython-input-73-d4e2fef2c4cf>\u001b[0m in \u001b[0;36m<cell line: 8>\u001b[0;34m()\u001b[0m\n\u001b[1;32m      6\u001b[0m \u001b[0msns\u001b[0m\u001b[0;34m.\u001b[0m\u001b[0mheatmap\u001b[0m\u001b[0;34m(\u001b[0m\u001b[0mcorrelation_matrix\u001b[0m\u001b[0;34m,\u001b[0m \u001b[0mannot\u001b[0m\u001b[0;34m=\u001b[0m\u001b[0;32mTrue\u001b[0m\u001b[0;34m,\u001b[0m \u001b[0mcmap\u001b[0m\u001b[0;34m=\u001b[0m\u001b[0;34m'coolwarm'\u001b[0m\u001b[0;34m,\u001b[0m \u001b[0mvmin\u001b[0m\u001b[0;34m=\u001b[0m\u001b[0;34m-\u001b[0m\u001b[0;36m1\u001b[0m\u001b[0;34m,\u001b[0m \u001b[0mvmax\u001b[0m\u001b[0;34m=\u001b[0m\u001b[0;36m1\u001b[0m\u001b[0;34m,\u001b[0m \u001b[0mfmt\u001b[0m\u001b[0;34m=\u001b[0m\u001b[0;34m'.2f'\u001b[0m\u001b[0;34m,\u001b[0m \u001b[0mlinewidths\u001b[0m\u001b[0;34m=\u001b[0m\u001b[0;36m0.5\u001b[0m\u001b[0;34m)\u001b[0m\u001b[0;34m\u001b[0m\u001b[0;34m\u001b[0m\u001b[0m\n\u001b[1;32m      7\u001b[0m \u001b[0mplt\u001b[0m\u001b[0;34m.\u001b[0m\u001b[0mtitle\u001b[0m\u001b[0;34m(\u001b[0m\u001b[0;34m'Correlation Matrix'\u001b[0m\u001b[0;34m)\u001b[0m\u001b[0;34m\u001b[0m\u001b[0;34m\u001b[0m\u001b[0m\n\u001b[0;32m----> 8\u001b[0;31m \u001b[0mplt\u001b[0m\u001b[0;34m.\u001b[0m\u001b[0mshow\u001b[0m\u001b[0;34m(\u001b[0m\u001b[0;34m)\u001b[0m\u001b[0;34m\u001b[0m\u001b[0;34m\u001b[0m\u001b[0m\n\u001b[0m",
            "\u001b[0;32m/usr/local/lib/python3.10/dist-packages/matplotlib/pyplot.py\u001b[0m in \u001b[0;36mshow\u001b[0;34m(*args, **kwargs)\u001b[0m\n\u001b[1;32m    444\u001b[0m     \"\"\"\n\u001b[1;32m    445\u001b[0m     \u001b[0m_warn_if_gui_out_of_main_thread\u001b[0m\u001b[0;34m(\u001b[0m\u001b[0;34m)\u001b[0m\u001b[0;34m\u001b[0m\u001b[0;34m\u001b[0m\u001b[0m\n\u001b[0;32m--> 446\u001b[0;31m     \u001b[0;32mreturn\u001b[0m \u001b[0m_get_backend_mod\u001b[0m\u001b[0;34m(\u001b[0m\u001b[0;34m)\u001b[0m\u001b[0;34m.\u001b[0m\u001b[0mshow\u001b[0m\u001b[0;34m(\u001b[0m\u001b[0;34m*\u001b[0m\u001b[0margs\u001b[0m\u001b[0;34m,\u001b[0m \u001b[0;34m**\u001b[0m\u001b[0mkwargs\u001b[0m\u001b[0;34m)\u001b[0m\u001b[0;34m\u001b[0m\u001b[0;34m\u001b[0m\u001b[0m\n\u001b[0m\u001b[1;32m    447\u001b[0m \u001b[0;34m\u001b[0m\u001b[0m\n\u001b[1;32m    448\u001b[0m \u001b[0;34m\u001b[0m\u001b[0m\n",
            "\u001b[0;32m/usr/local/lib/python3.10/dist-packages/matplotlib_inline/backend_inline.py\u001b[0m in \u001b[0;36mshow\u001b[0;34m(close, block)\u001b[0m\n\u001b[1;32m     88\u001b[0m     \u001b[0;32mtry\u001b[0m\u001b[0;34m:\u001b[0m\u001b[0;34m\u001b[0m\u001b[0;34m\u001b[0m\u001b[0m\n\u001b[1;32m     89\u001b[0m         \u001b[0;32mfor\u001b[0m \u001b[0mfigure_manager\u001b[0m \u001b[0;32min\u001b[0m \u001b[0mGcf\u001b[0m\u001b[0;34m.\u001b[0m\u001b[0mget_all_fig_managers\u001b[0m\u001b[0;34m(\u001b[0m\u001b[0;34m)\u001b[0m\u001b[0;34m:\u001b[0m\u001b[0;34m\u001b[0m\u001b[0;34m\u001b[0m\u001b[0m\n\u001b[0;32m---> 90\u001b[0;31m             display(\n\u001b[0m\u001b[1;32m     91\u001b[0m                 \u001b[0mfigure_manager\u001b[0m\u001b[0;34m.\u001b[0m\u001b[0mcanvas\u001b[0m\u001b[0;34m.\u001b[0m\u001b[0mfigure\u001b[0m\u001b[0;34m,\u001b[0m\u001b[0;34m\u001b[0m\u001b[0;34m\u001b[0m\u001b[0m\n\u001b[1;32m     92\u001b[0m                 \u001b[0mmetadata\u001b[0m\u001b[0;34m=\u001b[0m\u001b[0m_fetch_figure_metadata\u001b[0m\u001b[0;34m(\u001b[0m\u001b[0mfigure_manager\u001b[0m\u001b[0;34m.\u001b[0m\u001b[0mcanvas\u001b[0m\u001b[0;34m.\u001b[0m\u001b[0mfigure\u001b[0m\u001b[0;34m)\u001b[0m\u001b[0;34m\u001b[0m\u001b[0;34m\u001b[0m\u001b[0m\n",
            "\u001b[0;32m/usr/local/lib/python3.10/dist-packages/IPython/core/display.py\u001b[0m in \u001b[0;36mdisplay\u001b[0;34m(include, exclude, metadata, transient, display_id, *objs, **kwargs)\u001b[0m\n\u001b[1;32m    318\u001b[0m             \u001b[0mpublish_display_data\u001b[0m\u001b[0;34m(\u001b[0m\u001b[0mdata\u001b[0m\u001b[0;34m=\u001b[0m\u001b[0mobj\u001b[0m\u001b[0;34m,\u001b[0m \u001b[0mmetadata\u001b[0m\u001b[0;34m=\u001b[0m\u001b[0mmetadata\u001b[0m\u001b[0;34m,\u001b[0m \u001b[0;34m**\u001b[0m\u001b[0mkwargs\u001b[0m\u001b[0;34m)\u001b[0m\u001b[0;34m\u001b[0m\u001b[0;34m\u001b[0m\u001b[0m\n\u001b[1;32m    319\u001b[0m         \u001b[0;32melse\u001b[0m\u001b[0;34m:\u001b[0m\u001b[0;34m\u001b[0m\u001b[0;34m\u001b[0m\u001b[0m\n\u001b[0;32m--> 320\u001b[0;31m             \u001b[0mformat_dict\u001b[0m\u001b[0;34m,\u001b[0m \u001b[0mmd_dict\u001b[0m \u001b[0;34m=\u001b[0m \u001b[0mformat\u001b[0m\u001b[0;34m(\u001b[0m\u001b[0mobj\u001b[0m\u001b[0;34m,\u001b[0m \u001b[0minclude\u001b[0m\u001b[0;34m=\u001b[0m\u001b[0minclude\u001b[0m\u001b[0;34m,\u001b[0m \u001b[0mexclude\u001b[0m\u001b[0;34m=\u001b[0m\u001b[0mexclude\u001b[0m\u001b[0;34m)\u001b[0m\u001b[0;34m\u001b[0m\u001b[0;34m\u001b[0m\u001b[0m\n\u001b[0m\u001b[1;32m    321\u001b[0m             \u001b[0;32mif\u001b[0m \u001b[0;32mnot\u001b[0m \u001b[0mformat_dict\u001b[0m\u001b[0;34m:\u001b[0m\u001b[0;34m\u001b[0m\u001b[0;34m\u001b[0m\u001b[0m\n\u001b[1;32m    322\u001b[0m                 \u001b[0;31m# nothing to display (e.g. _ipython_display_ took over)\u001b[0m\u001b[0;34m\u001b[0m\u001b[0;34m\u001b[0m\u001b[0m\n",
            "\u001b[0;32m/usr/local/lib/python3.10/dist-packages/IPython/core/formatters.py\u001b[0m in \u001b[0;36mformat\u001b[0;34m(self, obj, include, exclude)\u001b[0m\n\u001b[1;32m    178\u001b[0m             \u001b[0mmd\u001b[0m \u001b[0;34m=\u001b[0m \u001b[0;32mNone\u001b[0m\u001b[0;34m\u001b[0m\u001b[0;34m\u001b[0m\u001b[0m\n\u001b[1;32m    179\u001b[0m             \u001b[0;32mtry\u001b[0m\u001b[0;34m:\u001b[0m\u001b[0;34m\u001b[0m\u001b[0;34m\u001b[0m\u001b[0m\n\u001b[0;32m--> 180\u001b[0;31m                 \u001b[0mdata\u001b[0m \u001b[0;34m=\u001b[0m \u001b[0mformatter\u001b[0m\u001b[0;34m(\u001b[0m\u001b[0mobj\u001b[0m\u001b[0;34m)\u001b[0m\u001b[0;34m\u001b[0m\u001b[0;34m\u001b[0m\u001b[0m\n\u001b[0m\u001b[1;32m    181\u001b[0m             \u001b[0;32mexcept\u001b[0m\u001b[0;34m:\u001b[0m\u001b[0;34m\u001b[0m\u001b[0;34m\u001b[0m\u001b[0m\n\u001b[1;32m    182\u001b[0m                 \u001b[0;31m# FIXME: log the exception\u001b[0m\u001b[0;34m\u001b[0m\u001b[0;34m\u001b[0m\u001b[0m\n",
            "\u001b[0;32m<decorator-gen-2>\u001b[0m in \u001b[0;36m__call__\u001b[0;34m(self, obj)\u001b[0m\n",
            "\u001b[0;32m/usr/local/lib/python3.10/dist-packages/IPython/core/formatters.py\u001b[0m in \u001b[0;36mcatch_format_error\u001b[0;34m(method, self, *args, **kwargs)\u001b[0m\n\u001b[1;32m    222\u001b[0m     \u001b[0;34m\"\"\"show traceback on failed format call\"\"\"\u001b[0m\u001b[0;34m\u001b[0m\u001b[0;34m\u001b[0m\u001b[0m\n\u001b[1;32m    223\u001b[0m     \u001b[0;32mtry\u001b[0m\u001b[0;34m:\u001b[0m\u001b[0;34m\u001b[0m\u001b[0;34m\u001b[0m\u001b[0m\n\u001b[0;32m--> 224\u001b[0;31m         \u001b[0mr\u001b[0m \u001b[0;34m=\u001b[0m \u001b[0mmethod\u001b[0m\u001b[0;34m(\u001b[0m\u001b[0mself\u001b[0m\u001b[0;34m,\u001b[0m \u001b[0;34m*\u001b[0m\u001b[0margs\u001b[0m\u001b[0;34m,\u001b[0m \u001b[0;34m**\u001b[0m\u001b[0mkwargs\u001b[0m\u001b[0;34m)\u001b[0m\u001b[0;34m\u001b[0m\u001b[0;34m\u001b[0m\u001b[0m\n\u001b[0m\u001b[1;32m    225\u001b[0m     \u001b[0;32mexcept\u001b[0m \u001b[0mNotImplementedError\u001b[0m\u001b[0;34m:\u001b[0m\u001b[0;34m\u001b[0m\u001b[0;34m\u001b[0m\u001b[0m\n\u001b[1;32m    226\u001b[0m         \u001b[0;31m# don't warn on NotImplementedErrors\u001b[0m\u001b[0;34m\u001b[0m\u001b[0;34m\u001b[0m\u001b[0m\n",
            "\u001b[0;32m/usr/local/lib/python3.10/dist-packages/IPython/core/formatters.py\u001b[0m in \u001b[0;36m__call__\u001b[0;34m(self, obj)\u001b[0m\n\u001b[1;32m    339\u001b[0m                 \u001b[0;32mpass\u001b[0m\u001b[0;34m\u001b[0m\u001b[0;34m\u001b[0m\u001b[0m\n\u001b[1;32m    340\u001b[0m             \u001b[0;32melse\u001b[0m\u001b[0;34m:\u001b[0m\u001b[0;34m\u001b[0m\u001b[0;34m\u001b[0m\u001b[0m\n\u001b[0;32m--> 341\u001b[0;31m                 \u001b[0;32mreturn\u001b[0m \u001b[0mprinter\u001b[0m\u001b[0;34m(\u001b[0m\u001b[0mobj\u001b[0m\u001b[0;34m)\u001b[0m\u001b[0;34m\u001b[0m\u001b[0;34m\u001b[0m\u001b[0m\n\u001b[0m\u001b[1;32m    342\u001b[0m             \u001b[0;31m# Finally look for special method names\u001b[0m\u001b[0;34m\u001b[0m\u001b[0;34m\u001b[0m\u001b[0m\n\u001b[1;32m    343\u001b[0m             \u001b[0mmethod\u001b[0m \u001b[0;34m=\u001b[0m \u001b[0mget_real_method\u001b[0m\u001b[0;34m(\u001b[0m\u001b[0mobj\u001b[0m\u001b[0;34m,\u001b[0m \u001b[0mself\u001b[0m\u001b[0;34m.\u001b[0m\u001b[0mprint_method\u001b[0m\u001b[0;34m)\u001b[0m\u001b[0;34m\u001b[0m\u001b[0;34m\u001b[0m\u001b[0m\n",
            "\u001b[0;32m/usr/local/lib/python3.10/dist-packages/IPython/core/pylabtools.py\u001b[0m in \u001b[0;36mprint_figure\u001b[0;34m(fig, fmt, bbox_inches, base64, **kwargs)\u001b[0m\n\u001b[1;32m    149\u001b[0m         \u001b[0mFigureCanvasBase\u001b[0m\u001b[0;34m(\u001b[0m\u001b[0mfig\u001b[0m\u001b[0;34m)\u001b[0m\u001b[0;34m\u001b[0m\u001b[0;34m\u001b[0m\u001b[0m\n\u001b[1;32m    150\u001b[0m \u001b[0;34m\u001b[0m\u001b[0m\n\u001b[0;32m--> 151\u001b[0;31m     \u001b[0mfig\u001b[0m\u001b[0;34m.\u001b[0m\u001b[0mcanvas\u001b[0m\u001b[0;34m.\u001b[0m\u001b[0mprint_figure\u001b[0m\u001b[0;34m(\u001b[0m\u001b[0mbytes_io\u001b[0m\u001b[0;34m,\u001b[0m \u001b[0;34m**\u001b[0m\u001b[0mkw\u001b[0m\u001b[0;34m)\u001b[0m\u001b[0;34m\u001b[0m\u001b[0;34m\u001b[0m\u001b[0m\n\u001b[0m\u001b[1;32m    152\u001b[0m     \u001b[0mdata\u001b[0m \u001b[0;34m=\u001b[0m \u001b[0mbytes_io\u001b[0m\u001b[0;34m.\u001b[0m\u001b[0mgetvalue\u001b[0m\u001b[0;34m(\u001b[0m\u001b[0;34m)\u001b[0m\u001b[0;34m\u001b[0m\u001b[0;34m\u001b[0m\u001b[0m\n\u001b[1;32m    153\u001b[0m     \u001b[0;32mif\u001b[0m \u001b[0mfmt\u001b[0m \u001b[0;34m==\u001b[0m \u001b[0;34m'svg'\u001b[0m\u001b[0;34m:\u001b[0m\u001b[0;34m\u001b[0m\u001b[0;34m\u001b[0m\u001b[0m\n",
            "\u001b[0;32m/usr/local/lib/python3.10/dist-packages/matplotlib/backend_bases.py\u001b[0m in \u001b[0;36mprint_figure\u001b[0;34m(self, filename, dpi, facecolor, edgecolor, orientation, format, bbox_inches, pad_inches, bbox_extra_artists, backend, **kwargs)\u001b[0m\n\u001b[1;32m   2364\u001b[0m                 \u001b[0;31m# force the figure dpi to 72), so we need to set it again here.\u001b[0m\u001b[0;34m\u001b[0m\u001b[0;34m\u001b[0m\u001b[0m\n\u001b[1;32m   2365\u001b[0m                 \u001b[0;32mwith\u001b[0m \u001b[0mcbook\u001b[0m\u001b[0;34m.\u001b[0m\u001b[0m_setattr_cm\u001b[0m\u001b[0;34m(\u001b[0m\u001b[0mself\u001b[0m\u001b[0;34m.\u001b[0m\u001b[0mfigure\u001b[0m\u001b[0;34m,\u001b[0m \u001b[0mdpi\u001b[0m\u001b[0;34m=\u001b[0m\u001b[0mdpi\u001b[0m\u001b[0;34m)\u001b[0m\u001b[0;34m:\u001b[0m\u001b[0;34m\u001b[0m\u001b[0;34m\u001b[0m\u001b[0m\n\u001b[0;32m-> 2366\u001b[0;31m                     result = print_method(\n\u001b[0m\u001b[1;32m   2367\u001b[0m                         \u001b[0mfilename\u001b[0m\u001b[0;34m,\u001b[0m\u001b[0;34m\u001b[0m\u001b[0;34m\u001b[0m\u001b[0m\n\u001b[1;32m   2368\u001b[0m                         \u001b[0mfacecolor\u001b[0m\u001b[0;34m=\u001b[0m\u001b[0mfacecolor\u001b[0m\u001b[0;34m,\u001b[0m\u001b[0;34m\u001b[0m\u001b[0;34m\u001b[0m\u001b[0m\n",
            "\u001b[0;32m/usr/local/lib/python3.10/dist-packages/matplotlib/backend_bases.py\u001b[0m in \u001b[0;36m<lambda>\u001b[0;34m(*args, **kwargs)\u001b[0m\n\u001b[1;32m   2230\u001b[0m                 \"bbox_inches_restore\"}\n\u001b[1;32m   2231\u001b[0m             \u001b[0mskip\u001b[0m \u001b[0;34m=\u001b[0m \u001b[0moptional_kws\u001b[0m \u001b[0;34m-\u001b[0m \u001b[0;34m{\u001b[0m\u001b[0;34m*\u001b[0m\u001b[0minspect\u001b[0m\u001b[0;34m.\u001b[0m\u001b[0msignature\u001b[0m\u001b[0;34m(\u001b[0m\u001b[0mmeth\u001b[0m\u001b[0;34m)\u001b[0m\u001b[0;34m.\u001b[0m\u001b[0mparameters\u001b[0m\u001b[0;34m}\u001b[0m\u001b[0;34m\u001b[0m\u001b[0;34m\u001b[0m\u001b[0m\n\u001b[0;32m-> 2232\u001b[0;31m             print_method = functools.wraps(meth)(lambda *args, **kwargs: meth(\n\u001b[0m\u001b[1;32m   2233\u001b[0m                 *args, **{k: v for k, v in kwargs.items() if k not in skip}))\n\u001b[1;32m   2234\u001b[0m         \u001b[0;32melse\u001b[0m\u001b[0;34m:\u001b[0m  \u001b[0;31m# Let third-parties do as they see fit.\u001b[0m\u001b[0;34m\u001b[0m\u001b[0;34m\u001b[0m\u001b[0m\n",
            "\u001b[0;32m/usr/local/lib/python3.10/dist-packages/matplotlib/backends/backend_agg.py\u001b[0m in \u001b[0;36mprint_png\u001b[0;34m(self, filename_or_obj, metadata, pil_kwargs)\u001b[0m\n\u001b[1;32m    507\u001b[0m             \u001b[0;34m*\u001b[0m\u001b[0mmetadata\u001b[0m\u001b[0;34m*\u001b[0m\u001b[0;34m,\u001b[0m \u001b[0mincluding\u001b[0m \u001b[0mthe\u001b[0m \u001b[0mdefault\u001b[0m \u001b[0;34m'Software'\u001b[0m \u001b[0mkey\u001b[0m\u001b[0;34m.\u001b[0m\u001b[0;34m\u001b[0m\u001b[0;34m\u001b[0m\u001b[0m\n\u001b[1;32m    508\u001b[0m         \"\"\"\n\u001b[0;32m--> 509\u001b[0;31m         \u001b[0mself\u001b[0m\u001b[0;34m.\u001b[0m\u001b[0m_print_pil\u001b[0m\u001b[0;34m(\u001b[0m\u001b[0mfilename_or_obj\u001b[0m\u001b[0;34m,\u001b[0m \u001b[0;34m\"png\"\u001b[0m\u001b[0;34m,\u001b[0m \u001b[0mpil_kwargs\u001b[0m\u001b[0;34m,\u001b[0m \u001b[0mmetadata\u001b[0m\u001b[0;34m)\u001b[0m\u001b[0;34m\u001b[0m\u001b[0;34m\u001b[0m\u001b[0m\n\u001b[0m\u001b[1;32m    510\u001b[0m \u001b[0;34m\u001b[0m\u001b[0m\n\u001b[1;32m    511\u001b[0m     \u001b[0;32mdef\u001b[0m \u001b[0mprint_to_buffer\u001b[0m\u001b[0;34m(\u001b[0m\u001b[0mself\u001b[0m\u001b[0;34m)\u001b[0m\u001b[0;34m:\u001b[0m\u001b[0;34m\u001b[0m\u001b[0;34m\u001b[0m\u001b[0m\n",
            "\u001b[0;32m/usr/local/lib/python3.10/dist-packages/matplotlib/backends/backend_agg.py\u001b[0m in \u001b[0;36m_print_pil\u001b[0;34m(self, filename_or_obj, fmt, pil_kwargs, metadata)\u001b[0m\n\u001b[1;32m    455\u001b[0m         *pil_kwargs* and *metadata* are forwarded).\n\u001b[1;32m    456\u001b[0m         \"\"\"\n\u001b[0;32m--> 457\u001b[0;31m         \u001b[0mFigureCanvasAgg\u001b[0m\u001b[0;34m.\u001b[0m\u001b[0mdraw\u001b[0m\u001b[0;34m(\u001b[0m\u001b[0mself\u001b[0m\u001b[0;34m)\u001b[0m\u001b[0;34m\u001b[0m\u001b[0;34m\u001b[0m\u001b[0m\n\u001b[0m\u001b[1;32m    458\u001b[0m         mpl.image.imsave(\n\u001b[1;32m    459\u001b[0m             \u001b[0mfilename_or_obj\u001b[0m\u001b[0;34m,\u001b[0m \u001b[0mself\u001b[0m\u001b[0;34m.\u001b[0m\u001b[0mbuffer_rgba\u001b[0m\u001b[0;34m(\u001b[0m\u001b[0;34m)\u001b[0m\u001b[0;34m,\u001b[0m \u001b[0mformat\u001b[0m\u001b[0;34m=\u001b[0m\u001b[0mfmt\u001b[0m\u001b[0;34m,\u001b[0m \u001b[0morigin\u001b[0m\u001b[0;34m=\u001b[0m\u001b[0;34m\"upper\"\u001b[0m\u001b[0;34m,\u001b[0m\u001b[0;34m\u001b[0m\u001b[0;34m\u001b[0m\u001b[0m\n",
            "\u001b[0;32m/usr/local/lib/python3.10/dist-packages/matplotlib/backends/backend_agg.py\u001b[0m in \u001b[0;36mdraw\u001b[0;34m(self)\u001b[0m\n\u001b[1;32m    398\u001b[0m              (self.toolbar._wait_cursor_for_draw_cm() if self.toolbar\n\u001b[1;32m    399\u001b[0m               else nullcontext()):\n\u001b[0;32m--> 400\u001b[0;31m             \u001b[0mself\u001b[0m\u001b[0;34m.\u001b[0m\u001b[0mfigure\u001b[0m\u001b[0;34m.\u001b[0m\u001b[0mdraw\u001b[0m\u001b[0;34m(\u001b[0m\u001b[0mself\u001b[0m\u001b[0;34m.\u001b[0m\u001b[0mrenderer\u001b[0m\u001b[0;34m)\u001b[0m\u001b[0;34m\u001b[0m\u001b[0;34m\u001b[0m\u001b[0m\n\u001b[0m\u001b[1;32m    401\u001b[0m             \u001b[0;31m# A GUI class may be need to update a window using this draw, so\u001b[0m\u001b[0;34m\u001b[0m\u001b[0;34m\u001b[0m\u001b[0m\n\u001b[1;32m    402\u001b[0m             \u001b[0;31m# don't forget to call the superclass.\u001b[0m\u001b[0;34m\u001b[0m\u001b[0;34m\u001b[0m\u001b[0m\n",
            "\u001b[0;32m/usr/local/lib/python3.10/dist-packages/matplotlib/artist.py\u001b[0m in \u001b[0;36mdraw_wrapper\u001b[0;34m(artist, renderer, *args, **kwargs)\u001b[0m\n\u001b[1;32m     93\u001b[0m     \u001b[0;34m@\u001b[0m\u001b[0mwraps\u001b[0m\u001b[0;34m(\u001b[0m\u001b[0mdraw\u001b[0m\u001b[0;34m)\u001b[0m\u001b[0;34m\u001b[0m\u001b[0;34m\u001b[0m\u001b[0m\n\u001b[1;32m     94\u001b[0m     \u001b[0;32mdef\u001b[0m \u001b[0mdraw_wrapper\u001b[0m\u001b[0;34m(\u001b[0m\u001b[0martist\u001b[0m\u001b[0;34m,\u001b[0m \u001b[0mrenderer\u001b[0m\u001b[0;34m,\u001b[0m \u001b[0;34m*\u001b[0m\u001b[0margs\u001b[0m\u001b[0;34m,\u001b[0m \u001b[0;34m**\u001b[0m\u001b[0mkwargs\u001b[0m\u001b[0;34m)\u001b[0m\u001b[0;34m:\u001b[0m\u001b[0;34m\u001b[0m\u001b[0;34m\u001b[0m\u001b[0m\n\u001b[0;32m---> 95\u001b[0;31m         \u001b[0mresult\u001b[0m \u001b[0;34m=\u001b[0m \u001b[0mdraw\u001b[0m\u001b[0;34m(\u001b[0m\u001b[0martist\u001b[0m\u001b[0;34m,\u001b[0m \u001b[0mrenderer\u001b[0m\u001b[0;34m,\u001b[0m \u001b[0;34m*\u001b[0m\u001b[0margs\u001b[0m\u001b[0;34m,\u001b[0m \u001b[0;34m**\u001b[0m\u001b[0mkwargs\u001b[0m\u001b[0;34m)\u001b[0m\u001b[0;34m\u001b[0m\u001b[0;34m\u001b[0m\u001b[0m\n\u001b[0m\u001b[1;32m     96\u001b[0m         \u001b[0;32mif\u001b[0m \u001b[0mrenderer\u001b[0m\u001b[0;34m.\u001b[0m\u001b[0m_rasterizing\u001b[0m\u001b[0;34m:\u001b[0m\u001b[0;34m\u001b[0m\u001b[0;34m\u001b[0m\u001b[0m\n\u001b[1;32m     97\u001b[0m             \u001b[0mrenderer\u001b[0m\u001b[0;34m.\u001b[0m\u001b[0mstop_rasterizing\u001b[0m\u001b[0;34m(\u001b[0m\u001b[0;34m)\u001b[0m\u001b[0;34m\u001b[0m\u001b[0;34m\u001b[0m\u001b[0m\n",
            "\u001b[0;32m/usr/local/lib/python3.10/dist-packages/matplotlib/artist.py\u001b[0m in \u001b[0;36mdraw_wrapper\u001b[0;34m(artist, renderer)\u001b[0m\n\u001b[1;32m     70\u001b[0m                 \u001b[0mrenderer\u001b[0m\u001b[0;34m.\u001b[0m\u001b[0mstart_filter\u001b[0m\u001b[0;34m(\u001b[0m\u001b[0;34m)\u001b[0m\u001b[0;34m\u001b[0m\u001b[0;34m\u001b[0m\u001b[0m\n\u001b[1;32m     71\u001b[0m \u001b[0;34m\u001b[0m\u001b[0m\n\u001b[0;32m---> 72\u001b[0;31m             \u001b[0;32mreturn\u001b[0m \u001b[0mdraw\u001b[0m\u001b[0;34m(\u001b[0m\u001b[0martist\u001b[0m\u001b[0;34m,\u001b[0m \u001b[0mrenderer\u001b[0m\u001b[0;34m)\u001b[0m\u001b[0;34m\u001b[0m\u001b[0;34m\u001b[0m\u001b[0m\n\u001b[0m\u001b[1;32m     73\u001b[0m         \u001b[0;32mfinally\u001b[0m\u001b[0;34m:\u001b[0m\u001b[0;34m\u001b[0m\u001b[0;34m\u001b[0m\u001b[0m\n\u001b[1;32m     74\u001b[0m             \u001b[0;32mif\u001b[0m \u001b[0martist\u001b[0m\u001b[0;34m.\u001b[0m\u001b[0mget_agg_filter\u001b[0m\u001b[0;34m(\u001b[0m\u001b[0;34m)\u001b[0m \u001b[0;32mis\u001b[0m \u001b[0;32mnot\u001b[0m \u001b[0;32mNone\u001b[0m\u001b[0;34m:\u001b[0m\u001b[0;34m\u001b[0m\u001b[0;34m\u001b[0m\u001b[0m\n",
            "\u001b[0;32m/usr/local/lib/python3.10/dist-packages/matplotlib/figure.py\u001b[0m in \u001b[0;36mdraw\u001b[0;34m(self, renderer)\u001b[0m\n\u001b[1;32m   3138\u001b[0m \u001b[0;34m\u001b[0m\u001b[0m\n\u001b[1;32m   3139\u001b[0m             \u001b[0mself\u001b[0m\u001b[0;34m.\u001b[0m\u001b[0mpatch\u001b[0m\u001b[0;34m.\u001b[0m\u001b[0mdraw\u001b[0m\u001b[0;34m(\u001b[0m\u001b[0mrenderer\u001b[0m\u001b[0;34m)\u001b[0m\u001b[0;34m\u001b[0m\u001b[0;34m\u001b[0m\u001b[0m\n\u001b[0;32m-> 3140\u001b[0;31m             mimage._draw_list_compositing_images(\n\u001b[0m\u001b[1;32m   3141\u001b[0m                 renderer, self, artists, self.suppressComposite)\n\u001b[1;32m   3142\u001b[0m \u001b[0;34m\u001b[0m\u001b[0m\n",
            "\u001b[0;32m/usr/local/lib/python3.10/dist-packages/matplotlib/image.py\u001b[0m in \u001b[0;36m_draw_list_compositing_images\u001b[0;34m(renderer, parent, artists, suppress_composite)\u001b[0m\n\u001b[1;32m    129\u001b[0m     \u001b[0;32mif\u001b[0m \u001b[0mnot_composite\u001b[0m \u001b[0;32mor\u001b[0m \u001b[0;32mnot\u001b[0m \u001b[0mhas_images\u001b[0m\u001b[0;34m:\u001b[0m\u001b[0;34m\u001b[0m\u001b[0;34m\u001b[0m\u001b[0m\n\u001b[1;32m    130\u001b[0m         \u001b[0;32mfor\u001b[0m \u001b[0ma\u001b[0m \u001b[0;32min\u001b[0m \u001b[0martists\u001b[0m\u001b[0;34m:\u001b[0m\u001b[0;34m\u001b[0m\u001b[0;34m\u001b[0m\u001b[0m\n\u001b[0;32m--> 131\u001b[0;31m             \u001b[0ma\u001b[0m\u001b[0;34m.\u001b[0m\u001b[0mdraw\u001b[0m\u001b[0;34m(\u001b[0m\u001b[0mrenderer\u001b[0m\u001b[0;34m)\u001b[0m\u001b[0;34m\u001b[0m\u001b[0;34m\u001b[0m\u001b[0m\n\u001b[0m\u001b[1;32m    132\u001b[0m     \u001b[0;32melse\u001b[0m\u001b[0;34m:\u001b[0m\u001b[0;34m\u001b[0m\u001b[0;34m\u001b[0m\u001b[0m\n\u001b[1;32m    133\u001b[0m         \u001b[0;31m# Composite any adjacent images together\u001b[0m\u001b[0;34m\u001b[0m\u001b[0;34m\u001b[0m\u001b[0m\n",
            "\u001b[0;32m/usr/local/lib/python3.10/dist-packages/matplotlib/artist.py\u001b[0m in \u001b[0;36mdraw_wrapper\u001b[0;34m(artist, renderer)\u001b[0m\n\u001b[1;32m     70\u001b[0m                 \u001b[0mrenderer\u001b[0m\u001b[0;34m.\u001b[0m\u001b[0mstart_filter\u001b[0m\u001b[0;34m(\u001b[0m\u001b[0;34m)\u001b[0m\u001b[0;34m\u001b[0m\u001b[0;34m\u001b[0m\u001b[0m\n\u001b[1;32m     71\u001b[0m \u001b[0;34m\u001b[0m\u001b[0m\n\u001b[0;32m---> 72\u001b[0;31m             \u001b[0;32mreturn\u001b[0m \u001b[0mdraw\u001b[0m\u001b[0;34m(\u001b[0m\u001b[0martist\u001b[0m\u001b[0;34m,\u001b[0m \u001b[0mrenderer\u001b[0m\u001b[0;34m)\u001b[0m\u001b[0;34m\u001b[0m\u001b[0;34m\u001b[0m\u001b[0m\n\u001b[0m\u001b[1;32m     73\u001b[0m         \u001b[0;32mfinally\u001b[0m\u001b[0;34m:\u001b[0m\u001b[0;34m\u001b[0m\u001b[0;34m\u001b[0m\u001b[0m\n\u001b[1;32m     74\u001b[0m             \u001b[0;32mif\u001b[0m \u001b[0martist\u001b[0m\u001b[0;34m.\u001b[0m\u001b[0mget_agg_filter\u001b[0m\u001b[0;34m(\u001b[0m\u001b[0;34m)\u001b[0m \u001b[0;32mis\u001b[0m \u001b[0;32mnot\u001b[0m \u001b[0;32mNone\u001b[0m\u001b[0;34m:\u001b[0m\u001b[0;34m\u001b[0m\u001b[0;34m\u001b[0m\u001b[0m\n",
            "\u001b[0;32m/usr/local/lib/python3.10/dist-packages/matplotlib/axes/_base.py\u001b[0m in \u001b[0;36mdraw\u001b[0;34m(self, renderer)\u001b[0m\n\u001b[1;32m   3062\u001b[0m             \u001b[0m_draw_rasterized\u001b[0m\u001b[0;34m(\u001b[0m\u001b[0mself\u001b[0m\u001b[0;34m.\u001b[0m\u001b[0mfigure\u001b[0m\u001b[0;34m,\u001b[0m \u001b[0martists_rasterized\u001b[0m\u001b[0;34m,\u001b[0m \u001b[0mrenderer\u001b[0m\u001b[0;34m)\u001b[0m\u001b[0;34m\u001b[0m\u001b[0;34m\u001b[0m\u001b[0m\n\u001b[1;32m   3063\u001b[0m \u001b[0;34m\u001b[0m\u001b[0m\n\u001b[0;32m-> 3064\u001b[0;31m         mimage._draw_list_compositing_images(\n\u001b[0m\u001b[1;32m   3065\u001b[0m             renderer, self, artists, self.figure.suppressComposite)\n\u001b[1;32m   3066\u001b[0m \u001b[0;34m\u001b[0m\u001b[0m\n",
            "\u001b[0;32m/usr/local/lib/python3.10/dist-packages/matplotlib/image.py\u001b[0m in \u001b[0;36m_draw_list_compositing_images\u001b[0;34m(renderer, parent, artists, suppress_composite)\u001b[0m\n\u001b[1;32m    129\u001b[0m     \u001b[0;32mif\u001b[0m \u001b[0mnot_composite\u001b[0m \u001b[0;32mor\u001b[0m \u001b[0;32mnot\u001b[0m \u001b[0mhas_images\u001b[0m\u001b[0;34m:\u001b[0m\u001b[0;34m\u001b[0m\u001b[0;34m\u001b[0m\u001b[0m\n\u001b[1;32m    130\u001b[0m         \u001b[0;32mfor\u001b[0m \u001b[0ma\u001b[0m \u001b[0;32min\u001b[0m \u001b[0martists\u001b[0m\u001b[0;34m:\u001b[0m\u001b[0;34m\u001b[0m\u001b[0;34m\u001b[0m\u001b[0m\n\u001b[0;32m--> 131\u001b[0;31m             \u001b[0ma\u001b[0m\u001b[0;34m.\u001b[0m\u001b[0mdraw\u001b[0m\u001b[0;34m(\u001b[0m\u001b[0mrenderer\u001b[0m\u001b[0;34m)\u001b[0m\u001b[0;34m\u001b[0m\u001b[0;34m\u001b[0m\u001b[0m\n\u001b[0m\u001b[1;32m    132\u001b[0m     \u001b[0;32melse\u001b[0m\u001b[0;34m:\u001b[0m\u001b[0;34m\u001b[0m\u001b[0;34m\u001b[0m\u001b[0m\n\u001b[1;32m    133\u001b[0m         \u001b[0;31m# Composite any adjacent images together\u001b[0m\u001b[0;34m\u001b[0m\u001b[0;34m\u001b[0m\u001b[0m\n",
            "\u001b[0;32m/usr/local/lib/python3.10/dist-packages/matplotlib/artist.py\u001b[0m in \u001b[0;36mdraw_wrapper\u001b[0;34m(artist, renderer)\u001b[0m\n\u001b[1;32m     70\u001b[0m                 \u001b[0mrenderer\u001b[0m\u001b[0;34m.\u001b[0m\u001b[0mstart_filter\u001b[0m\u001b[0;34m(\u001b[0m\u001b[0;34m)\u001b[0m\u001b[0;34m\u001b[0m\u001b[0;34m\u001b[0m\u001b[0m\n\u001b[1;32m     71\u001b[0m \u001b[0;34m\u001b[0m\u001b[0m\n\u001b[0;32m---> 72\u001b[0;31m             \u001b[0;32mreturn\u001b[0m \u001b[0mdraw\u001b[0m\u001b[0;34m(\u001b[0m\u001b[0martist\u001b[0m\u001b[0;34m,\u001b[0m \u001b[0mrenderer\u001b[0m\u001b[0;34m)\u001b[0m\u001b[0;34m\u001b[0m\u001b[0;34m\u001b[0m\u001b[0m\n\u001b[0m\u001b[1;32m     73\u001b[0m         \u001b[0;32mfinally\u001b[0m\u001b[0;34m:\u001b[0m\u001b[0;34m\u001b[0m\u001b[0;34m\u001b[0m\u001b[0m\n\u001b[1;32m     74\u001b[0m             \u001b[0;32mif\u001b[0m \u001b[0martist\u001b[0m\u001b[0;34m.\u001b[0m\u001b[0mget_agg_filter\u001b[0m\u001b[0;34m(\u001b[0m\u001b[0;34m)\u001b[0m \u001b[0;32mis\u001b[0m \u001b[0;32mnot\u001b[0m \u001b[0;32mNone\u001b[0m\u001b[0;34m:\u001b[0m\u001b[0;34m\u001b[0m\u001b[0;34m\u001b[0m\u001b[0m\n",
            "\u001b[0;31mKeyboardInterrupt\u001b[0m: "
          ]
        }
      ],
      "source": [
        "# printing correlation matrix\n",
        "\n",
        "correlation_matrix = df.corr()\n",
        "\n",
        "plt.figure(figsize=(10, 8))  # Set the size of the plot\n",
        "sns.heatmap(correlation_matrix, annot=True, cmap='coolwarm', vmin=-1, vmax=1, fmt='.2f', linewidths=0.5)\n",
        "plt.title('Correlation Matrix')\n",
        "plt.show()"
      ]
    },
    {
      "cell_type": "markdown",
      "id": "61a833b3-c265-447a-b1d2-9f1adcfa6a4c",
      "metadata": {
        "id": "61a833b3-c265-447a-b1d2-9f1adcfa6a4c"
      },
      "source": [
        "Woah!! This is totally uninterpretable.\n",
        "\n",
        "Let's try two things:\n",
        "\n",
        "1) Printing the **pairs of features with the highest correlation** values\n",
        "2) Using **clustering** to identify **groups of similar features**, and printing smaller corrrelation matrices based on these groups.\n",
        "\n",
        "#### Printing Pairs of Correlated Features"
      ]
    },
    {
      "cell_type": "code",
      "execution_count": null,
      "id": "47676847-cfe5-449e-8cad-8540e4b243f4",
      "metadata": {
        "id": "47676847-cfe5-449e-8cad-8540e4b243f4"
      },
      "outputs": [],
      "source": [
        "correlation_matrix = df.corr().abs()  # Take the absolute value to focus on the strength of correlations\n",
        "np.fill_diagonal(correlation_matrix.values, 0)  # Set diagonal to 0 to ignore self-correlations\n",
        "\n",
        "# Find the indices of the maximum correlations\n",
        "high_corr_pairs = correlation_matrix.unstack().sort_values(ascending=False)\n",
        "\n",
        "# Display the top pairs\n",
        "print(high_corr_pairs.head(10))"
      ]
    },
    {
      "cell_type": "markdown",
      "id": "ff30785f-6fe8-43e3-9c88-b35cf67bf4c6",
      "metadata": {
        "id": "ff30785f-6fe8-43e3-9c88-b35cf67bf4c6"
      },
      "source": [
        "Woah! A ton of HIGHLY correlated pairs. Let's print a greater number so we can examine further."
      ]
    },
    {
      "cell_type": "code",
      "execution_count": null,
      "id": "f012a15c-f770-4ecf-a7f5-6e5c816e277e",
      "metadata": {
        "id": "f012a15c-f770-4ecf-a7f5-6e5c816e277e"
      },
      "outputs": [],
      "source": [
        "# Assuming 'df' is your DataFrame\n",
        "correlation_matrix = df.corr().abs()  # Take the absolute value to focus on the strength of correlations\n",
        "np.fill_diagonal(correlation_matrix.values, 0)  # Set diagonal to 0 to ignore self-correlations\n",
        "\n",
        "# Find the indices of the maximum correlations\n",
        "high_corr_pairs = correlation_matrix.unstack().sort_values(ascending=False)\n",
        "\n",
        "# Display the top pairs\n",
        "print(high_corr_pairs.head(50))"
      ]
    },
    {
      "cell_type": "markdown",
      "id": "e852dfc5-4c80-4919-b713-511b770d5154",
      "metadata": {
        "id": "e852dfc5-4c80-4919-b713-511b770d5154"
      },
      "source": [
        "Wow. Even printing the top 50, as opposed to the top 10, all the features are highly correlated.\n",
        "\n",
        "We can't move on to **K-Means Clustering** to group features, with so many (or really any) NaNs still in the dataframe. Let's harness domain knowledge from the Codebook to cut down correlated features, then printed correlated pairs again, then move on to clustering if possible.\n",
        "\n",
        "### Correlated Pairs: Using Codebook\n",
        "\n",
        "It's clear there are highly interrelated groups of features based on the correlated pairs printed above. Rather than wasting time identifying each of these features and their meaning in a markdown, I'll identify the group \"category\" (such as 'Smoking Habits'), and refer to the Codebook to identify which select feature(s) from this group will be most useful and why.\n",
        "\n",
        "I'll want to print the **number of non-nulls** in addition to the column names, so I can try and try and pick features with less NaN's if possible during my selection. This will help make imputations and cleaning easier to prepare for clustering.\n",
        "\n",
        "#### Smoking Habits"
      ]
    },
    {
      "cell_type": "code",
      "execution_count": 74,
      "id": "f9b4b0ba-beeb-43c6-bda9-048b05ab062b",
      "metadata": {
        "id": "f9b4b0ba-beeb-43c6-bda9-048b05ab062b",
        "outputId": "d8c5f42d-ff64-498f-9e16-c71aef722c64",
        "colab": {
          "base_uri": "https://localhost:8080/"
        }
      },
      "outputs": [
        {
          "output_type": "stream",
          "name": "stdout",
          "text": [
            "Column: smoke100, Non-null count: 413355\n",
            "Column: smokday2, Non-null count: 164053\n",
            "Column: _smoker3, Non-null count: 445132\n",
            "Column: _yrssmok, Non-null count: 147604\n",
            "Column: _smokgrp, Non-null count: 409670\n"
          ]
        }
      ],
      "source": [
        "# Find columns with 'smok' in their names\n",
        "smok_columns = [col for col in df.columns if 'smok' in col.lower()]\n",
        "\n",
        "# Print column names and their number of non-null values\n",
        "for col in smok_columns:\n",
        "    non_null_count = df[col].notnull().sum()\n",
        "    print(f\"Column: {col}, Non-null count: {non_null_count}\")"
      ]
    },
    {
      "cell_type": "markdown",
      "id": "e98889e7-4197-40b0-8683-aa54103a7ba0",
      "metadata": {
        "id": "e98889e7-4197-40b0-8683-aa54103a7ba0"
      },
      "source": [
        "##### SELECTS TO KEEP: _smokgrp\n",
        "\n",
        "Survey Question: Smoking Group\n",
        "\n",
        "Answer Values..."
      ]
    },
    {
      "cell_type": "code",
      "execution_count": 75,
      "id": "4e02f7b0-dd5d-4c85-a3eb-5d2adc48d350",
      "metadata": {
        "id": "4e02f7b0-dd5d-4c85-a3eb-5d2adc48d350"
      },
      "outputs": [],
      "source": [
        "#ADDING TO DICTIONARY CODEBOOK KEY\n",
        "codebook_key['_smokgrp'] = {\n",
        "    'Question': 'Smoking Group',\n",
        "    'Answers': {\n",
        "    1: 'Current smoker, 20+ Pack Years',\n",
        "    2: 'Former smoker, 20+ Pack years, quit < 15 years',\n",
        "    3: 'All other current and former smokers',\n",
        "    4: 'Never smoker',\n",
        "    0: 'Dont know/Refused/Missing'\n",
        "    }\n",
        "}"
      ]
    },
    {
      "cell_type": "code",
      "execution_count": 76,
      "id": "e23c9676-be79-4c63-88ed-048ff1e2e7d6",
      "metadata": {
        "id": "e23c9676-be79-4c63-88ed-048ff1e2e7d6"
      },
      "outputs": [],
      "source": [
        "# List of columns to drop\n",
        "columns_to_drop = ['smoke100', 'smokday2', '_smoker3', '_yrssmok']\n",
        "\n",
        "# Drop the specified columns\n",
        "df = df.drop(columns=columns_to_drop)\n",
        "\n",
        "# Use .loc to fill NaN values in '_smokgrp' with 0\n",
        "df.loc[:, '_smokgrp'] = df['_smokgrp'].fillna(0)"
      ]
    },
    {
      "cell_type": "markdown",
      "id": "7d85baf6-83f6-4dc5-a66a-069cf6ef3771",
      "metadata": {
        "id": "7d85baf6-83f6-4dc5-a66a-069cf6ef3771"
      },
      "source": [
        "#### Sex Group"
      ]
    },
    {
      "cell_type": "code",
      "execution_count": null,
      "id": "665e954f-cd95-41af-8b13-b459620a5242",
      "metadata": {
        "id": "665e954f-cd95-41af-8b13-b459620a5242"
      },
      "outputs": [],
      "source": [
        "# Find columns with 'sex' in their names\n",
        "sex_columns = [col for col in df.columns if 'sex' in col.lower()]\n",
        "\n",
        "# Print column names and their number of non-null values\n",
        "for col in sex_columns:\n",
        "    non_null_count = df[col].notnull().sum()\n",
        "    print(f\"Column: {col}, Non-null count: {non_null_count}\")"
      ]
    },
    {
      "cell_type": "markdown",
      "id": "1ed9e65d-dd71-4f24-a38e-7055a45d03ce",
      "metadata": {
        "id": "1ed9e65d-dd71-4f24-a38e-7055a45d03ce"
      },
      "source": [
        "##### SELECTS TO KEEP: _sex\n",
        "\n",
        "Survey Question: Calculated sex variable\n",
        "\n",
        "Answer Values..."
      ]
    },
    {
      "cell_type": "code",
      "execution_count": null,
      "id": "3d624708-fd0b-46f6-8c3d-8dd537db982e",
      "metadata": {
        "id": "3d624708-fd0b-46f6-8c3d-8dd537db982e"
      },
      "outputs": [],
      "source": [
        "# ADDING TO DICTIONARY CODEBOOK KEY\n",
        "codebook_key['_sex']: {\n",
        "    'Question': 'Calculated sex variable',\n",
        "    'Answers': {\n",
        "    1: 'Male',\n",
        "    2: 'Female',\n",
        "    }\n",
        "}"
      ]
    },
    {
      "cell_type": "code",
      "execution_count": 77,
      "id": "afbb9c03-4ab9-4dd0-878b-0aed528f3b58",
      "metadata": {
        "id": "afbb9c03-4ab9-4dd0-878b-0aed528f3b58"
      },
      "outputs": [],
      "source": [
        "# List of columns to drop\n",
        "columns_to_drop = ['cellsex1', 'sexvar', 'birthsex']\n",
        "\n",
        "# Drop the specified columns\n",
        "df = df.drop(columns=columns_to_drop)"
      ]
    },
    {
      "cell_type": "markdown",
      "id": "e8acd987-8a88-463e-a8d0-ff05df7c4969",
      "metadata": {
        "id": "e8acd987-8a88-463e-a8d0-ff05df7c4969"
      },
      "source": [
        "#### Age Group"
      ]
    },
    {
      "cell_type": "code",
      "execution_count": null,
      "id": "7514c099-39f8-420a-8bf5-0546fb45da45",
      "metadata": {
        "id": "7514c099-39f8-420a-8bf5-0546fb45da45"
      },
      "outputs": [],
      "source": [
        "# Find columns with 'age' in their names\n",
        "age_columns = [col for col in df.columns if 'age' in col.lower()]\n",
        "\n",
        "# Print column names and their number of non-null values\n",
        "for col in age_columns:\n",
        "    non_null_count = df[col].notnull().sum()\n",
        "    print(f\"Column: {col}, Non-null count: {non_null_count}\")"
      ]
    },
    {
      "cell_type": "markdown",
      "id": "dfa44c4a-6958-4ebb-87e6-85eadbff3d89",
      "metadata": {
        "id": "dfa44c4a-6958-4ebb-87e6-85eadbff3d89"
      },
      "source": [
        "##### SELECTS TO KEEP: _age_g\n"
      ]
    },
    {
      "cell_type": "markdown",
      "id": "7eb8e4fc-e6bd-4374-bce2-52dce79324bb",
      "metadata": {
        "id": "7eb8e4fc-e6bd-4374-bce2-52dce79324bb"
      },
      "source": [
        "##### _age_g\n",
        "\n",
        "Survey Question: Six-level imputed age category\n",
        "\n",
        "Answer Values..."
      ]
    },
    {
      "cell_type": "code",
      "execution_count": null,
      "id": "ee94e4b2-1efb-43c1-9b07-600ba00a0a78",
      "metadata": {
        "id": "ee94e4b2-1efb-43c1-9b07-600ba00a0a78"
      },
      "outputs": [],
      "source": [
        "# ADDING TO DICTIONARY CODEBOOK KEY\n",
        "codebook_key['_age_g'] = {\n",
        "    'Question': 'Six-level imputed age category',\n",
        "    'Answers': {\n",
        "    1: 'Age 18 to 24',\n",
        "    2: 'Age 25 to 34',\n",
        "    3: 'Age 35 to 44',\n",
        "    4: 'Age 45 to 54',\n",
        "    5: 'Age 55 to 64',\n",
        "    6: 'Age 65 or older'\n",
        "    }\n",
        "}\n",
        "\n",
        "# Irrelevant feature in previous iteration of notebook\n",
        "codebook_key['cncrage'] = {\n",
        "    'Question': 'At what age were you told that you had cancer? (If Response = 2 (Two) or 3 (Three or more), ask: “At what age was your first diagnosis of cancer?”)',\n",
        "    'Answers': {\n",
        "    '1-97': 'Age in years (97=97 and older)',\n",
        "    98: 'Dont know/Not Sure',\n",
        "    99: 'Refused',\n",
        "    0: 'Missing'\n",
        "    }\n",
        "}"
      ]
    },
    {
      "cell_type": "markdown",
      "id": "f8058abf-34a3-4b2c-b284-2b7eb80470a3",
      "metadata": {
        "id": "f8058abf-34a3-4b2c-b284-2b7eb80470a3"
      },
      "source": [
        "Adding 'cadult1' to columns to drop by using domain knowledge and referencing codebook."
      ]
    },
    {
      "cell_type": "code",
      "execution_count": 78,
      "id": "fc50e9fe-701c-4ed5-bbb9-e4691959ff60",
      "metadata": {
        "id": "fc50e9fe-701c-4ed5-bbb9-e4691959ff60"
      },
      "outputs": [],
      "source": [
        "# List of columns to drop\n",
        "columns_to_drop = ['_ageg5yr', '_age65yr', '_age80', 'cadult1']\n",
        "\n",
        "# Drop the specified columns\n",
        "df = df.drop(columns=columns_to_drop)"
      ]
    },
    {
      "cell_type": "markdown",
      "id": "c1cfe3d9-4ef3-4a52-9058-8f25580fcbde",
      "metadata": {
        "id": "c1cfe3d9-4ef3-4a52-9058-8f25580fcbde"
      },
      "source": [
        "#### Race"
      ]
    },
    {
      "cell_type": "code",
      "execution_count": 45,
      "id": "99f59942-a80f-41a9-8329-6cd4692acaab",
      "metadata": {
        "id": "99f59942-a80f-41a9-8329-6cd4692acaab",
        "outputId": "6117010f-8629-497d-8c6e-c1c95048a979",
        "colab": {
          "base_uri": "https://localhost:8080/"
        }
      },
      "outputs": [
        {
          "output_type": "stream",
          "name": "stdout",
          "text": [
            "Column: _imprace, Non-null count: 445132\n",
            "Column: _mrace2, Non-null count: 445121\n",
            "Column: _race1, Non-null count: 445130\n",
            "Column: _raceg22, Non-null count: 445130\n",
            "Column: _racegr4, Non-null count: 445130\n"
          ]
        }
      ],
      "source": [
        "# Find columns with 'race' in their names\n",
        "race_columns = [col for col in df.columns if 'race' in col.lower()]\n",
        "\n",
        "# Print column names and their number of non-null values\n",
        "for col in race_columns:\n",
        "    non_null_count = df[col].notnull().sum()\n",
        "    print(f\"Column: {col}, Non-null count: {non_null_count}\")"
      ]
    },
    {
      "cell_type": "markdown",
      "source": [
        "##### SELECTS TO KEEP: _raceg22\n",
        "\n",
        "Survey Question: White non-Hispanic race group\n",
        "\n",
        "Answer Values..."
      ],
      "metadata": {
        "id": "fCiPrdYc357x"
      },
      "id": "fCiPrdYc357x"
    },
    {
      "cell_type": "code",
      "source": [
        "# ADDING TO DICTIONARY CODEBOOK KEY\n",
        "codebook_key['_raceg22'] = {\n",
        "    'Question': 'White non-Hispanic race group',\n",
        "    'Answers': {\n",
        "    1: 'Non-Hispanic White',\n",
        "    2: 'Non-White or Hispanic',\n",
        "    9: 'Dont know/Not sure/Refused',\n",
        "    0: 'Missing'\n",
        "    }\n",
        "}"
      ],
      "metadata": {
        "id": "XAf5z1_O4AXP"
      },
      "id": "XAf5z1_O4AXP",
      "execution_count": null,
      "outputs": []
    },
    {
      "cell_type": "markdown",
      "id": "9c03d36c-f2e8-4b04-b795-251aecb3edb8",
      "metadata": {
        "id": "9c03d36c-f2e8-4b04-b795-251aecb3edb8"
      },
      "source": [
        "##### FURTHER ANALYSIS: _race1\n",
        "\n",
        "At the start of my analysis and modeling, I need to narrow focus. Domain knowledge tells me that, for unknown reasons, white people are less likely to develop diabetes. I can start with this generalized distinction using '_raceg22' as my main feature related to race. I'd like to include more specific and nuanced analysis in my results if possible...if I have time, I can use '_race1' to examine a more nuanced and detailed breakdown of race as it related to diabetes.\n",
        "\n",
        "##### _race1\n",
        "\n",
        "Survey Question: Race/ethnicity categories\n",
        "\n",
        "Answer Values..."
      ]
    },
    {
      "cell_type": "code",
      "execution_count": null,
      "id": "8da85c0b-feec-4fb0-b383-c422973b3ec5",
      "metadata": {
        "id": "8da85c0b-feec-4fb0-b383-c422973b3ec5"
      },
      "outputs": [],
      "source": [
        "# ADDING TO DICTIONARY CODEBOOK KEY\n",
        "codebook_key['_race1'] = {\n",
        "    'Question': 'Race/ethnicity categories',\n",
        "    'Answers': {\n",
        "    1: 'White only, non-Hispanic',\n",
        "    2: 'Black only, non-Hipsnaic',\n",
        "    3: 'American Indian or Alaskan Native only, Non-Hispanic',\n",
        "    4: 'Asian only, non-Hispanic',\n",
        "    5: 'Native Hawaiin or other Pacific Islander only, Non-Hispanic',\n",
        "    7: 'Multiracial, non-Hispanic',\n",
        "    8: 'Hispanic',\n",
        "    9: 'Dont know/Not Sure/Refuse',\n",
        "    0: 'Missing'\n",
        "    }\n",
        "}"
      ]
    },
    {
      "cell_type": "markdown",
      "source": [
        "Adding '_hispanc' to columns to drop using Codebook and domain knowledge."
      ],
      "metadata": {
        "id": "kDUd3pfqEjvF"
      },
      "id": "kDUd3pfqEjvF"
    },
    {
      "cell_type": "code",
      "execution_count": 79,
      "id": "60abbf9b-4037-4dd1-984c-49aa01d6b479",
      "metadata": {
        "id": "60abbf9b-4037-4dd1-984c-49aa01d6b479"
      },
      "outputs": [],
      "source": [
        "# List of columns to drop\n",
        "columns_to_drop = ['_imprace', '_mrace2', '_racegr4', '_race1', 'hispanc']\n",
        "\n",
        "# Drop the specified columns\n",
        "df = df.drop(columns=columns_to_drop)"
      ]
    },
    {
      "cell_type": "markdown",
      "id": "854d69a1-59cb-48ba-84a2-498c91ee0046",
      "metadata": {
        "id": "854d69a1-59cb-48ba-84a2-498c91ee0046"
      },
      "source": [
        "#### Height"
      ]
    },
    {
      "cell_type": "code",
      "execution_count": 47,
      "id": "1847a500-8760-4f6b-b7f9-53a0315a875f",
      "metadata": {
        "id": "1847a500-8760-4f6b-b7f9-53a0315a875f",
        "outputId": "a404d02b-e4e3-450c-a7d2-da31ca4853cd",
        "colab": {
          "base_uri": "https://localhost:8080/"
        }
      },
      "outputs": [
        {
          "output_type": "stream",
          "name": "stdout",
          "text": [
            "Column: weight2, Non-null count: 429231\n",
            "Column: height3, Non-null count: 428077\n",
            "Column: htin4, Non-null count: 412656\n"
          ]
        }
      ],
      "source": [
        "# Find columns with 'height' or 'ht' in their names\n",
        "height_columns = [col for col in df.columns if 'height' in col.lower() or 'ht' in col.lower()]\n",
        "\n",
        "# Print column names and their number of non-null values\n",
        "for col in height_columns:\n",
        "    non_null_count = df[col].notnull().sum()\n",
        "    print(f\"Column: {col}, Non-null count: {non_null_count}\")"
      ]
    },
    {
      "cell_type": "markdown",
      "source": [
        "#### Dropping Height\n",
        "\n",
        "From domain knowledge I know that height can be used to help predict diabetes when used to calculate the proportion of a person's height to the circumference of their waist. This dataaset does not include information on waist circumference, but it does provide information on a person's **BMI**, which is another weight-to-height based metric that is predictive of diabetes. I'll drop all other height columns, since it's used and most useful when calculating 'BMI' anyway."
      ],
      "metadata": {
        "id": "ZcTdmXdH5im_"
      },
      "id": "ZcTdmXdH5im_"
    },
    {
      "cell_type": "code",
      "execution_count": null,
      "id": "321bd810-228d-4c6c-8d65-f8e779f76a2f",
      "metadata": {
        "id": "321bd810-228d-4c6c-8d65-f8e779f76a2f"
      },
      "outputs": [],
      "source": [
        "# Irrelevant feature included in previous iteration of notebook\n",
        "codebook_key['height3'] = {\n",
        "    'Question': 'About how tall are you without shoes? (If respondent answers in metrics, put a 9 in the first column)',\n",
        "    'Answers': {\n",
        "    '200-711': 'Height (ft/inches)',\n",
        "    0: 'Missing',\n",
        "    'NOTES': '0_/_ _=feet/inches'\n",
        "    }\n",
        "}"
      ]
    },
    {
      "cell_type": "code",
      "execution_count": 80,
      "id": "5f41d47e-03e1-4fe8-a856-e839a61ff6f3",
      "metadata": {
        "id": "5f41d47e-03e1-4fe8-a856-e839a61ff6f3"
      },
      "outputs": [],
      "source": [
        "# List of columns to drop\n",
        "columns_to_drop = ['htin4', 'height3']\n",
        "\n",
        "# Drop the specified columns\n",
        "df = df.drop(columns=columns_to_drop)"
      ]
    },
    {
      "cell_type": "markdown",
      "id": "f0552015-6ac4-4438-80d8-f9aae886a517",
      "metadata": {
        "id": "f0552015-6ac4-4438-80d8-f9aae886a517"
      },
      "source": [
        "Adding 'chcscnc1' to columns to drop using domain knowledge and referencing codebook."
      ]
    },
    {
      "cell_type": "markdown",
      "id": "13bb70c3-d5a5-48ee-94c8-37a4578e7555",
      "metadata": {
        "id": "13bb70c3-d5a5-48ee-94c8-37a4578e7555"
      },
      "source": [
        "#### Correlated Pairs\n",
        "\n",
        "Let's print our Correlated Pairs again, now that we've narrowed focus."
      ]
    },
    {
      "cell_type": "code",
      "execution_count": 50,
      "id": "d01566ae-eda8-449a-9da1-ad618538c5f4",
      "metadata": {
        "id": "d01566ae-eda8-449a-9da1-ad618538c5f4",
        "outputId": "e363a0dd-7f37-4653-c827-c40ec139b91c",
        "colab": {
          "base_uri": "https://localhost:8080/"
        }
      },
      "outputs": [
        {
          "output_type": "stream",
          "name": "stdout",
          "text": [
            "_rfbing6  _rfdrhv8    0.939160\n",
            "_rfdrhv8  _rfbing6    0.939160\n",
            "mscode    _metstat    0.865803\n",
            "_metstat  mscode      0.865803\n",
            "_bmi5     wtkg3       0.859557\n",
            "wtkg3     _bmi5       0.859557\n",
            "_bmi5cat  _rfbmi5     0.854818\n",
            "_rfbmi5   _bmi5cat    0.854818\n",
            "_bmi5     _bmi5cat    0.832352\n",
            "_bmi5cat  _bmi5       0.832352\n",
            "_rfbmi5   weight2     0.828977\n",
            "weight2   _rfbmi5     0.828977\n",
            "_casthm1  _ltasth1    0.752870\n",
            "_ltasth1  _casthm1    0.752870\n",
            "wtkg3     _bmi5cat    0.743352\n",
            "_bmi5cat  wtkg3       0.743352\n",
            "priminsr  _hlthpln    0.733702\n",
            "_hlthpln  priminsr    0.733702\n",
            "_hcvu652  _age_g      0.684079\n",
            "_age_g    _hcvu652    0.684079\n",
            "genhlth   _rfhlth     0.675082\n",
            "_rfhlth   genhlth     0.675082\n",
            "_rfbmi5   _bmi5       0.649035\n",
            "_bmi5     _rfbmi5     0.649035\n",
            "_metstat  _urbstat    0.624926\n",
            "_urbstat  _metstat    0.624926\n",
            "_rfdrhv8  _smokgrp    0.596060\n",
            "_smokgrp  _rfdrhv8    0.596060\n",
            "          _rfbing6    0.585503\n",
            "_rfbing6  _smokgrp    0.585503\n",
            "_urbstat  mscode      0.557608\n",
            "mscode    _urbstat    0.557608\n",
            "_hispanc  _raceg22    0.509550\n",
            "_raceg22  _hispanc    0.509550\n",
            "_smokgrp  _lcsrec     0.438588\n",
            "_lcsrec   _smokgrp    0.438588\n",
            "rrclass3  _raceg22    0.394024\n",
            "_raceg22  rrclass3    0.394024\n",
            "_drdxar2  _age_g      0.386245\n",
            "_age_g    _drdxar2    0.386245\n",
            "_rfbmi5   _rfdrhv8    0.382994\n",
            "_rfdrhv8  _rfbmi5     0.382994\n",
            "diabeye1  eyeexam1    0.380262\n",
            "eyeexam1  diabeye1    0.380262\n",
            "_rfbmi5   _rfbing6    0.372999\n",
            "_rfbing6  _rfbmi5     0.372999\n",
            "_casthm1  _asthms1    0.362267\n",
            "_asthms1  _casthm1    0.362267\n",
            "_phys14d  physhlth    0.353723\n",
            "physhlth  _phys14d    0.353723\n",
            "dtype: float64\n"
          ]
        }
      ],
      "source": [
        "# Assuming 'fsm' is your DataFrame\n",
        "correlation_matrix = df.corr().abs()  # Take the absolute value to focus on the strength of correlations\n",
        "np.fill_diagonal(correlation_matrix.values, 0)  # Set diagonal to 0 to ignore self-correlations\n",
        "\n",
        "# Find the indices of the maximum correlations\n",
        "high_corr_pairs = correlation_matrix.unstack().sort_values(ascending=False)\n",
        "\n",
        "# Display the top pairs\n",
        "print(high_corr_pairs.head(50))"
      ]
    },
    {
      "cell_type": "markdown",
      "id": "eca81afa-a2b3-47c7-87c5-1264102722bf",
      "metadata": {
        "id": "eca81afa-a2b3-47c7-87c5-1264102722bf"
      },
      "source": [
        "Still need to cut down some more by category!\n",
        "\n",
        "#### 'rf'\n",
        "\n",
        "Let's remind ourselves what 'rf' means."
      ]
    },
    {
      "cell_type": "code",
      "execution_count": 51,
      "id": "b0fe4fd7-b7ec-470b-8bf8-4ceafb676663",
      "metadata": {
        "id": "b0fe4fd7-b7ec-470b-8bf8-4ceafb676663",
        "outputId": "57c008d5-daf3-4374-9340-f8ed3e589e74",
        "colab": {
          "base_uri": "https://localhost:8080/"
        }
      },
      "outputs": [
        {
          "output_type": "stream",
          "name": "stdout",
          "text": [
            "Column: _rfhlth, Non-null count: 445132\n",
            "Column: _rfbmi5, Non-null count: 445132\n",
            "Column: _rfbing6, Non-null count: 445132\n",
            "Column: _rfdrhv8, Non-null count: 445132\n"
          ]
        }
      ],
      "source": [
        "# Find columns with 'age' in their names\n",
        "rf_columns = [col for col in df.columns if 'rf' in col.lower()]\n",
        "\n",
        "# Print column names and their number of non-null values\n",
        "for col in rf_columns:\n",
        "    non_null_count = df[col].notnull().sum()\n",
        "    print(f\"Column: {col}, Non-null count: {non_null_count}\")"
      ]
    },
    {
      "cell_type": "markdown",
      "id": "1a89c956-4276-4e6e-b74e-567e1acd525f",
      "metadata": {
        "id": "1a89c956-4276-4e6e-b74e-567e1acd525f"
      },
      "source": [
        "Hmmm...These don't actually seem to be explicitly interrelated:\n",
        "\n",
        "**_rfhlth**: Adults with good or better health\n",
        "\n",
        "**_rfbmi5**: Adults who have a body mass index greater than 25.00 (Overweight or Obese)\n",
        "\n",
        "**_rfbing6**: Binge drinkers (males having five or more drinks on one occasion, females having four or more drinks on one occasion)\n",
        "\n",
        "**_rfdrhv8**: Heavy drinkers (adult men having more than 14 drinks per week and adult women having more than 7 drinks per week)\n",
        "\n",
        "The last two having to do with drinking have an overlap of content. But it might be a helpful distinction. Let's leave it for now."
      ]
    },
    {
      "cell_type": "markdown",
      "id": "96760171-cbc7-4e52-bbf6-ef4385726a0b",
      "metadata": {
        "id": "96760171-cbc7-4e52-bbf6-ef4385726a0b"
      },
      "source": [
        "#### BMI"
      ]
    },
    {
      "cell_type": "code",
      "execution_count": 52,
      "id": "e1394c9c-96c4-4665-8621-f38c94e778e3",
      "metadata": {
        "id": "e1394c9c-96c4-4665-8621-f38c94e778e3",
        "outputId": "fc341928-bb7a-409a-e4d5-083b323bc435",
        "colab": {
          "base_uri": "https://localhost:8080/"
        }
      },
      "outputs": [
        {
          "output_type": "stream",
          "name": "stdout",
          "text": [
            "Column: _bmi5, Non-null count: 396326\n",
            "Column: _bmi5cat, Non-null count: 396326\n",
            "Column: _rfbmi5, Non-null count: 445132\n"
          ]
        }
      ],
      "source": [
        "# Find columns with 'age' in their names\n",
        "bmi_columns = [col for col in df.columns if 'bmi' in col.lower()]\n",
        "\n",
        "# Print column names and their number of non-null values\n",
        "for col in bmi_columns:\n",
        "    non_null_count = df[col].notnull().sum()\n",
        "    print(f\"Column: {col}, Non-null count: {non_null_count}\")"
      ]
    },
    {
      "cell_type": "markdown",
      "id": "29f41889-2b36-481c-888e-0ffe95e28b0c",
      "metadata": {
        "id": "29f41889-2b36-481c-888e-0ffe95e28b0c"
      },
      "source": [
        "##### SELECTS TO KEEP: _bmi5cat\n",
        "\n",
        "Survey Question: Four-categories of Body Mass Index (BMI)\n",
        "\n",
        "Answer Values..."
      ]
    },
    {
      "cell_type": "code",
      "execution_count": null,
      "id": "bba9b3e0-ffcd-488c-95e8-bd1c718a1aa2",
      "metadata": {
        "id": "bba9b3e0-ffcd-488c-95e8-bd1c718a1aa2"
      },
      "outputs": [],
      "source": [
        "# ADDING TO DICTIONARY CODEBOOK KEY\n",
        "codebook_key['_bmi5cat'] = {\n",
        "    'Question': 'Four-categories of Body Mass Index (BMI)',\n",
        "    'Answers': {\n",
        "    1: 'Underweight',\n",
        "    2: 'Normal Weight',\n",
        "    3: 'Overweight',\n",
        "    4: 'Obese',\n",
        "    0: 'Dont know/Refused/Missing'\n",
        "    }\n",
        "}"
      ]
    },
    {
      "cell_type": "markdown",
      "id": "b4cc91b5-d58a-4f9a-9293-b5b2c890723e",
      "metadata": {
        "id": "b4cc91b5-d58a-4f9a-9293-b5b2c890723e"
      },
      "source": [
        "Adding 'weight2' and 'wtkg3' to columns to drop using domain knowledge and codebook."
      ]
    },
    {
      "cell_type": "code",
      "execution_count": 81,
      "id": "9241172d-b0e5-498a-9d6b-4492f575d4c5",
      "metadata": {
        "id": "9241172d-b0e5-498a-9d6b-4492f575d4c5"
      },
      "outputs": [],
      "source": [
        "# List of columns to drop\n",
        "columns_to_drop = ['_bmi5', '_rfbmi5', 'weight2', 'wtkg3']\n",
        "\n",
        "# Drop the specified columns\n",
        "df = df.drop(columns=columns_to_drop)\n",
        "\n",
        "# Use .loc to fill NaN values in 'cncrage' with 0\n",
        "df.loc[:, '_bmi5cat'] = df['_bmi5cat'].fillna(0)"
      ]
    },
    {
      "cell_type": "markdown",
      "id": "9e840ba0-ed13-4e72-ace2-dd69b24a81c5",
      "metadata": {
        "id": "9e840ba0-ed13-4e72-ace2-dd69b24a81c5"
      },
      "source": [
        "#### Physical/General Health"
      ]
    },
    {
      "cell_type": "code",
      "execution_count": 54,
      "id": "8f4e30f6-7e45-4cac-b8f0-d1905f6a7154",
      "metadata": {
        "id": "8f4e30f6-7e45-4cac-b8f0-d1905f6a7154",
        "outputId": "4c5b657c-ec84-4c14-e004-9dc8d2158165",
        "colab": {
          "base_uri": "https://localhost:8080/"
        }
      },
      "outputs": [
        {
          "output_type": "stream",
          "name": "stdout",
          "text": [
            "Column: genhlth, Non-null count: 445129\n",
            "Column: physhlth, Non-null count: 445127\n",
            "Column: rrphysm2, Non-null count: 160190\n",
            "Column: _rfhlth, Non-null count: 445132\n",
            "Column: _phys14d, Non-null count: 445132\n",
            "Column: _hlthpln, Non-null count: 445132\n"
          ]
        }
      ],
      "source": [
        "# Find columns\n",
        "health_columns = [col for col in df.columns if 'hlth' in col.lower() or 'phys' in col.lower()]\n",
        "\n",
        "# Print column names and their number of non-null values\n",
        "for col in health_columns:\n",
        "    non_null_count = df[col].notnull().sum()\n",
        "    print(f\"Column: {col}, Non-null count: {non_null_count}\")"
      ]
    },
    {
      "cell_type": "markdown",
      "id": "9701b0a6-ac90-462b-8c8f-e11b82be06fb",
      "metadata": {
        "id": "9701b0a6-ac90-462b-8c8f-e11b82be06fb"
      },
      "source": [
        "##### SELECTS TO KEEP: priminsr\n",
        "\n",
        "The other two selects, in addition to 'priminsr', that I inititally considered keeping were:\n",
        "\n",
        "- **'_rfhlth'**: Adults with good or better health\n",
        "- **'_phys14d'**: 3 level not good physical health status: 0 days, 1-13 days, 14-30 days\n",
        "\n",
        "However, it's not very useful to look at a person's \"general health\" status, while also examining more specific health factors closely related to diabetes that will provide a picture of a person's general health already."
      ]
    },
    {
      "cell_type": "markdown",
      "id": "12fd610d-93dc-4ed6-af27-cd23d2d91bec",
      "metadata": {
        "id": "12fd610d-93dc-4ed6-af27-cd23d2d91bec"
      },
      "source": [
        "##### priminsr\n",
        "\n",
        "**Added to category using domain knowledge/codebook**\n",
        "\n",
        "Survey Question: What is the current primary source of your health insurance?\n",
        "\n",
        "Answer Values"
      ]
    },
    {
      "cell_type": "code",
      "execution_count": null,
      "id": "2b9fa733-16c6-4b2c-aa75-38414fdd7dab",
      "metadata": {
        "id": "2b9fa733-16c6-4b2c-aa75-38414fdd7dab"
      },
      "outputs": [],
      "source": [
        "codebook_key['priminsr'] = {\n",
        "    'Question': 'What is the current primary source of your health insurance?',\n",
        "    'Answers': {\n",
        "        2: 'A private nongovernmental plan that you or another family member buys on your own',\n",
        "        3: 'Medicare',\n",
        "        4: 'Medigap',\n",
        "        5: 'Medicaid',\n",
        "        6: 'Childrens Health Insurance Program (CHIP)',\n",
        "        7: 'Military related health care: TRICARE (CHAMPUS) /VA hleath care/CHAMP-VA',\n",
        "        8: 'Indian Health Service',\n",
        "        9: 'State sponsored health plan',\n",
        "        10: 'Other government program',\n",
        "        88: 'No coverage of any type',\n",
        "        77: 'Dont know/Not Sure',\n",
        "        99: 'Refused',\n",
        "        0: 'Not asked or Missing'\n",
        "    }\n",
        "}"
      ]
    },
    {
      "cell_type": "markdown",
      "id": "0a2fa93d-6304-4844-a26f-bd82ad466652",
      "metadata": {
        "id": "0a2fa93d-6304-4844-a26f-bd82ad466652"
      },
      "source": [
        "Adding 'persdoc3' to columns to drop using domain knowledge & referencing codebook."
      ]
    },
    {
      "cell_type": "code",
      "execution_count": 82,
      "id": "1a949b21-fd0d-4d24-8c68-28247331ac59",
      "metadata": {
        "id": "1a949b21-fd0d-4d24-8c68-28247331ac59"
      },
      "outputs": [],
      "source": [
        "# List of columns to drop\n",
        "columns_to_drop = ['genhlth', 'physhlth', 'rrphysm2', '_hlthpln', 'persdoc3', '_rfhlth', '_phys14d']\n",
        "\n",
        "# Drop the specified columns\n",
        "df = df.drop(columns=columns_to_drop)"
      ]
    },
    {
      "cell_type": "markdown",
      "id": "5b3c299e-51bc-4726-a52b-2e0b4c3c339a",
      "metadata": {
        "id": "5b3c299e-51bc-4726-a52b-2e0b4c3c339a"
      },
      "source": [
        "#### Correlated Pairs"
      ]
    },
    {
      "cell_type": "code",
      "execution_count": 56,
      "id": "44d5a8a8-1513-4911-9632-cb1b53bf9a04",
      "metadata": {
        "id": "44d5a8a8-1513-4911-9632-cb1b53bf9a04",
        "outputId": "e21f9601-22f5-4f22-e56c-02d8c04c3d08",
        "colab": {
          "base_uri": "https://localhost:8080/"
        }
      },
      "outputs": [
        {
          "output_type": "stream",
          "name": "stdout",
          "text": [
            "_rfbing6  _rfdrhv8    0.939160\n",
            "_rfdrhv8  _rfbing6    0.939160\n",
            "mscode    _metstat    0.865803\n",
            "_metstat  mscode      0.865803\n",
            "_ltasth1  _casthm1    0.752870\n",
            "_casthm1  _ltasth1    0.752870\n",
            "_age_g    _hcvu652    0.684079\n",
            "_hcvu652  _age_g      0.684079\n",
            "_metstat  _urbstat    0.624926\n",
            "_urbstat  _metstat    0.624926\n",
            "_smokgrp  _rfdrhv8    0.596060\n",
            "_rfdrhv8  _smokgrp    0.596060\n",
            "_smokgrp  _rfbing6    0.585503\n",
            "_rfbing6  _smokgrp    0.585503\n",
            "_urbstat  mscode      0.557608\n",
            "mscode    _urbstat    0.557608\n",
            "_raceg22  _hispanc    0.509550\n",
            "_hispanc  _raceg22    0.509550\n",
            "_smokgrp  _lcsrec     0.438588\n",
            "_lcsrec   _smokgrp    0.438588\n",
            "_raceg22  rrclass3    0.394024\n",
            "rrclass3  _raceg22    0.394024\n",
            "_drdxar2  _age_g      0.386245\n",
            "_age_g    _drdxar2    0.386245\n",
            "diabeye1  eyeexam1    0.380262\n",
            "eyeexam1  diabeye1    0.380262\n",
            "_asthms1  _casthm1    0.362267\n",
            "_casthm1  _asthms1    0.362267\n",
            "_chispnc  _age_g      0.318257\n",
            "_age_g    _chispnc    0.318257\n",
            "          pdiabts1    0.317671\n",
            "pdiabts1  _age_g      0.317671\n",
            "_bmi5cat  _rfdrhv8    0.312517\n",
            "_rfdrhv8  _bmi5cat    0.312517\n",
            "rmvteth4  _age_g      0.305983\n",
            "_age_g    rmvteth4    0.305983\n",
            "_bmi5cat  _rfbing6    0.304007\n",
            "_rfbing6  _bmi5cat    0.304007\n",
            "_hcvu652  _chispnc    0.297344\n",
            "_chispnc  _hcvu652    0.297344\n",
            "_hcvu652  _drdxar2    0.283186\n",
            "_drdxar2  _hcvu652    0.283186\n",
            "_rfhlth   _phys14d    0.263962\n",
            "_phys14d  _rfhlth     0.263962\n",
            "crgvrel4  crgvprb3    0.257294\n",
            "crgvprb3  crgvrel4    0.257294\n",
            "          crgvalzd    0.251349\n",
            "crgvalzd  crgvprb3    0.251349\n",
            "_bmi5cat  _smokgrp    0.249094\n",
            "_smokgrp  _bmi5cat    0.249094\n",
            "dtype: float64\n"
          ]
        }
      ],
      "source": [
        "# Assuming 'fsm' is your DataFrame\n",
        "correlation_matrix = df.corr().abs()  # Take the absolute value to focus on the strength of correlations\n",
        "np.fill_diagonal(correlation_matrix.values, 0)  # Set diagonal to 0 to ignore self-correlations\n",
        "\n",
        "# Find the indices of the maximum correlations\n",
        "high_corr_pairs = correlation_matrix.unstack().sort_values(ascending=False)\n",
        "\n",
        "# Display the top pairs\n",
        "print(high_corr_pairs.head(50))"
      ]
    },
    {
      "cell_type": "markdown",
      "id": "29fff53c-6937-4682-98e8-f6e9f11c1ffa",
      "metadata": {
        "id": "29fff53c-6937-4682-98e8-f6e9f11c1ffa"
      },
      "source": [
        "Still a couple high numbers between certain pairs, but this looks much better! We've narrowed down quiete a bit of repetition and overlap between similarly categorized features."
      ]
    },
    {
      "cell_type": "markdown",
      "id": "d980a90b-4b2a-4e20-898c-60e8cd072898",
      "metadata": {
        "id": "d980a90b-4b2a-4e20-898c-60e8cd072898"
      },
      "source": [
        "## Imputing with Placeholder: 0\n",
        "\n",
        "Let's move to K-Means Clustering, and impute all our missing values with 0 as a placeholder for now, and see how things shake out.\n",
        "\n",
        "Looking through the rest of the Codebook, almost none of the rows have '0' as an assigned value. The only times it might cause confusion, is in a feature that asking a certain 'number of times' a behavior was committed (ex. 'How many drinks a week do you have?'), in which 0 could be an answer.\n",
        "\n",
        "Let's print all the columns that have '0' as a unique value and see if this pertains to any of them. In which case, we'll have to find another placeholder for missingness."
      ]
    },
    {
      "cell_type": "code",
      "execution_count": 58,
      "id": "aec3ee56-69a2-4be8-9d95-d9cdfa9dba56",
      "metadata": {
        "id": "aec3ee56-69a2-4be8-9d95-d9cdfa9dba56",
        "outputId": "3b4da701-8d5a-431d-8aab-f4056d1b27b6",
        "colab": {
          "base_uri": "https://localhost:8080/"
        }
      },
      "outputs": [
        {
          "output_type": "stream",
          "name": "stdout",
          "text": [
            "Columns containing '0' as a unique value:\n",
            "_bmi5cat\n",
            "_smokgrp\n"
          ]
        }
      ],
      "source": [
        "# Find columns with '0' as a unique value in any of its rows\n",
        "columns_with_zero = [col for col in df.columns if (df[col] == 0).any()]\n",
        "\n",
        "# Print the columns\n",
        "print(\"Columns containing '0' as a unique value:\")\n",
        "for col in columns_with_zero:\n",
        "    print(col)"
      ]
    },
    {
      "cell_type": "markdown",
      "id": "66c207ce-eb65-4ff2-94c9-7171caacd4b4",
      "metadata": {
        "id": "66c207ce-eb65-4ff2-94c9-7171caacd4b4"
      },
      "source": [
        "Fantastic!! These are all columns that I added '0' to as a placeholder to impute missingness. None of them are the few columns in the Codebook to which I was referring, which use 0 as a real answer value.\n",
        "\n",
        "All of our columns are numeric ***float*** dtypes, so I know there's no need to check if '0' appears as a string value in any columns as well.\n",
        "\n",
        "I can go ahead and use 0 as a placeholder for all missingness in the dataframe for this FSM. **For my larger MVP, I'll have to reasses** - when I start adding new columns into the models."
      ]
    },
    {
      "cell_type": "code",
      "execution_count": 109,
      "id": "216d4d2e-539a-457a-a736-0818086bf974",
      "metadata": {
        "id": "216d4d2e-539a-457a-a736-0818086bf974"
      },
      "outputs": [],
      "source": [
        "# Impute all NaN values with 0\n",
        "df.fillna(0, inplace=True)"
      ]
    },
    {
      "cell_type": "code",
      "execution_count": 110,
      "id": "a88f7cfe-095a-4e93-9db0-245bf701d894",
      "metadata": {
        "id": "a88f7cfe-095a-4e93-9db0-245bf701d894",
        "outputId": "1541d432-cb60-4667-a86e-4b7738a2c44f",
        "colab": {
          "base_uri": "https://localhost:8080/"
        }
      },
      "outputs": [
        {
          "output_type": "stream",
          "name": "stdout",
          "text": [
            "<class 'pandas.core.frame.DataFrame'>\n",
            "RangeIndex: 445132 entries, 0 to 445131\n",
            "Data columns (total 34 columns):\n",
            " #   Column        Non-Null Count   Dtype  \n",
            "---  ------        --------------   -----  \n",
            " 0   priminsr      445132 non-null  float64\n",
            " 1   medcost1      445132 non-null  float64\n",
            " 2   pregnant      445132 non-null  float64\n",
            " 3   _state        445132 non-null  float64\n",
            " 4   prediab2      445132 non-null  float64\n",
            " 5   diabete4      445132 non-null  float64\n",
            " 6   chkhemo3      445132 non-null  float64\n",
            " 7   eyeexam1      445132 non-null  float64\n",
            " 8   lsatisfy      445132 non-null  float64\n",
            " 9   asbirduc      445132 non-null  float64\n",
            " 10  rrhcare4      445132 non-null  float64\n",
            " 11  mscode        445132 non-null  float64\n",
            " 12  _rfhlth       445132 non-null  float64\n",
            " 13  _phys14d      445132 non-null  float64\n",
            " 14  _hcvu652      445132 non-null  float64\n",
            " 15  _michd        445132 non-null  float64\n",
            " 16  _drdxar2      445132 non-null  float64\n",
            " 17  _hispanc      445132 non-null  float64\n",
            " 18  _raceg22      445132 non-null  float64\n",
            " 19  _sex          445132 non-null  float64\n",
            " 20  _age_g        445132 non-null  float64\n",
            " 21  _bmi5cat      445132 non-null  float64\n",
            " 22  _incomg1      445132 non-null  float64\n",
            " 23  _smokgrp      445132 non-null  float64\n",
            " 24  _lcsrec       445132 non-null  float64\n",
            " 25  _rfbing6      445132 non-null  float64\n",
            " 26  _rfdrhv8      445132 non-null  float64\n",
            " 27  _totinda      445132 non-null  float64\n",
            " 28  sdhstre1      445132 non-null  float64\n",
            " 29  sleptim1      445132 non-null  float64\n",
            " 30  sdhfood1      445132 non-null  float64\n",
            " 31  cncr_risk     445132 non-null  int64  \n",
            " 32  gum_disease   445132 non-null  int64  \n",
            " 33  fam_diabhist  445132 non-null  int64  \n",
            "dtypes: float64(31), int64(3)\n",
            "memory usage: 115.5 MB\n"
          ]
        }
      ],
      "source": [
        "df.info()"
      ]
    },
    {
      "cell_type": "code",
      "source": [
        "# Convert all float columns to integers\n",
        "df = df.apply(lambda x: x.astype(int) if x.dtype == 'float64' else x)"
      ],
      "metadata": {
        "id": "_5tW0_F5L309"
      },
      "id": "_5tW0_F5L309",
      "execution_count": 111,
      "outputs": []
    },
    {
      "cell_type": "markdown",
      "source": [
        "## Convert dtype to int\n",
        "\n",
        "Now that I've imputed all missingness with placeholders, I can convert my datatypes from floats to integers."
      ],
      "metadata": {
        "id": "Wkk0pEWrLsmM"
      },
      "id": "Wkk0pEWrLsmM"
    },
    {
      "cell_type": "code",
      "source": [],
      "metadata": {
        "id": "uKyIcNh2Lyz4"
      },
      "id": "uKyIcNh2Lyz4",
      "execution_count": null,
      "outputs": []
    },
    {
      "cell_type": "markdown",
      "id": "0a2ddadd-bf79-4848-86f4-d89838b6cef1",
      "metadata": {
        "id": "0a2ddadd-bf79-4848-86f4-d89838b6cef1"
      },
      "source": [
        "Great. Let's use clustering to print a correlation matrix by group."
      ]
    },
    {
      "cell_type": "markdown",
      "id": "88204774-8941-4ef9-87d0-cc290efcb6e8",
      "metadata": {
        "id": "88204774-8941-4ef9-87d0-cc290efcb6e8"
      },
      "source": [
        "## Correlated Features: K-Means Clustering"
      ]
    },
    {
      "cell_type": "code",
      "execution_count": 85,
      "id": "d5e9f62e-0701-41d9-b035-6d6165b75e85",
      "metadata": {
        "id": "d5e9f62e-0701-41d9-b035-6d6165b75e85",
        "outputId": "77efdf1c-0ee4-4a0e-b820-4d33271259e3",
        "colab": {
          "base_uri": "https://localhost:8080/",
          "height": 1000
        }
      },
      "outputs": [
        {
          "output_type": "stream",
          "name": "stderr",
          "text": [
            "/usr/local/lib/python3.10/dist-packages/sklearn/cluster/_kmeans.py:1416: FutureWarning: The default value of `n_init` will change from 10 to 'auto' in 1.4. Set the value of `n_init` explicitly to suppress the warning\n",
            "  super()._check_params_vs_input(X, default_n_init=10)\n"
          ]
        },
        {
          "output_type": "display_data",
          "data": {
            "text/plain": [
              "<Figure size 800x600 with 2 Axes>"
            ],
            "image/png": "[encoded data removed]"
          },
          "metadata": {}
        },
        {
          "output_type": "display_data",
          "data": {
            "text/plain": [
              "<Figure size 800x600 with 2 Axes>"
            ],
            "image/png": "[encoded data removed]"
          },
          "metadata": {}
        },
        {
          "output_type": "display_data",
          "data": {
            "text/plain": [
              "<Figure size 800x600 with 2 Axes>"
            ],
            "image/png": "[encoded data removed]"
          },
          "metadata": {}
        },
        {
          "output_type": "display_data",
          "data": {
            "text/plain": [
              "<Figure size 800x600 with 2 Axes>"
            ],
            "image/png": "[encoded data removed]"
          },
          "metadata": {}
        },
        {
          "output_type": "display_data",
          "data": {
            "text/plain": [
              "<Figure size 800x600 with 2 Axes>"
            ],
            "image/png": "[encoded data removed]"
          },
          "metadata": {}
        }
      ],
      "source": [
        "# Compute the correlation matrix\n",
        "correlation_matrix = df.corr()\n",
        "\n",
        "# Check for NaNs in the correlation matrix\n",
        "if correlation_matrix.isnull().values.any():\n",
        "    print(\"NaNs detected in the correlation matrix.\")\n",
        "    # Impute NaNs with 0 in the correlation matrix\n",
        "    imputer = SimpleImputer(strategy='constant', fill_value=0)\n",
        "    correlation_matrix = pd.DataFrame(imputer.fit_transform(correlation_matrix), index=correlation_matrix.index, columns=correlation_matrix.columns)\n",
        "\n",
        "# Flatten correlation matrix and standardize for clustering\n",
        "corr_matrix_flat = correlation_matrix.values\n",
        "scaler = StandardScaler()\n",
        "scaled_corr_matrix = scaler.fit_transform(corr_matrix_flat)\n",
        "\n",
        "# Perform K-Means clustering\n",
        "num_clusters = 5  # Specify the number of clusters\n",
        "kmeans = KMeans(n_clusters=num_clusters, random_state=0)\n",
        "clusters = kmeans.fit_predict(scaled_corr_matrix)\n",
        "\n",
        "# Create a DataFrame with cluster labels for each feature\n",
        "feature_clusters = pd.DataFrame({\n",
        "    'Feature': correlation_matrix.columns,\n",
        "    'Cluster': clusters\n",
        "})\n",
        "\n",
        "# Plot correlation matrices for each cluster\n",
        "for cluster in range(num_clusters):\n",
        "    # Get features in the current cluster\n",
        "    cluster_features = feature_clusters[feature_clusters['Cluster'] == cluster]['Feature']\n",
        "    cluster_corr_matrix = correlation_matrix.loc[cluster_features, cluster_features]\n",
        "\n",
        "    plt.figure(figsize=(8, 6))  # Set the size of the plot\n",
        "    sns.heatmap(cluster_corr_matrix, annot=True, cmap='coolwarm', vmin=-1, vmax=1, fmt='.2f', linewidths=0.5)\n",
        "    plt.title(f'Correlation Matrix for Cluster {cluster}')\n",
        "    plt.show()"
      ]
    },
    {
      "cell_type": "markdown",
      "id": "177c4e2a-2bc9-461c-a537-d7938b724d23",
      "metadata": {
        "id": "177c4e2a-2bc9-461c-a537-d7938b724d23"
      },
      "source": [
        "### Feature Clusters"
      ]
    },
    {
      "cell_type": "code",
      "execution_count": 86,
      "id": "24e49d22-01ff-4a4c-942f-49dfcd4f4c77",
      "metadata": {
        "id": "24e49d22-01ff-4a4c-942f-49dfcd4f4c77",
        "outputId": "88b8931c-308c-416f-964e-7e789e16e314",
        "colab": {
          "base_uri": "https://localhost:8080/"
        }
      },
      "outputs": [
        {
          "output_type": "stream",
          "name": "stdout",
          "text": [
            "     Feature  Cluster\n",
            "0    cstate1        1\n",
            "1   priminsr        4\n",
            "2   medcost1        2\n",
            "3   rmvteth4        1\n",
            "4   pregnant        1\n",
            "5     _state        3\n",
            "6   pdiabts1        1\n",
            "7   prediab2        1\n",
            "8   diabete4        1\n",
            "9   diabtype        0\n",
            "10  insulin1        0\n",
            "11  chkhemo3        0\n",
            "12  eyeexam1        0\n",
            "13  diabeye1        0\n",
            "14  feetsore        0\n",
            "15  cncrtyp2        2\n",
            "16  caregiv1        3\n",
            "17  crgvrel4        3\n",
            "18  crgvprb3        3\n",
            "19  crgvalzd        3\n",
            "20  lsatisfy        3\n",
            "21  asbirduc        1\n",
            "22  rrclass3        2\n",
            "23  rrhcare4        2\n",
            "24  _metstat        2\n",
            "25  _urbstat        2\n",
            "26    mscode        2\n",
            "27  _chispnc        2\n",
            "28   _rfhlth        2\n",
            "29  _phys14d        2\n",
            "30  _hcvu652        2\n",
            "31    _michd        1\n",
            "32  _drdxar2        1\n",
            "33  _hispanc        2\n",
            "34  _raceg22        4\n",
            "35      _sex        1\n",
            "36    _age_g        2\n",
            "37  _bmi5cat        3\n",
            "38  _incomg1        4\n",
            "39  _smokgrp        3\n",
            "40   _lcsrec        2\n",
            "41  _rfbing6        4\n",
            "42  _rfdrhv8        4\n"
          ]
        }
      ],
      "source": [
        "print(feature_clusters)"
      ]
    },
    {
      "cell_type": "code",
      "execution_count": 87,
      "id": "9aafb051-41d4-4e12-9317-ccff84af9c7c",
      "metadata": {
        "id": "9aafb051-41d4-4e12-9317-ccff84af9c7c",
        "outputId": "0fa4caab-d978-4631-f076-d2c8c8085dbd",
        "colab": {
          "base_uri": "https://localhost:8080/",
          "height": 272
        }
      },
      "outputs": [
        {
          "output_type": "execute_result",
          "data": {
            "text/plain": [
              "Cluster\n",
              "2    14\n",
              "1    10\n",
              "3     8\n",
              "0     6\n",
              "4     5\n",
              "Name: count, dtype: int64"
            ],
            "text/html": [
              "<div>\n",
              "<style scoped>\n",
              "    .dataframe tbody tr th:only-of-type {\n",
              "        vertical-align: middle;\n",
              "    }\n",
              "\n",
              "    .dataframe tbody tr th {\n",
              "        vertical-align: top;\n",
              "    }\n",
              "\n",
              "    .dataframe thead th {\n",
              "        text-align: right;\n",
              "    }\n",
              "</style>\n",
              "<table border=\"1\" class=\"dataframe\">\n",
              "  <thead>\n",
              "    <tr style=\"text-align: right;\">\n",
              "      <th></th>\n",
              "      <th>count</th>\n",
              "    </tr>\n",
              "    <tr>\n",
              "      <th>Cluster</th>\n",
              "      <th></th>\n",
              "    </tr>\n",
              "  </thead>\n",
              "  <tbody>\n",
              "    <tr>\n",
              "      <th>2</th>\n",
              "      <td>14</td>\n",
              "    </tr>\n",
              "    <tr>\n",
              "      <th>1</th>\n",
              "      <td>10</td>\n",
              "    </tr>\n",
              "    <tr>\n",
              "      <th>3</th>\n",
              "      <td>8</td>\n",
              "    </tr>\n",
              "    <tr>\n",
              "      <th>0</th>\n",
              "      <td>6</td>\n",
              "    </tr>\n",
              "    <tr>\n",
              "      <th>4</th>\n",
              "      <td>5</td>\n",
              "    </tr>\n",
              "  </tbody>\n",
              "</table>\n",
              "</div><br><label><b>dtype:</b> int64</label>"
            ]
          },
          "metadata": {},
          "execution_count": 87
        }
      ],
      "source": [
        "feature_clusters['Cluster'].value_counts()"
      ]
    },
    {
      "cell_type": "code",
      "execution_count": 88,
      "id": "cd9e74d3-f98b-4f2c-9f55-f2cad25547cc",
      "metadata": {
        "id": "cd9e74d3-f98b-4f2c-9f55-f2cad25547cc",
        "outputId": "bec33d24-ae0f-4a07-c636-d7838b24e7f6",
        "colab": {
          "base_uri": "https://localhost:8080/"
        }
      },
      "outputs": [
        {
          "output_type": "stream",
          "name": "stdout",
          "text": [
            "Cluster 0:\n",
            "  chkhemo3\n",
            "  diabeye1\n",
            "  diabtype\n",
            "  eyeexam1\n",
            "  feetsore\n",
            "  insulin1\n",
            "\n",
            "Cluster 1:\n",
            "  _drdxar2\n",
            "  _michd\n",
            "  _sex\n",
            "  asbirduc\n",
            "  cstate1\n",
            "  diabete4\n",
            "  pdiabts1\n",
            "  prediab2\n",
            "  pregnant\n",
            "  rmvteth4\n",
            "\n",
            "Cluster 2:\n",
            "  _age_g\n",
            "  _chispnc\n",
            "  _hcvu652\n",
            "  _hispanc\n",
            "  _lcsrec\n",
            "  _metstat\n",
            "  _phys14d\n",
            "  _rfhlth\n",
            "  _urbstat\n",
            "  cncrtyp2\n",
            "  medcost1\n",
            "  mscode\n",
            "  rrclass3\n",
            "  rrhcare4\n",
            "\n",
            "Cluster 3:\n",
            "  _bmi5cat\n",
            "  _smokgrp\n",
            "  _state\n",
            "  caregiv1\n",
            "  crgvalzd\n",
            "  crgvprb3\n",
            "  crgvrel4\n",
            "  lsatisfy\n",
            "\n",
            "Cluster 4:\n",
            "  _incomg1\n",
            "  _raceg22\n",
            "  _rfbing6\n",
            "  _rfdrhv8\n",
            "  priminsr\n",
            "\n"
          ]
        }
      ],
      "source": [
        "# Sort feature_clusters by 'Feature'\n",
        "sorted_feature_clusters = feature_clusters.sort_values(by=['Feature'])\n",
        "\n",
        "# Create clusters_summary from the sorted DataFrame\n",
        "clusters_summary = sorted_feature_clusters.groupby('Cluster')['Feature'].apply(list)\n",
        "\n",
        "# Loop through each unique cluster and print sorted features\n",
        "for cluster, features in clusters_summary.items():\n",
        "    print(f\"Cluster {cluster}:\")\n",
        "    for feature in features:\n",
        "        print(f\"  {feature}\")\n",
        "    print()  # Blank line for better readability"
      ]
    },
    {
      "cell_type": "markdown",
      "id": "2efdb7d7-298b-4bbf-ab5d-683587352ca5",
      "metadata": {
        "id": "2efdb7d7-298b-4bbf-ab5d-683587352ca5"
      },
      "source": [
        "### diabete4 Correlation\n",
        "\n",
        "Let's check which features are highly correlated with our target variable, diabete4. We can already get a glimpse of this based on which features were included in the same cluster as the target."
      ]
    },
    {
      "cell_type": "code",
      "execution_count": 90,
      "id": "b80fbb07-be7d-4db7-8d09-7cf6fd276d62",
      "metadata": {
        "id": "b80fbb07-be7d-4db7-8d09-7cf6fd276d62",
        "outputId": "388f4355-93a2-4747-b92b-cef2868c78e8",
        "colab": {
          "base_uri": "https://localhost:8080/"
        }
      },
      "outputs": [
        {
          "output_type": "stream",
          "name": "stdout",
          "text": [
            "Correlations with 'diabete4':\n",
            "diabete4    1.000000\n",
            "prediab2    0.227082\n",
            "pdiabts1    0.157076\n",
            "rmvteth4    0.126222\n",
            "_drdxar2    0.114558\n",
            "_michd      0.110260\n",
            "pregnant    0.092717\n",
            "cstate1     0.078653\n",
            "_incomg1    0.072352\n",
            "priminsr    0.038291\n",
            "_rfbing6    0.032106\n",
            "_hispanc    0.026075\n",
            "_rfdrhv8    0.025682\n",
            "_smokgrp    0.018150\n",
            "medcost1    0.018050\n",
            "_raceg22    0.012576\n",
            "rrclass3    0.010136\n",
            "_sex        0.005764\n",
            "asbirduc    0.000783\n",
            "crgvprb3   -0.003862\n",
            "rrhcare4   -0.004091\n",
            "crgvalzd   -0.004617\n",
            "crgvrel4   -0.005537\n",
            "caregiv1   -0.005647\n",
            "_state     -0.006623\n",
            "_urbstat   -0.009253\n",
            "lsatisfy   -0.013308\n",
            "_metstat   -0.015660\n",
            "_chispnc   -0.019846\n",
            "cncrtyp2   -0.021573\n",
            "Name: diabete4, dtype: float64\n",
            "_smokgrp    0.018150\n",
            "medcost1    0.018050\n",
            "_raceg22    0.012576\n",
            "rrclass3    0.010136\n",
            "_sex        0.005764\n",
            "asbirduc    0.000783\n",
            "crgvprb3   -0.003862\n",
            "rrhcare4   -0.004091\n",
            "crgvalzd   -0.004617\n",
            "crgvrel4   -0.005537\n",
            "caregiv1   -0.005647\n",
            "_state     -0.006623\n",
            "_urbstat   -0.009253\n",
            "lsatisfy   -0.013308\n",
            "_metstat   -0.015660\n",
            "_chispnc   -0.019846\n",
            "cncrtyp2   -0.021573\n",
            "mscode     -0.060082\n",
            "_phys14d   -0.072958\n",
            "_lcsrec    -0.096815\n",
            "_bmi5cat   -0.109473\n",
            "_rfhlth    -0.122371\n",
            "_hcvu652   -0.123555\n",
            "chkhemo3   -0.163754\n",
            "_age_g     -0.183294\n",
            "diabeye1   -0.320260\n",
            "eyeexam1   -0.329582\n",
            "diabtype   -0.335620\n",
            "insulin1   -0.371270\n",
            "feetsore   -0.384525\n",
            "Name: diabete4, dtype: float64\n",
            "\n",
            "Highly correlated features with 'diabete4':\n",
            "Series([], Name: diabete4, dtype: float64)\n"
          ]
        }
      ],
      "source": [
        "# Compute correlation matrix\n",
        "correlation_matrix = df.corr()\n",
        "\n",
        "# Extract correlations with 'diabete4'\n",
        "diabete4_corr = correlation_matrix['diabete4'].sort_values(ascending=False)\n",
        "\n",
        "# Print correlations with 'diabete4'\n",
        "print(\"Correlations with 'diabete4':\")\n",
        "print(diabete4_corr.head(30))\n",
        "print(diabete4_corr.tail(30))\n",
        "\n",
        "# Filter out the target variable itself (if you don't want to include it)\n",
        "high_corr_features = diabete4_corr[diabete4_corr.index != 'diabete4']\n",
        "\n",
        "# Display highly correlated features (e.g., correlation > 0.5 or < -0.5)\n",
        "high_corr_features = high_corr_features[(high_corr_features > 0.5) | (high_corr_features < -0.5)]\n",
        "print(\"\\nHighly correlated features with 'diabete4':\")\n",
        "print(high_corr_features)"
      ]
    },
    {
      "cell_type": "markdown",
      "id": "b8512bb8-7bdb-46d1-b4c7-7c0da8a30ffe",
      "metadata": {
        "id": "b8512bb8-7bdb-46d1-b4c7-7c0da8a30ffe"
      },
      "source": [
        "##### Change Threshold\n",
        "\n",
        "Right now, there don't seem to be any features highly correlated with our target. This could change as we continue to drop more from the dataframe. For now, let's set a smaller threshold from 0.5 and -0.5"
      ]
    },
    {
      "cell_type": "code",
      "execution_count": 91,
      "id": "68644d13-dd56-43b5-bba0-f0e48977faab",
      "metadata": {
        "id": "68644d13-dd56-43b5-bba0-f0e48977faab",
        "outputId": "d3b31f76-c556-46eb-bcc3-8964ef3d54fb",
        "colab": {
          "base_uri": "https://localhost:8080/"
        }
      },
      "outputs": [
        {
          "output_type": "stream",
          "name": "stdout",
          "text": [
            "\n",
            "Highly correlated features with 'diabete4':\n",
            "prediab2    0.227082\n",
            "pdiabts1    0.157076\n",
            "rmvteth4    0.126222\n",
            "_drdxar2    0.114558\n",
            "_michd      0.110260\n",
            "_bmi5cat   -0.109473\n",
            "_rfhlth    -0.122371\n",
            "_hcvu652   -0.123555\n",
            "chkhemo3   -0.163754\n",
            "_age_g     -0.183294\n",
            "diabeye1   -0.320260\n",
            "eyeexam1   -0.329582\n",
            "diabtype   -0.335620\n",
            "insulin1   -0.371270\n",
            "feetsore   -0.384525\n",
            "Name: diabete4, dtype: float64\n"
          ]
        }
      ],
      "source": [
        "# Filter out the target variable itself (if you don't want to include it)\n",
        "high_corr_features = diabete4_corr[diabete4_corr.index != 'diabete4']\n",
        "\n",
        "# Display highly correlated features (e.g., correlation > 0.5 or < -0.5)\n",
        "high_corr_features = high_corr_features[(high_corr_features > 0.1) | (high_corr_features < -0.1)]\n",
        "print(\"\\nHighly correlated features with 'diabete4':\")\n",
        "print(high_corr_features)"
      ]
    },
    {
      "cell_type": "markdown",
      "id": "274a21aa-0b4a-43b1-af23-6bf62f08ccce",
      "metadata": {
        "id": "274a21aa-0b4a-43b1-af23-6bf62f08ccce"
      },
      "source": [
        "Breakdown of these features below...by adding their question and answer values to the dictionary codebook key."
      ]
    },
    {
      "cell_type": "code",
      "execution_count": null,
      "id": "8c1fb535-ccb4-4103-9f79-a5f837c6dfcd",
      "metadata": {
        "id": "8c1fb535-ccb4-4103-9f79-a5f837c6dfcd"
      },
      "outputs": [],
      "source": [
        "# ADDING ONLY FEATURES NOT ALREADY IN DICT\n",
        "\n",
        "# List of highly correlated feature names in their original order\n",
        "highly_correlated_features = [\n",
        "    'prediab2',\n",
        "    'pdiabts1',\n",
        "    'rmvteth4',\n",
        "    '_drdxar2',\n",
        "    '_michd',\n",
        "    '_bmi5cat',\n",
        "    '_rfhlth',\n",
        "    '_hcvu652',\n",
        "    'chkhemo3',\n",
        "    '_age_g',\n",
        "    'diabeye1',\n",
        "    'eyeexam1',\n",
        "    'diabtype',\n",
        "    'insulin1',\n",
        "    'feetsore'\n",
        "]\n",
        "\n",
        "# Convert codebook_keys to a set for quick lookup\n",
        "codebook_keys_set = set(codebook_key.keys())\n",
        "\n",
        "# Filter features to remove those already in codebook_key, maintaining order\n",
        "filtered_features = [feature for feature in highly_correlated_features if feature not in codebook_keys_set]\n",
        "\n",
        "# Print the filtered list\n",
        "print(\"Features highly correlated with 'diabete4' but not in codebook_key, in original order:\")\n",
        "print(filtered_features)"
      ]
    },
    {
      "cell_type": "code",
      "execution_count": null,
      "id": "757de276-fe7b-4359-9442-57d235b80774",
      "metadata": {
        "id": "757de276-fe7b-4359-9442-57d235b80774"
      },
      "outputs": [],
      "source": [
        "# ADDING FEATURE QUESTIONS TO DICTIONARY CODEBOOK KEY\n",
        "\n",
        "codebook_key['prediab2'] = {\n",
        "    'Question':  'Has a doctor or other health professional ever told you that you had prediabetes or borderline diabetes? (If “Y es” and respondent is female, ask: “Was this only when you were pregnant?\"',\n",
        "    'Answers': {\n",
        "        1: 'Yes',\n",
        "        2: 'Yes, during pregnancy',\n",
        "        3: 'No',\n",
        "        7: 'Dont know/Not sure',\n",
        "        9: 'Refused',\n",
        "        0: 'Missing',\n",
        "    }\n",
        "}\n",
        "\n",
        "codebook_key['pdiabts1'] = {\n",
        "    'Question': 'When was the last time you had a blood test for high blood sugar or diabetes by a doctor, nurse, or other health professional?',\n",
        "    'Answers': {\n",
        "        1: 'Within the past year (anytime less than 12 months ago)',\n",
        "        2: 'Within the past 2 years (1 year but less than 2 years)',\n",
        "        3: 'Within the past 3 years (2 years but less than 3 years)',\n",
        "        4: 'Within the past 5 years (3 to 4 years but less than 5 years ago)',\n",
        "        5: 'Within the past 10 years (5 to 9 years but less than 10 years ago)',\n",
        "        6: '10 or more years ago',\n",
        "        7: 'Dont know/Not sure',\n",
        "        8: 'Never',\n",
        "        9: 'Refused',\n",
        "        0: 'Not asked or Missing',\n",
        "    }\n",
        "}\n",
        "\n",
        "codebook_key['rmvteth4'] = {\n",
        "    'Question': 'Not including teeth lost for injury or orthodontics, how many of your permanent teeth have been removed because of tooth decay or gum disease?',\n",
        "    'Answers': {\n",
        "        1: '1 to 5',\n",
        "        2: '6 or more, but not all',\n",
        "        3: 'All',\n",
        "        7: 'Dont know/Not sure',\n",
        "        8: 'None',\n",
        "        9: 'Refused',\n",
        "        0: 'Not asked or Missing'\n",
        "    }\n",
        "}\n",
        "\n",
        "codebook_key['_drdxar2'] = {\n",
        "    'Question': 'Respondents who have had a doctor diagnose them as having some form of arthritis',\n",
        "    'Answers': {\n",
        "        1: 'Diagnosed with arthritis',\n",
        "        2: 'Not diagnosed with arthritis',\n",
        "        0: 'Dont know/Not Sure/Refused/Missing'\n",
        "    }\n",
        "}\n",
        "\n",
        "codebook_key['_michd'] = {\n",
        "    'Question': 'Respondents that have ever reported having coronary heart disease (CHD) or myocardial infarction (MI)',\n",
        "    'Answers': {\n",
        "        1: 'Reported having MI or CHD',\n",
        "        2: 'Did not report having MI or CHD',\n",
        "        0: 'Not asked or Missing'\n",
        "    }\n",
        "}\n",
        "\n",
        "\n",
        "codebook_key['_hcvu652'] = {\n",
        "    'Question': 'Respondents aged 18-64 who have any form of health insurance',\n",
        "    'Answers': {\n",
        "        1: 'Have some form of health insurance',\n",
        "        2: 'Do not have any form of health insurance',\n",
        "        9: 'Dont know/Not Sure, Refused or Missing'\n",
        "    }\n",
        "}\n",
        "\n",
        "codebook_key['chkhemo3'] = {\n",
        "    'Question': 'About how many times in the past 12 months has a doctor, nurse, or other health professional checked you for A-one-C?',\n",
        "    'Answers': {\n",
        "        '1-76': 'Number of times [76=76 or more]',\n",
        "        '88': 'None',\n",
        "        'NOTES': '_ _ Number of times, 76 = 76 or more'\n",
        "    }\n",
        "}\n",
        "\n",
        "codebook_key['diabeye1'] = {\n",
        "    'Question': 'When was the last time a doctor, nurse or other health professional took a photo of the back of your eye with a specialized camera?',\n",
        "    'Answers': {\n",
        "        1: 'Within the past month (anytime less than 1 month ago)',\n",
        "        2: 'Within the past year (1 month but less than 12 months ago)',\n",
        "        3: 'Within the past 2 years (1 year but less than 2 years ago)',\n",
        "        4: '2 or more years ago',\n",
        "        7: 'Dont know/Not sure',\n",
        "        8: 'Never',\n",
        "        9: 'Refused',\n",
        "        0: 'Not asked or Missing'\n",
        "    }\n",
        "}\n",
        "\n",
        "codebook_key['eyeexam1'] = {\n",
        "    'Question': 'When was the last time you had an eye exam in which the pupils were dilated, making you temporarily sensitive to bright light?',\n",
        "    'Answers': {\n",
        "        1: 'Within the past month (anytime less than 1 month ago)',\n",
        "        2: 'Within the past year (1 month but less than 12 months ago)',\n",
        "        3: 'Within the past 2 years (1 year but less than 2 years ago)',\n",
        "        4: '2 or more years ago',\n",
        "        7: 'Dont know/Not sure',\n",
        "        8: 'Never',\n",
        "        9: 'Refused',\n",
        "        0: 'Not asked or Missing'\n",
        "    }\n",
        "}\n",
        "\n",
        "codebook_key['diabtype'] = {\n",
        "    'Question': 'According to your doctor or other health professional, what type of diabetes do you have?',\n",
        "    'Answers': {\n",
        "        1: 'Type 1',\n",
        "        2: 'Type 2',\n",
        "        7: 'Dont know/Not Sure',\n",
        "        9: 'Refused',\n",
        "        0: 'Not asked or Missing'\n",
        "    }\n",
        "}\n",
        "\n",
        "codebook_key['insulin1'] = {\n",
        "    'Question': 'Are you now taking insulin?',\n",
        "    'Answers': {\n",
        "        1: 'Yes',\n",
        "        2: 'No',\n",
        "        7: 'Dont know/Not Sure',\n",
        "        9: 'Refused',\n",
        "        0: 'Not asked or Missing',\n",
        "    }\n",
        "}\n",
        "\n",
        "codebook_key['feetsore'] = {\n",
        "    'Question': 'Have you ever had any sores or irritations on your feet that took more than four weeks to heal?',\n",
        "    'Answers': {\n",
        "        1: 'Yes',\n",
        "        2: 'No',\n",
        "        7: 'Dont know/Not sure',\n",
        "        9: 'Refused',\n",
        "        0: 'Not asked or MIssing'\n",
        "    }\n",
        "}\n",
        "\n",
        "# Adding 'pregnant' using domain knowledge and codebook\n"
      ]
    },
    {
      "cell_type": "code",
      "execution_count": null,
      "id": "7df633a6-9af8-4754-baa0-54149af705c0",
      "metadata": {
        "id": "7df633a6-9af8-4754-baa0-54149af705c0"
      },
      "outputs": [],
      "source": [
        "codebook_key"
      ]
    },
    {
      "cell_type": "code",
      "execution_count": null,
      "id": "d595af03-531d-4b77-9e41-eb7c9ce0583d",
      "metadata": {
        "id": "d595af03-531d-4b77-9e41-eb7c9ce0583d"
      },
      "outputs": [],
      "source": [
        "# _hcvu652"
      ]
    },
    {
      "cell_type": "markdown",
      "id": "e20d66f7-db43-4dbd-8491-2ed55fdccd34",
      "metadata": {
        "id": "e20d66f7-db43-4dbd-8491-2ed55fdccd34"
      },
      "source": [
        "## Symptoms vs Predictors\n",
        "\n",
        "There are clearly some medical features that are symptoms & treatments of diabetes that has already been diagnosed and/or progressed, rather than predictive warning signs of other medical ailments that could eventually lead to diabetes.\n",
        "\n",
        "For example -- 'insulin1': 'Are you now taking insulin?\"; and 'feetsore': Have you ever had any sores or irritiations on your feet that took more than four weeks to heal?' are attributes that a person who already has diabetes (whether knowingly or unknowingly) is very likely to posess. I'm looking for genetic and medical factors that are likely to have existed before someones awareness of their diabetes, that might have helped cause it.\n",
        "\n",
        "We need to drop these as well. They might be helpful to bring back after our final results to contextualize our findings. We'll group them into a new dataframe 'symptoms', to keep track of them.\n",
        "\n",
        "Let's go through all the remaining features in out dataframe, that have not yet been updloaded to codebook_key...to make sure we've covered all of our bases. There might be too many to add the rest of them to the dictionary right now, but I'll highlight anyones that are relevant."
      ]
    },
    {
      "cell_type": "markdown",
      "id": "56f59c0e-2300-4b76-9436-60d4a73849b3",
      "metadata": {
        "id": "56f59c0e-2300-4b76-9436-60d4a73849b3"
      },
      "source": [
        "#### Symptoms/Effects: insulin1, feetsore, diabtype, diabeye1, pdiabts1,"
      ]
    },
    {
      "cell_type": "code",
      "execution_count": 92,
      "id": "19b4f32d-4379-4b1d-a98e-13cefc7cf0cb",
      "metadata": {
        "id": "19b4f32d-4379-4b1d-a98e-13cefc7cf0cb"
      },
      "outputs": [],
      "source": [
        "# Columns to move\n",
        "columns_to_move = ['insulin1', 'feetsore', 'diabtype', 'diabeye1', 'pdiabts1']\n",
        "\n",
        "# Create new DataFrame with the specified columns\n",
        "symptoms = df[columns_to_move].copy()\n",
        "\n",
        "# Drop these columns from the original DataFrame\n",
        "df = df.drop(columns=columns_to_move)"
      ]
    },
    {
      "cell_type": "code",
      "execution_count": null,
      "id": "be1b4845-baeb-4562-89df-e60c144fc5cf",
      "metadata": {
        "id": "be1b4845-baeb-4562-89df-e60c144fc5cf"
      },
      "outputs": [],
      "source": [
        "df_columns = df.keys()\n",
        "codebook_columns = codebook_key.keys()\n",
        "\n",
        "# Find columns in fsm that are not in codebook\n",
        "missing_columns = [col for col in df_columns if col not in codebook_columns]\n",
        "\n",
        "# Print the missing columns\n",
        "print(\"Columns in 'fsm' that are NOT in 'codebook':\")\n",
        "for col in missing_columns:\n",
        "    print(col)"
      ]
    },
    {
      "cell_type": "markdown",
      "id": "c1975c3d-0dc7-4f59-bece-ace8a4cf9dac",
      "metadata": {
        "id": "c1975c3d-0dc7-4f59-bece-ace8a4cf9dac"
      },
      "source": [
        "There aren't any other features above that should be included in our new 'symptoms' category. We'll just include the features initially outlined and already moved to 'symptoms'."
      ]
    },
    {
      "cell_type": "markdown",
      "id": "cc5520a6-3a56-4143-a2a6-4e7fa2e3a9f2",
      "metadata": {
        "id": "cc5520a6-3a56-4143-a2a6-4e7fa2e3a9f2"
      },
      "source": [
        "## Dropping Features\n",
        "\n",
        "As I went through the features above in the codebook, I found a few more that we can drop due to irrelvancy, or more organized features of an identical category already existing in the dataframe."
      ]
    },
    {
      "cell_type": "code",
      "execution_count": 95,
      "id": "8cbffa6c-83f3-4f3e-abd5-575944516573",
      "metadata": {
        "id": "8cbffa6c-83f3-4f3e-abd5-575944516573"
      },
      "outputs": [],
      "source": [
        "# Dropping irrelvant columns\n",
        "columns_to_drop = ['cstate1', 'caregiv1', 'crgvalzd', 'rrclass3', '_urbstat', '_metstat', '_chispnc',]\n",
        "\n",
        "# Drop the specified columns\n",
        "df = df.drop(columns=columns_to_drop)"
      ]
    },
    {
      "cell_type": "markdown",
      "source": [
        "## Adding Behavioral & Lifestyle Factors\n",
        "\n",
        "Now that I've narrowed down the genetic features slightly, I'll add in the behavioral and lifestyle factors that are high-risk for developing diabetes.\n",
        "\n",
        "#### _totinda\n",
        "\n",
        "Survey Question: Adults who reported doing physical activity or exercise during the past 30 days other than their regular job\n",
        "\n",
        "Answer Values..."
      ],
      "metadata": {
        "id": "mzG9HShm9OAB"
      },
      "id": "mzG9HShm9OAB"
    },
    {
      "cell_type": "code",
      "source": [
        "# ADDING TO DICTIONARY CODEBOOK KEY\n",
        "codebook_key['_totinda'] = {\n",
        "    'Question': 'Adults who reported doing physical activity or exercise during the past 30 days other than their regular job',\n",
        "    'Answers': {\n",
        "        1: 'Had physical activity or exercise',\n",
        "        2: 'No physical activity or exercise in last 30 days',\n",
        "        9: 'Dont know/Refused/Missing',\n",
        "    }\n",
        "}\n",
        "\n",
        "# Adding to dataframe\n",
        "df['_totinda'] = data['_totinda']"
      ],
      "metadata": {
        "id": "9keYwYqv98iT"
      },
      "id": "9keYwYqv98iT",
      "execution_count": null,
      "outputs": []
    },
    {
      "cell_type": "code",
      "source": [
        "# Adding to dataframe\n",
        "df['_totinda'] = data['_TOTINDA']"
      ],
      "metadata": {
        "id": "fgO5ssxp-j63"
      },
      "id": "fgO5ssxp-j63",
      "execution_count": 97,
      "outputs": []
    },
    {
      "cell_type": "markdown",
      "source": [
        "#### sdhstre1\n",
        "\n",
        "Survey Question: Stress means a situation in which a person feels tense, restless, nervous, or anxious, or is unable to sleep at night because his/her mind is troubled all the time...Within the last 30 days, how often have you felt this kind of stress?\n",
        "\n",
        "Answer Values..."
      ],
      "metadata": {
        "id": "BfomoJuI-2s4"
      },
      "id": "BfomoJuI-2s4"
    },
    {
      "cell_type": "code",
      "source": [
        "# ADDING TO DICTIONARY CODEBOOK KEY\n",
        "codebook_key['sdhstre1'] = {\n",
        "    'Question': 'Stress means a situation in which a person feels tense, restless, nervous, or anxious, or is unable to sleep at night because his/her mind is troubled all the time...Within the last 30 days, how often have you felt this kind of stress?',\n",
        "    'Answers': {\n",
        "        1: 'Always',\n",
        "        2: 'Usualy',\n",
        "        3: 'Sometimes',\n",
        "        4: 'Rarely',\n",
        "        5: 'Never\n",
        "        7: 'Dont know/Not Sure',\n",
        "        9: 'Refused',\n",
        "        'BLANK': 'Not asked or Missing'\n",
        "    }\n",
        "}"
      ],
      "metadata": {
        "id": "Sabg_NJg_YD0"
      },
      "id": "Sabg_NJg_YD0",
      "execution_count": null,
      "outputs": []
    },
    {
      "cell_type": "code",
      "source": [
        "df['sdhstre1'] = data['SDHSTRE1']"
      ],
      "metadata": {
        "id": "_w4EJZRx_qZv"
      },
      "id": "_w4EJZRx_qZv",
      "execution_count": 99,
      "outputs": []
    },
    {
      "cell_type": "markdown",
      "source": [
        "#### Dropping 'lsatisfy'\n",
        "\n",
        "'lsatisfy' - In general, how satisfied are you with your life? - was included because I thought it might be an indicator of a person's discontent, which could help determine their level of stress.\n",
        "\n",
        "'sdhstre1' is a much better and clearer indentifier of stress-levels in a person."
      ],
      "metadata": {
        "id": "MUoz6YbaB24Z"
      },
      "id": "MUoz6YbaB24Z"
    },
    {
      "cell_type": "code",
      "source": [
        "# Dropping 'lsatisfy' from dataframe\n",
        "df = df.drop(columns=['lsatisfy'])"
      ],
      "metadata": {
        "id": "dq5xmgdDCRuK"
      },
      "id": "dq5xmgdDCRuK",
      "execution_count": null,
      "outputs": []
    },
    {
      "cell_type": "markdown",
      "source": [
        "#### sleptim1\n",
        "\n",
        "Survey Question: On average, how many hours of sleep do you get in a 24-hour period?\n",
        "\n",
        "Answer Values..."
      ],
      "metadata": {
        "id": "oC_f4LTM_2lP"
      },
      "id": "oC_f4LTM_2lP"
    },
    {
      "cell_type": "code",
      "source": [
        "codebook_key['sleptim1'] = {\n",
        "    'Question': 'On average, how many hours of sleep do you get in a 24-hour period?',\n",
        "    'Answers': {\n",
        "        '1-24': 'Number of hours [1-24]',\n",
        "        77: 'Dont know/Not Sure',\n",
        "        99: 'Refused',\n",
        "        'BLANK': 'Missing',\n",
        "    }\n",
        "}"
      ],
      "metadata": {
        "id": "kjQLplLB_9TZ"
      },
      "id": "kjQLplLB_9TZ",
      "execution_count": null,
      "outputs": []
    },
    {
      "cell_type": "code",
      "source": [
        "df['sleptim1'] = data['SLEPTIM1']"
      ],
      "metadata": {
        "id": "3b7cP01QAMUR"
      },
      "id": "3b7cP01QAMUR",
      "execution_count": 100,
      "outputs": []
    },
    {
      "cell_type": "markdown",
      "source": [
        "#### sdhfood1\n",
        "\n",
        "Survey Question: During the past 12 months how often did the food that you bought not last, and you didn’t have money to get more? Was that…\n",
        "\n",
        "Answer Values..."
      ],
      "metadata": {
        "id": "poD_3D-SAWdP"
      },
      "id": "poD_3D-SAWdP"
    },
    {
      "cell_type": "code",
      "source": [
        "codebook_key['sdhfood1'] = {\n",
        "    'Question': 'During the past 12 months how often did the food that you bought not last, and you didn’t have money to get more? Was that…',\n",
        "    'Answers': {\n",
        "        1: 'Always',\n",
        "        2: 'Usualy',\n",
        "        3: 'Sometimes',\n",
        "        4: 'Rarely',\n",
        "        5: 'Never',\n",
        "        7: 'Dont know/Not Sure',\n",
        "        9: 'Refused',\n",
        "        'BLANK': 'Not asked or Missing'\n",
        "    }\n",
        "}"
      ],
      "metadata": {
        "id": "E7SsOhwiAcFn"
      },
      "id": "E7SsOhwiAcFn",
      "execution_count": null,
      "outputs": []
    },
    {
      "cell_type": "code",
      "source": [
        "df['sdhfood1'] = data['SDHFOOD1']"
      ],
      "metadata": {
        "id": "Ms439IXIAjZL"
      },
      "id": "Ms439IXIAjZL",
      "execution_count": 103,
      "outputs": []
    },
    {
      "cell_type": "code",
      "source": [
        "df.keys()"
      ],
      "metadata": {
        "colab": {
          "base_uri": "https://localhost:8080/"
        },
        "id": "oVsmnoEzBApT",
        "outputId": "1b40b62e-3bc9-4cbb-9df7-6cbe93969162"
      },
      "id": "oVsmnoEzBApT",
      "execution_count": 104,
      "outputs": [
        {
          "output_type": "execute_result",
          "data": {
            "text/plain": [
              "Index(['priminsr', 'medcost1', 'rmvteth4', 'pregnant', '_state', 'prediab2',\n",
              "       'diabete4', 'chkhemo3', 'eyeexam1', 'cncrtyp2', 'crgvrel4', 'crgvprb3',\n",
              "       'lsatisfy', 'asbirduc', 'rrhcare4', 'mscode', '_rfhlth', '_phys14d',\n",
              "       '_hcvu652', '_michd', '_drdxar2', '_hispanc', '_raceg22', '_sex',\n",
              "       '_age_g', '_bmi5cat', '_incomg1', '_smokgrp', '_lcsrec', '_rfbing6',\n",
              "       '_rfdrhv8', '_totinda', 'sdhstre1', 'sleptim1', 'sdhfood1'],\n",
              "      dtype='object')"
            ]
          },
          "metadata": {},
          "execution_count": 104
        }
      ]
    },
    {
      "cell_type": "markdown",
      "source": [
        "## Feature Engineering\n",
        "\n",
        "Now that we have a narrowed selection of features to use for a baseline model, we need to make sure the features themselves are tailored to providing the information most-relevant to predicting diabetes.\n",
        "\n",
        "For example, **'cncrtyp2'** identifies what type, if any, of cancer a person has been diagnosed, with a long list of options. However, **pancreatic cancer** and **breast cancer** are the main predictors of diabetes in this grouping that I want to isolate to use for my model. I can create a new column that uses 'cncrtyp2' to identify whether a person's been diagnosed with either of these cancers, then drop the original 'cncrtyp2' column.\n",
        "\n",
        "We can than evaluate all of our columns, to identify any other opportunities for similar feature engineering."
      ],
      "metadata": {
        "id": "0JQDxxEbEzrG"
      },
      "id": "0JQDxxEbEzrG"
    },
    {
      "cell_type": "markdown",
      "source": [
        "#### **Pancreatic or Breast Cancer**"
      ],
      "metadata": {
        "id": "Q17k6RNML92C"
      },
      "id": "Q17k6RNML92C"
    },
    {
      "cell_type": "code",
      "source": [
        "# Define the function to determine 'cncr_risk'\n",
        "def determine_cncr_risk(value):\n",
        "    if value == 5:\n",
        "        return 1\n",
        "    elif value == 19:\n",
        "        return 2\n",
        "    elif value in [77, 99] or pd.isna(value):\n",
        "        return 0\n",
        "    else:\n",
        "        return 3\n",
        "\n",
        "# Apply the function to create the 'cncr_risk' column\n",
        "df['cncr_risk'] = df['cncrtyp2'].apply(determine_cncr_risk)\n",
        "\n",
        "df = df.drop(columns=['cncrtyp2'])"
      ],
      "metadata": {
        "id": "fUuyHJvnFxyS"
      },
      "id": "fUuyHJvnFxyS",
      "execution_count": 105,
      "outputs": []
    },
    {
      "cell_type": "code",
      "source": [
        "# ADDING TO DICTIONARY CODEBOOK KEY\n",
        "codebook_key['cncr_risk'] = {\n",
        "    'Question': 'Breast or Pancreatic Cancer?',\n",
        "    'Answers': {\n",
        "        1: 'Breast Cancer',\n",
        "        2: 'Pancreatic Cancer',\n",
        "        3: 'Other Cancer',\n",
        "        0: 'Dont know/Not Sure/Refused/Missing'\n",
        "    }\n",
        "}"
      ],
      "metadata": {
        "id": "Oogc_-dbHDqW"
      },
      "id": "Oogc_-dbHDqW",
      "execution_count": null,
      "outputs": []
    },
    {
      "cell_type": "markdown",
      "source": [
        "#### **Gum Disease**\n",
        "\n",
        "'rmvteth4' identifies how many teeth a person has had removed due to tooth decay or gum disease...We want to use this to identify whether a person has had gum disease and/or inflammation at all. The number of teeth removed is not relevant."
      ],
      "metadata": {
        "id": "YQibRrIWHDEd"
      },
      "id": "YQibRrIWHDEd"
    },
    {
      "cell_type": "code",
      "source": [
        "# Define the function to determine 'gum_disease'\n",
        "def determine_gum_disease(value):\n",
        "    if value in [1, 2, 3]:\n",
        "        return 1\n",
        "    elif value == 8:\n",
        "        return 2\n",
        "    else:\n",
        "        return 0\n",
        "\n",
        "# Apply the function to create the 'gum_disease' column\n",
        "df['gum_disease'] = df['rmvteth4'].apply(determine_gum_disease)\n",
        "\n",
        "df = df.drop(columns=['rmvteth4'])"
      ],
      "metadata": {
        "id": "kQqWFiYqHrjR"
      },
      "id": "kQqWFiYqHrjR",
      "execution_count": 106,
      "outputs": []
    },
    {
      "cell_type": "code",
      "source": [
        "codebook_key['gum_disease'] = {\n",
        "    'Question': 'Any teeth removed due to tooth decay or gum disease?',\n",
        "    'Answers': {\n",
        "        1: 'Yes',\n",
        "        2: 'No',\n",
        "        0: 'Dont know/Not Sure/Refused/Missing'\n",
        "    }\n",
        "}"
      ],
      "metadata": {
        "id": "KN_F2KV1JAf1"
      },
      "id": "KN_F2KV1JAf1",
      "execution_count": null,
      "outputs": []
    },
    {
      "cell_type": "markdown",
      "source": [
        "#### **Family History**\n",
        "\n",
        "Next, I can use the columns which ask a survey respondent whether or not they provide care for a person with an illness or disability...to identify whether this person is a close family member (biological parent or sibling), and whether or not they have diabetes."
      ],
      "metadata": {
        "id": "leFKoMxdIZQH"
      },
      "id": "leFKoMxdIZQH"
    },
    {
      "cell_type": "code",
      "source": [
        "# Define the function to determine 'fam_diabhist'\n",
        "def determine_fam_diabhist(row):\n",
        "    if row['crgvrel4'] in [1, 2, 9, 10] and row['crgvprb3'] == 7:\n",
        "        return 1\n",
        "    else:\n",
        "        return 0\n",
        "\n",
        "# Apply the function to create the 'fam_diabhist' column\n",
        "df['fam_diabhist'] = df.apply(determine_fam_diabhist, axis=1)\n",
        "df = df.drop(columns=['crgvrel4', 'crgvprb3'])"
      ],
      "metadata": {
        "id": "lloWe5gHIorb"
      },
      "id": "lloWe5gHIorb",
      "execution_count": 107,
      "outputs": []
    },
    {
      "cell_type": "markdown",
      "id": "c12ec5ea-3f0f-43aa-af12-76843cd21eca",
      "metadata": {
        "id": "c12ec5ea-3f0f-43aa-af12-76843cd21eca"
      },
      "source": [
        "## Answer Simplification & Consolidation\n",
        "\n",
        "\n",
        "\n",
        "### 'Dont know/Not Sure, Refused or Missing' : 0\n",
        "\n",
        "For example...right now there's no uniformity to the way blank data is categorized. In some columns, 'Dont know', 'Not sure', 'Refused', 'Missing' and 'BLANK' all fall under one designated answer values. In others, they fall under separate values. In some columns these are all given a value of '9' as designated by the original codebook, in others they're imputed by myself with a value of 0.\n",
        "\n",
        "9 is sometimes used as a real value in other answers, and is not a uniform imputation for missingness across the entire dataset. I'm going to stick with **0** for now as a uniform placeholder designation, and be on the lookout for the few columns that use 0 as an actual value, as previously stated.\n",
        "\n",
        "I'm also going to **Combine Dont know, Not Sure, Refused, Missing, and Blank** under one category. This isn't a psychological study, it's a study to determine concrete predictors of diabetes. Therefore the nuances of why certain people might not know or might refuse to answer questions about their health is irrelevant for us, and is equivalent to missingness.\n",
        "\n",
        "Let's **convert everything first back to *NaN***, to get an accurate picture of what our dataframe looks like with these answer values combined. Then I can impute all the NaNs back to 0.\n",
        "\n",
        "I could try and write code off of the codebook_key dictionary alone, but not all of the columns have been included in this dictionary yet and it honestly might be faster for this particular task to perform a combination of referencing the codebook, the notebook markdowns, and the codebook_key dictionary all at the same time."
      ]
    },
    {
      "cell_type": "code",
      "execution_count": null,
      "id": "5dfb299a-e936-4d2b-95e3-59448106575d",
      "metadata": {
        "id": "5dfb299a-e936-4d2b-95e3-59448106575d"
      },
      "outputs": [],
      "source": [
        "codebook_key"
      ]
    },
    {
      "cell_type": "code",
      "execution_count": null,
      "id": "a9eef7c8-0783-44f3-a95c-5f5185328946",
      "metadata": {
        "id": "a9eef7c8-0783-44f3-a95c-5f5185328946"
      },
      "outputs": [],
      "source": [
        "fsm.keys()"
      ]
    },
    {
      "cell_type": "code",
      "execution_count": null,
      "id": "603aaa2c-bb1c-445d-b58f-e9fd50623db2",
      "metadata": {
        "id": "603aaa2c-bb1c-445d-b58f-e9fd50623db2"
      },
      "outputs": [],
      "source": [
        "fsm.info()"
      ]
    },
    {
      "cell_type": "code",
      "execution_count": null,
      "id": "958d8c7d-ec14-4c55-a052-40785a97681b",
      "metadata": {
        "id": "958d8c7d-ec14-4c55-a052-40785a97681b"
      },
      "outputs": [],
      "source": [
        "# Replace 0 values with NaN\n",
        "fsm.replace(0, np.nan, inplace=True)\n",
        "\n",
        "# Replace blank values with NaN\n",
        "fsm.replace('', np.nan, inplace=True)"
      ]
    },
    {
      "cell_type": "code",
      "execution_count": null,
      "id": "3ab38562-fd99-4fb3-b9a5-4b34ee594f84",
      "metadata": {
        "id": "3ab38562-fd99-4fb3-b9a5-4b34ee594f84"
      },
      "outputs": [],
      "source": [
        "# List of columns to update\n",
        "columns_to_update = ['priminsr', 'chkhemo3', 'cncrtyp2', 'csrvdoc1', 'crgvrel4', 'crgvprb3']\n",
        "\n",
        "# Replace 77.0 and 99.0 with NaN for specified columns\n",
        "fsm[columns_to_update] = fsm[columns_to_update].replace({77.0: np.nan, 99.0: np.nan})\n",
        "\n",
        "# Replace 98.0 and 99.0 with NaN in the 'cncrage' column\n",
        "fsm['cncrage'] = fsm['cncrage'].replace({98.0: np.nan, 99.0: np.nan})\n",
        "\n",
        "# Replace 7777.0 and 9999.0 with NaN in the 'height3' column\n",
        "fsm['height3'] = fsm['height3'].replace({7777.0: np.nan, 9999.0: np.nan})\n",
        "\n",
        "# List of columns to update\n",
        "columns_to_update = [\n",
        "    '_rfhlth', '_phys14d', '_hcvu652', '_asthms1',\n",
        "    '_hispanc', '_race1', '_incomg1', '_rfbing6', '_rfdrhv8'\n",
        "]\n",
        "\n",
        "# Replace 9.0 with NaN for specified columns\n",
        "fsm[columns_to_update] = fsm[columns_to_update].replace(9.0, np.nan)\n",
        "\n",
        "# List of columns to update\n",
        "columns_to_update = [\n",
        "    'medcost1', 'rmvteth4', 'cvdinfr4', 'cvdcrhd4', 'cvdstrk3',\n",
        "    'chcocnc1', 'pregnant', 'deaf', 'blind', 'decide', 'diffwalk',\n",
        "    'cervscrn', 'lcsctsc1', 'lcsscncr', 'prediab2', 'diabete4',\n",
        "    'eyeexam1', 'copdcogh', 'copdflem', 'copdbtst', 'cncrdiff',\n",
        "    'psatest1', 'cimemlos', 'lsatisfy', 'asbirduc', 'trnsgndr',\n",
        "    'rrhcare4'\n",
        "]\n",
        "\n",
        "# Replace 7.0 and 9.0 with NaN for specified columns\n",
        "fsm[columns_to_update] = fsm[columns_to_update].replace({7.0: np.nan, 9.0: np.nan})"
      ]
    },
    {
      "cell_type": "code",
      "execution_count": null,
      "id": "15a49793-6b37-4d68-a4a4-61e95e8bad26",
      "metadata": {
        "id": "15a49793-6b37-4d68-a4a4-61e95e8bad26"
      },
      "outputs": [],
      "source": [
        "# Get non-null counts for each column\n",
        "non_null_counts = fsm.notnull().sum()\n",
        "\n",
        "# Sort columns by non-null counts in ascending order\n",
        "sorted_columns = non_null_counts.sort_values().index\n",
        "\n",
        "# Reorder DataFrame columns based on sorted order\n",
        "fsm_sorted = fsm[sorted_columns]\n",
        "\n",
        "# Print info of the sorted DataFrame\n",
        "print(fsm_sorted.info())"
      ]
    },
    {
      "cell_type": "markdown",
      "id": "18c71398-6298-4849-b99a-d3634f0957ef",
      "metadata": {
        "id": "18c71398-6298-4849-b99a-d3634f0957ef"
      },
      "source": [
        "### Answer Value Consolidation\n",
        "\n",
        "We can further simplify some of our answer values by grouping their meanings into simpler, fewer categories.\n",
        "\n",
        "#### 'crgvrel4', 'crgvprb3'\n",
        "\n",
        "For example, 'crgvrel4' is Survey Question 'What is his or her relationship to you' regarding whether a person provides a caretaking role for another ill person.\n",
        "\n",
        "I'm including this column to be able to identify whether there are any genetic diseases a person could inherity from close biological family members, such as birth parents. This column currently has 17 different unique values, such as 'Live-in partner', 'non-relative/family friend', 'father-in-law', etc.\n",
        "\n",
        "I can consolidate these answers into two simple categories 'Immediate Family' and 'Other'. Then I can use these new simplified values to alter the column **'crgvprb3'**, which identifies 'What is the main health problem, long-term illness, or disability that the person you care for has?', and have it only include rows where the person is **caring for an immediate family member**. Then I can drop/NaN all irrelevant information.\n",
        "\n",
        "For 'crgvrel4', I'll classify *immediate family* as *mother, father, grandmother, or grandfather*."
      ]
    },
    {
      "cell_type": "code",
      "execution_count": null,
      "id": "873073d5-5ecc-4c7b-9351-d0aec6ac17e3",
      "metadata": {
        "id": "873073d5-5ecc-4c7b-9351-d0aec6ac17e3"
      },
      "outputs": [],
      "source": [
        "# 1 for immediate family member, 0 for other\n",
        "# Update 'crgvrel4' based on specified conditions\n",
        "fsm['crgvrel4'] = fsm['crgvrel4'].apply(lambda x: 1 if x in [1, 2, 11, 12] else 0)"
      ]
    },
    {
      "cell_type": "code",
      "execution_count": null,
      "id": "cd72c823-59ce-42ce-966c-da058185a5f9",
      "metadata": {
        "id": "cd72c823-59ce-42ce-966c-da058185a5f9"
      },
      "outputs": [],
      "source": [
        "# Set 'crgvprb3' to 0 where 'crgvrel4' is 0\n",
        "fsm.loc[fsm['crgvrel4'] == 0, 'crgvprb3'] = 0"
      ]
    },
    {
      "cell_type": "code",
      "execution_count": null,
      "id": "a359f267-3416-4f80-ab0c-005c39fda92d",
      "metadata": {
        "id": "a359f267-3416-4f80-ab0c-005c39fda92d"
      },
      "outputs": [],
      "source": [
        "# UPDATING CODEBOOK DICTIONARY KEY\n",
        "codebook_key['crgvprb3'] = {\n",
        "    'Question': 'What is the main health problem, long-term illness, or disability that the immediate family member you care for has?',\n",
        "    'Answer': {\n",
        "        1: 'Arthritis/ rheumatism',\n",
        "        2: 'Asthma',\n",
        "        3: 'Cancer',\n",
        "        4: 'Chronic respiratory conditions such as emphysema or COPD',\n",
        "        5: 'Alzheimers disease, dementia or other cognitive impairment disorder',\n",
        "        6: 'Developmental disabilities such as autism, Downs Syndrome, and spinabifida',\n",
        "        7: 'Diabetes',\n",
        "        8: 'Heart disease, hypertension, stroke',\n",
        "        9: 'Human Immunodeficiency Virus Infection (H.I.V.)',\n",
        "        10: 'Mental illnesses, such as anxiety, depression, or schizophrenia',\n",
        "        11: 'Other organ failure or diseases such as kidney or liver problems',\n",
        "        12: 'Substance abuse or addiction disorders',\n",
        "        13: 'Injuries, including broken bones',\n",
        "        14: 'Old age/ infirmity/frailty',\n",
        "        15: 'Other',\n",
        "        0: 'Dont know/Not Sure/Refused/Not asked or Missing'\n",
        "    }\n",
        "}"
      ]
    },
    {
      "cell_type": "code",
      "execution_count": null,
      "id": "03a78b24-824e-4ab9-9837-b32bc06b2df2",
      "metadata": {
        "id": "03a78b24-824e-4ab9-9837-b32bc06b2df2"
      },
      "outputs": [],
      "source": [
        "# Drop the 'crgvrel4' column\n",
        "fsm = fsm.drop(columns=['crgvrel4'])"
      ]
    },
    {
      "cell_type": "markdown",
      "id": "14496594-1f4a-4967-88c8-e7b5ed6d195c",
      "metadata": {
        "id": "14496594-1f4a-4967-88c8-e7b5ed6d195c"
      },
      "source": [
        "#### cncrage\n",
        "\n",
        "'cncrage' asks Survey Question 'At what age were you told that you had cancer?' with answer values ranging between 1-97.\n",
        "\n",
        "According to the ***National Cancer Institute***, 'advancing age is the most important risk factor for cancer overall'. To use this column to help determine whether a cancer is most likely due to the risk of age, VS. other genetic factors...Let's give this column two different values depending on whether or not the person was diagnosed with cancer ***before or after the median age of a cancer diagnosis: 66 years old***.\n",
        "\n",
        "We'll then change the meaning of this column to instead be 'Were you told you had cancer below the median age?', with 1 being 'Yes' and '2' being No."
      ]
    },
    {
      "cell_type": "code",
      "execution_count": null,
      "id": "b24055ff-5dd4-4e3f-ac78-efd459ccc788",
      "metadata": {
        "id": "b24055ff-5dd4-4e3f-ac78-efd459ccc788"
      },
      "outputs": [],
      "source": [
        "# Update 'cncrage' based on specified conditions\n",
        "fsm['cncrage'] = np.where(fsm['cncrage'] >= 1,\n",
        "                         np.where(fsm['cncrage'] < 66, 1, 2),\n",
        "                         fsm['cncrage'])"
      ]
    },
    {
      "cell_type": "code",
      "execution_count": null,
      "id": "450e0711-f013-4334-8fe2-48fc4096b1b5",
      "metadata": {
        "id": "450e0711-f013-4334-8fe2-48fc4096b1b5"
      },
      "outputs": [],
      "source": [
        "fsm.keys()"
      ]
    },
    {
      "cell_type": "markdown",
      "id": "5c3abeb5-830c-449c-a80b-5936d3351ad6",
      "metadata": {
        "id": "5c3abeb5-830c-449c-a80b-5936d3351ad6"
      },
      "source": [
        "### Correlated Features: K-Means Clustering\n",
        "\n",
        "Let's try printing clusters of correlated features again, now that we've narrowed focus."
      ]
    },
    {
      "cell_type": "code",
      "execution_count": null,
      "id": "22a2e255-bc0b-4f32-b4f7-5e377c7874a4",
      "metadata": {
        "id": "22a2e255-bc0b-4f32-b4f7-5e377c7874a4"
      },
      "outputs": [],
      "source": [
        "# Compute the correlation matrix\n",
        "correlation_matrix = fsm.corr()\n",
        "\n",
        "# Check for NaNs in the correlation matrix\n",
        "if correlation_matrix.isnull().values.any():\n",
        "    print(\"NaNs detected in the correlation matrix.\")\n",
        "    # Impute NaNs with 0 in the correlation matrix\n",
        "    imputer = SimpleImputer(strategy='constant', fill_value=0)\n",
        "    correlation_matrix = pd.DataFrame(imputer.fit_transform(correlation_matrix), index=correlation_matrix.index, columns=correlation_matrix.columns)\n",
        "\n",
        "# Flatten correlation matrix and standardize for clustering\n",
        "corr_matrix_flat = correlation_matrix.values\n",
        "scaler = StandardScaler()\n",
        "scaled_corr_matrix = scaler.fit_transform(corr_matrix_flat)\n",
        "\n",
        "# Perform K-Means clustering\n",
        "num_clusters = 5  # Specify the number of clusters\n",
        "kmeans = KMeans(n_clusters=num_clusters, random_state=0)\n",
        "clusters = kmeans.fit_predict(scaled_corr_matrix)\n",
        "\n",
        "# Create a DataFrame with cluster labels for each feature\n",
        "feature_clusters = pd.DataFrame({\n",
        "    'Feature': correlation_matrix.columns,\n",
        "    'Cluster': clusters\n",
        "})\n",
        "\n",
        "# Plot correlation matrices for each cluster\n",
        "for cluster in range(num_clusters):\n",
        "    # Get features in the current cluster\n",
        "    cluster_features = feature_clusters[feature_clusters['Cluster'] == cluster]['Feature']\n",
        "    cluster_corr_matrix = correlation_matrix.loc[cluster_features, cluster_features]\n",
        "\n",
        "    plt.figure(figsize=(8, 6))  # Set the size of the plot\n",
        "    sns.heatmap(cluster_corr_matrix, annot=True, cmap='coolwarm', vmin=-1, vmax=1, fmt='.2f', linewidths=0.5)\n",
        "    plt.title(f'Correlation Matrix for Cluster {cluster}')\n",
        "    plt.show()"
      ]
    },
    {
      "cell_type": "code",
      "execution_count": null,
      "id": "bb04c0ad-aa89-4db0-8ad9-a7488d4a3ec1",
      "metadata": {
        "id": "bb04c0ad-aa89-4db0-8ad9-a7488d4a3ec1"
      },
      "outputs": [],
      "source": [
        "# Sort feature_clusters by 'Feature'\n",
        "sorted_feature_clusters = feature_clusters.sort_values(by=['Feature'])\n",
        "\n",
        "# Create clusters_summary from the sorted DataFrame\n",
        "clusters_summary = sorted_feature_clusters.groupby('Cluster')['Feature'].apply(list)\n",
        "\n",
        "# Loop through each unique cluster and print sorted features\n",
        "for cluster, features in clusters_summary.items():\n",
        "    print(f\"Cluster {cluster}:\")\n",
        "    for feature in features:\n",
        "        print(f\"  {feature}\")\n",
        "    print()  # Blank line for better readability"
      ]
    },
    {
      "cell_type": "markdown",
      "id": "5aeebae0-469c-4293-b7d2-03f95eec05a3",
      "metadata": {
        "id": "5aeebae0-469c-4293-b7d2-03f95eec05a3"
      },
      "source": [
        "#### Highly correlated with diabete4"
      ]
    },
    {
      "cell_type": "code",
      "execution_count": null,
      "id": "d81d5e04-68cd-4ee7-8ccf-0a1517b7e322",
      "metadata": {
        "id": "d81d5e04-68cd-4ee7-8ccf-0a1517b7e322"
      },
      "outputs": [],
      "source": [
        "# Compute correlation matrix\n",
        "correlation_matrix = fsm.corr()\n",
        "\n",
        "# Extract correlations with 'diabete4'\n",
        "diabete4_corr = correlation_matrix['diabete4'].sort_values(ascending=False)\n",
        "\n",
        "# Print correlations with 'diabete4'\n",
        "print(\"Correlations with 'diabete4':\")\n",
        "print(diabete4_corr.head(30))\n",
        "print(diabete4_corr.tail(30))\n",
        "\n",
        "# Filter out the target variable itself (if you don't want to include it)\n",
        "high_corr_features = diabete4_corr[diabete4_corr.index != 'diabete4']\n",
        "\n",
        "# Display highly correlated features (e.g., correlation > 0.5 or < -0.5)\n",
        "high_corr_features = high_corr_features[(high_corr_features > 0.5) | (high_corr_features < -0.5)]\n",
        "print(\"\\nHighly correlated features with 'diabete4':\")\n",
        "print(high_corr_features)"
      ]
    },
    {
      "cell_type": "code",
      "execution_count": null,
      "id": "6196760b-94a7-4f96-a332-ca14e4639911",
      "metadata": {
        "id": "6196760b-94a7-4f96-a332-ca14e4639911"
      },
      "outputs": [],
      "source": [
        "# Filter out the target variable itself (if you don't want to include it)\n",
        "high_corr_features = diabete4_corr[diabete4_corr.index != 'diabete4']\n",
        "\n",
        "# Display highly correlated features (e.g., correlation > 0.5 or < -0.5)\n",
        "high_corr_features = high_corr_features[(high_corr_features > 0.1) | (high_corr_features < -0.1)]\n",
        "print(\"\\nHighly correlated features with 'diabete4':\")\n",
        "print(high_corr_features)"
      ]
    },
    {
      "cell_type": "markdown",
      "id": "1f6575f9-0104-49e9-87c2-ff01deebdf9d",
      "metadata": {
        "id": "1f6575f9-0104-49e9-87c2-ff01deebdf9d"
      },
      "source": [
        "#### No Correlation with diabete4\n",
        "\n",
        "Let's print the features that have the least correlation in either the positive or negative direction with our target. We might consider dropping these, depending on how well (or not well) our model runs.\n",
        "\n",
        "However, low correlation doesn't necessarily mean anything. **If the relationships are non-linear, the numbers below will not help us**."
      ]
    },
    {
      "cell_type": "code",
      "execution_count": null,
      "id": "78b919f4-bb43-4c8c-9e8d-ba70da3b251b",
      "metadata": {
        "id": "78b919f4-bb43-4c8c-9e8d-ba70da3b251b"
      },
      "outputs": [],
      "source": [
        "# Compute the correlation matrix\n",
        "correlation_matrix = fsm.corr()\n",
        "\n",
        "# Extract correlations with 'diabete4'\n",
        "diabete4_corr = correlation_matrix['diabete4']\n",
        "\n",
        "# Filter features with correlation less than 0.1 but greater than -0.1\n",
        "filtered_corr = diabete4_corr[(diabete4_corr < 0.1) & (diabete4_corr > -0.1)]\n",
        "\n",
        "# Sort the filtered correlations in ascending order\n",
        "sorted_corr = filtered_corr.sort_values(ascending=True)\n",
        "\n",
        "# Print feature names and their correlation values\n",
        "print(\"Features with correlation to 'diabete4' between -0.1 and 0.1 (sorted in ascending order):\")\n",
        "for feature, corr_value in sorted_corr.items():\n",
        "    print(f\"{feature}: {corr_value:.4f}\")"
      ]
    },
    {
      "cell_type": "markdown",
      "id": "e9cb9092-b3ed-440d-bb0e-929b407caeae",
      "metadata": {
        "id": "e9cb9092-b3ed-440d-bb0e-929b407caeae"
      },
      "source": [
        "# Modeling - Prepping Target\n",
        "\n",
        "There are so few NaNs in our target variable, diabete4, let's just drop those rows altogether."
      ]
    },
    {
      "cell_type": "code",
      "execution_count": null,
      "id": "9511a10d-ad94-4e9a-960e-b99371656c1c",
      "metadata": {
        "id": "9511a10d-ad94-4e9a-960e-b99371656c1c"
      },
      "outputs": [],
      "source": [
        "# Drop rows where 'diabete4' is NaN\n",
        "fsm = fsm.dropna(subset=['diabete4'])"
      ]
    },
    {
      "cell_type": "code",
      "execution_count": null,
      "id": "c6cbf3b7-3b16-4f1b-91d0-a21cec79b1fe",
      "metadata": {
        "id": "c6cbf3b7-3b16-4f1b-91d0-a21cec79b1fe"
      },
      "outputs": [],
      "source": [
        "# Impute all NaN values with 0\n",
        "fsm = fsm.fillna(0)"
      ]
    },
    {
      "cell_type": "markdown",
      "id": "94014409-4f97-4b56-a7a4-697804b6b04a",
      "metadata": {
        "id": "94014409-4f97-4b56-a7a4-697804b6b04a"
      },
      "source": [
        "## Binary Classification\n",
        "\n",
        "Let's double check our value counts to make sure we're running a baseline model that only determines whether someone does or does not have diabetes."
      ]
    },
    {
      "cell_type": "code",
      "execution_count": null,
      "id": "85e81ecc-8bc0-4ae5-ad6c-1e3b9858cb9c",
      "metadata": {
        "id": "85e81ecc-8bc0-4ae5-ad6c-1e3b9858cb9c"
      },
      "outputs": [],
      "source": [
        "fsm['diabete4'].value_counts()"
      ]
    },
    {
      "cell_type": "markdown",
      "id": "9406067e-a7bc-4ca9-8789-1713c08edacf",
      "metadata": {
        "id": "9406067e-a7bc-4ca9-8789-1713c08edacf"
      },
      "source": [
        "4 possible values in our target class. Let's use our codebook key dictionary to remind ourselves what they are, then keep only the concrete 'Yes' or 'No'."
      ]
    },
    {
      "cell_type": "code",
      "execution_count": null,
      "id": "94d0020d-ec22-4482-af81-3824bc7ed378",
      "metadata": {
        "id": "94d0020d-ec22-4482-af81-3824bc7ed378"
      },
      "outputs": [],
      "source": [
        "codebook_key"
      ]
    },
    {
      "cell_type": "markdown",
      "id": "e54dd464-a453-42c4-9d33-72d43a1720de",
      "metadata": {
        "id": "e54dd464-a453-42c4-9d33-72d43a1720de"
      },
      "source": [
        "##### 2: Only during pregnancy\n",
        "\n",
        "Let's drop 'Yes, but female told only during pregnancy' for now, since we can assume the direct cause and we need to make our models even simpler to be able to run for our FSM. We can always add this in later if we want to make the model more complex."
      ]
    },
    {
      "cell_type": "code",
      "execution_count": null,
      "id": "a98f206b-6b47-4354-8ac7-972174d8002c",
      "metadata": {
        "id": "a98f206b-6b47-4354-8ac7-972174d8002c"
      },
      "outputs": [],
      "source": [
        "# Filetering for only yes or no\n",
        "filtered = fsm[fsm['diabete4'].isin([1, 3])]"
      ]
    },
    {
      "cell_type": "markdown",
      "id": "26800bc0-8b9e-44c0-b12e-968ea54f0128",
      "metadata": {
        "id": "26800bc0-8b9e-44c0-b12e-968ea54f0128"
      },
      "source": [
        "# Multinomial Naive Bayes Classifier\n",
        "\n",
        "Logistic Regression is having problems running. Multinomial Naive Bayes usually runs faster on larger datasets. Let's try that one first.\n",
        "\n",
        "### Train Test Split"
      ]
    },
    {
      "cell_type": "code",
      "execution_count": null,
      "id": "af54421c-f77a-4740-9088-770b13873b7c",
      "metadata": {
        "id": "af54421c-f77a-4740-9088-770b13873b7c"
      },
      "outputs": [],
      "source": [
        "X = filtered.drop(columns=['diabete4'])\n",
        "y = filtered['diabete4']\n",
        "\n",
        "# Split the data into training and testing sets\n",
        "X_train, X_test, y_train, y_test = train_test_split(X, y, test_size=0.3, random_state=42)"
      ]
    },
    {
      "cell_type": "markdown",
      "id": "4366cdc7-6e73-4bd0-b052-bf3cb9de4bc2",
      "metadata": {
        "id": "4366cdc7-6e73-4bd0-b052-bf3cb9de4bc2"
      },
      "source": [
        "#### Class Imbalance: SMOTE\n",
        "\n",
        "Our class imbalance is severe enough, and this is a binary classification problem, so we'll use SMOTE to handle class imbalance."
      ]
    },
    {
      "cell_type": "code",
      "execution_count": null,
      "id": "773ddbd8-29d5-4d10-9303-bd9cb88f3793",
      "metadata": {
        "id": "773ddbd8-29d5-4d10-9303-bd9cb88f3793"
      },
      "outputs": [],
      "source": [
        "y_train.value_counts(normalize=True)"
      ]
    },
    {
      "cell_type": "code",
      "execution_count": null,
      "id": "1f34eabc-91ad-4e73-a810-db942f0e9529",
      "metadata": {
        "id": "1f34eabc-91ad-4e73-a810-db942f0e9529"
      },
      "outputs": [],
      "source": [
        "from imblearn.over_sampling import SMOTE\n",
        "from imblearn.pipeline import Pipeline\n",
        "from sklearn.naive_bayes import MultinomialNB\n",
        "from sklearn.model_selection import GridSearchCV, train_test_split\n",
        "from joblib import parallel_backend\n",
        "from sklearn.metrics import classification_report\n",
        "\n",
        "# Assuming 'filtered' DataFrame is already defined\n",
        "X = filtered.drop(columns=['diabete4'])\n",
        "y = filtered['diabete4']\n",
        "\n",
        "# Split the data into training and testing sets\n",
        "X_train, X_test, y_train, y_test = train_test_split(X, y, test_size=0.3, random_state=42)\n",
        "\n",
        "# Define the pipeline with SMOTE and MultinomialNB\n",
        "pipeline = Pipeline([\n",
        "    ('smote', SMOTE(random_state=42)),\n",
        "    ('mnb', MultinomialNB())\n",
        "])\n",
        "\n",
        "# Define the parameter grid\n",
        "param_grid = {\n",
        "    'mnb__alpha': [0.01, 0.1, 1, 10],\n",
        "    'mnb__fit_prior': [True, False]\n",
        "}\n",
        "\n",
        "# Initialize GridSearchCV with recall as the scoring metric\n",
        "with parallel_backend('loky'):\n",
        "    grid_search = GridSearchCV(\n",
        "        estimator=pipeline,\n",
        "        param_grid=param_grid,\n",
        "        cv=5,\n",
        "        scoring='recall_weighted',  # Use recall as the primary metric\n",
        "        n_jobs=-1,  # Use all available cores\n",
        "        verbose=1  # Print progress\n",
        "    )\n",
        "\n",
        "    # Fit GridSearchCV\n",
        "    grid_search.fit(X_train, y_train)\n",
        "\n",
        "    # Print best parameters and best score\n",
        "    print(f\"Best parameters: {grid_search.best_params_}\")\n",
        "    print(f\"Best recall score: {grid_search.best_score_:.4f}\")\n",
        "\n",
        "    # Evaluate on test data\n",
        "    y_pred = grid_search.best_estimator_.predict(X_test)\n",
        "    print(classification_report(y_test, y_pred))"
      ]
    },
    {
      "cell_type": "code",
      "execution_count": null,
      "id": "576f2bd9-8431-4389-86ba-cbb0ea517b92",
      "metadata": {
        "id": "576f2bd9-8431-4389-86ba-cbb0ea517b92"
      },
      "outputs": [],
      "source": [
        "import pandas as pd\n",
        "from sklearn.model_selection import train_test_split\n",
        "from sklearn.linear_model import LogisticRegression\n",
        "from sklearn.preprocessing import StandardScaler\n",
        "from sklearn.metrics import recall_score, classification_report\n",
        "from imblearn.over_sampling import SMOTE\n",
        "from imblearn.pipeline import Pipeline\n",
        "\n",
        "# Example DataFrame 'fsm' (replace this with your actual DataFrame)\n",
        "# fsm = pd.read_csv('your_data.csv')  # Load your dataset\n",
        "\n",
        "# Define your target variable\n",
        "target = 'diabete4'  # Replace with your actual target variable name\n",
        "\n",
        "# Separate features and target variable\n",
        "X = filtered.drop(columns=[target])\n",
        "y = filtered[target]\n",
        "\n",
        "# Split the data into training and testing sets\n",
        "X_train, X_test, y_train, y_test = train_test_split(X, y, test_size=0.3, random_state=42)\n",
        "\n",
        "# Check class distribution\n",
        "print(\"Class distribution in training set:\")\n",
        "print(y_train.value_counts())\n",
        "\n",
        "# Adjust SMOTE parameters if needed\n",
        "smote = SMOTE(sampling_strategy='auto', k_neighbors=min(5, y_train.value_counts().min() - 1), random_state=42)\n",
        "\n",
        "# Create a pipeline with SMOTE and StandardScaler\n",
        "pipeline = Pipeline([\n",
        "    ('scaler', StandardScaler()),  # Feature scaling\n",
        "    ('smote', smote),  # Handling class imbalance\n",
        "    ('model', LogisticRegression(max_iter=1000, random_state=42))  # Logistic Regression model\n",
        "])\n",
        "\n",
        "# Train the model\n",
        "pipeline.fit(X_train, y_train)\n",
        "\n",
        "# Make predictions\n",
        "y_pred = pipeline.predict(X_test)\n",
        "\n",
        "# Evaluate the model using recall\n",
        "recall = recall_score(y_test, y_pred, average='weighted')  # 'weighted' for multiclass classification\n",
        "print(f'Recall Score: {recall:.4f}')\n",
        "\n",
        "# Print detailed classification report\n",
        "print(classification_report(y_test, y_pred))\n"
      ]
    },
    {
      "cell_type": "code",
      "source": [],
      "metadata": {
        "id": "5ooSKNqGTGuG"
      },
      "id": "5ooSKNqGTGuG",
      "execution_count": null,
      "outputs": []
    }
  ],
  "metadata": {
    "kernelspec": {
      "display_name": "Python 3 (ipykernel)",
      "language": "python",
      "name": "python3"
    },
    "language_info": {
      "codemirror_mode": {
        "name": "ipython",
        "version": 3
      },
      "file_extension": ".py",
      "mimetype": "text/x-python",
      "name": "python",
      "nbconvert_exporter": "python",
      "pygments_lexer": "ipython3",
      "version": "3.10.14"
    },
    "colab": {
      "provenance": []
    }
  },
  "nbformat": 4,
  "nbformat_minor": 5
}